{
 "cells": [
  {
   "cell_type": "code",
   "execution_count": 13,
   "metadata": {},
   "outputs": [],
   "source": [
    "import pandas as pd\n",
    "import numpy as np\n",
    "import codecs\n",
    "\n",
    "import os\n",
    "import ctypes\n",
    "import time\n",
    "from matplotlib import pyplot as plt\n",
    "\n",
    "import collections\n",
    "from collections import Counter\n",
    "\n",
    "import csv\n",
    "from operator import itemgetter\n",
    "\n",
    "import networkx as nx\n",
    "import networkx as nx\n",
    "from networkx.algorithms import community\n",
    "\n",
    "from itertools import combinations"
   ]
  },
  {
   "cell_type": "markdown",
   "metadata": {},
   "source": [
    "# Paper2Paper Layer"
   ]
  },
  {
   "cell_type": "code",
   "execution_count": 14,
   "metadata": {},
   "outputs": [
    {
     "name": "stdout",
     "output_type": "stream",
     "text": [
      "(3784, 2) (2083, 3) (1245, 3) (486, 3)\n"
     ]
    },
    {
     "data": {
      "text/html": [
       "<div>\n",
       "<style scoped>\n",
       "    .dataframe tbody tr th:only-of-type {\n",
       "        vertical-align: middle;\n",
       "    }\n",
       "\n",
       "    .dataframe tbody tr th {\n",
       "        vertical-align: top;\n",
       "    }\n",
       "\n",
       "    .dataframe thead th {\n",
       "        text-align: right;\n",
       "    }\n",
       "</style>\n",
       "<table border=\"1\" class=\"dataframe\">\n",
       "  <thead>\n",
       "    <tr style=\"text-align: right;\">\n",
       "      <th></th>\n",
       "      <th>OG_PAPER</th>\n",
       "      <th>REF_PAPER</th>\n",
       "    </tr>\n",
       "  </thead>\n",
       "  <tbody>\n",
       "    <tr>\n",
       "      <th>0</th>\n",
       "      <td>10.1016/j.ifset.2010.06.006</td>\n",
       "      <td>10.1016/j.ifset.2009.08.014</td>\n",
       "    </tr>\n",
       "    <tr>\n",
       "      <th>1</th>\n",
       "      <td>10.1016/j.desal.2010.04.063</td>\n",
       "      <td>10.1016/j.desal.2009.09.030</td>\n",
       "    </tr>\n",
       "    <tr>\n",
       "      <th>2</th>\n",
       "      <td>10.1016/j.jhazmat.2010.05.073</td>\n",
       "      <td>10.1016/j.jhazmat.2008.11.037</td>\n",
       "    </tr>\n",
       "    <tr>\n",
       "      <th>3</th>\n",
       "      <td>10.1021/op100157q</td>\n",
       "      <td>10.1021/op0501444</td>\n",
       "    </tr>\n",
       "    <tr>\n",
       "      <th>4</th>\n",
       "      <td>10.1088/0004-637X/718/1/543</td>\n",
       "      <td>10.1086/605730</td>\n",
       "    </tr>\n",
       "  </tbody>\n",
       "</table>\n",
       "</div>"
      ],
      "text/plain": [
       "                        OG_PAPER                      REF_PAPER\n",
       "0    10.1016/j.ifset.2010.06.006    10.1016/j.ifset.2009.08.014\n",
       "1    10.1016/j.desal.2010.04.063    10.1016/j.desal.2009.09.030\n",
       "2  10.1016/j.jhazmat.2010.05.073  10.1016/j.jhazmat.2008.11.037\n",
       "3              10.1021/op100157q              10.1021/op0501444\n",
       "4    10.1088/0004-637X/718/1/543                 10.1086/605730"
      ]
     },
     "execution_count": 14,
     "metadata": {},
     "output_type": "execute_result"
    }
   ],
   "source": [
    "#import dataset\n",
    "df_p2p = pd.read_csv('NETWORK_P2P_t=full.csv')\n",
    "df_p2p_2019_2013 = pd.read_csv('NETWORK_P2P_t=2019_2013.csv')\n",
    "df_p2p_2012_2006 = pd.read_csv('NETWORK_P2P_t=2012_2006.csv')\n",
    "df_p2p_2005_1999 = pd.read_csv('NETWORK_P2P_t=2005_1999.csv')\n",
    "\n",
    "print(df_p2p.shape, df_p2p_2019_2013.shape, df_p2p_2012_2006.shape, df_p2p_2005_1999.shape)\n",
    "df_p2p.head()"
   ]
  },
  {
   "cell_type": "code",
   "execution_count": 15,
   "metadata": {},
   "outputs": [],
   "source": [
    "def p2p_mux(df):\n",
    "    df['layer1'] = 1\n",
    "    df['layer2'] = 1\n",
    "    df = df[['OG_PAPER','layer1','REF_PAPER','layer2']]\n",
    "    df.columns = ['From','layer1','To','layer2']\n",
    "    df.From = df.From.str.strip()\n",
    "    df.To = df.To.str.strip()   \n",
    "    return df"
   ]
  },
  {
   "cell_type": "code",
   "execution_count": 16,
   "metadata": {},
   "outputs": [
    {
     "name": "stdout",
     "output_type": "stream",
     "text": [
      "(3784, 4) (2083, 4) (1245, 4) (486, 4)\n"
     ]
    },
    {
     "name": "stderr",
     "output_type": "stream",
     "text": [
      "/opt/anaconda/envs/Python3/lib/python3.6/site-packages/pandas/core/generic.py:5303: SettingWithCopyWarning: \n",
      "A value is trying to be set on a copy of a slice from a DataFrame.\n",
      "Try using .loc[row_indexer,col_indexer] = value instead\n",
      "\n",
      "See the caveats in the documentation: https://pandas.pydata.org/pandas-docs/stable/user_guide/indexing.html#returning-a-view-versus-a-copy\n",
      "  self[name] = value\n"
     ]
    },
    {
     "data": {
      "text/html": [
       "<div>\n",
       "<style scoped>\n",
       "    .dataframe tbody tr th:only-of-type {\n",
       "        vertical-align: middle;\n",
       "    }\n",
       "\n",
       "    .dataframe tbody tr th {\n",
       "        vertical-align: top;\n",
       "    }\n",
       "\n",
       "    .dataframe thead th {\n",
       "        text-align: right;\n",
       "    }\n",
       "</style>\n",
       "<table border=\"1\" class=\"dataframe\">\n",
       "  <thead>\n",
       "    <tr style=\"text-align: right;\">\n",
       "      <th></th>\n",
       "      <th>From</th>\n",
       "      <th>layer1</th>\n",
       "      <th>To</th>\n",
       "      <th>layer2</th>\n",
       "    </tr>\n",
       "  </thead>\n",
       "  <tbody>\n",
       "    <tr>\n",
       "      <th>0</th>\n",
       "      <td>10.1016/j.ifset.2010.06.006</td>\n",
       "      <td>1</td>\n",
       "      <td>10.1016/j.ifset.2009.08.014</td>\n",
       "      <td>1</td>\n",
       "    </tr>\n",
       "    <tr>\n",
       "      <th>1</th>\n",
       "      <td>10.1016/j.desal.2010.04.063</td>\n",
       "      <td>1</td>\n",
       "      <td>10.1016/j.desal.2009.09.030</td>\n",
       "      <td>1</td>\n",
       "    </tr>\n",
       "    <tr>\n",
       "      <th>2</th>\n",
       "      <td>10.1016/j.jhazmat.2010.05.073</td>\n",
       "      <td>1</td>\n",
       "      <td>10.1016/j.jhazmat.2008.11.037</td>\n",
       "      <td>1</td>\n",
       "    </tr>\n",
       "    <tr>\n",
       "      <th>3</th>\n",
       "      <td>10.1021/op100157q</td>\n",
       "      <td>1</td>\n",
       "      <td>10.1021/op0501444</td>\n",
       "      <td>1</td>\n",
       "    </tr>\n",
       "    <tr>\n",
       "      <th>4</th>\n",
       "      <td>10.1088/0004-637X/718/1/543</td>\n",
       "      <td>1</td>\n",
       "      <td>10.1086/605730</td>\n",
       "      <td>1</td>\n",
       "    </tr>\n",
       "  </tbody>\n",
       "</table>\n",
       "</div>"
      ],
      "text/plain": [
       "                            From  layer1                             To  \\\n",
       "0    10.1016/j.ifset.2010.06.006       1    10.1016/j.ifset.2009.08.014   \n",
       "1    10.1016/j.desal.2010.04.063       1    10.1016/j.desal.2009.09.030   \n",
       "2  10.1016/j.jhazmat.2010.05.073       1  10.1016/j.jhazmat.2008.11.037   \n",
       "3              10.1021/op100157q       1              10.1021/op0501444   \n",
       "4    10.1088/0004-637X/718/1/543       1                 10.1086/605730   \n",
       "\n",
       "   layer2  \n",
       "0       1  \n",
       "1       1  \n",
       "2       1  \n",
       "3       1  \n",
       "4       1  "
      ]
     },
     "execution_count": 16,
     "metadata": {},
     "output_type": "execute_result"
    }
   ],
   "source": [
    "df_p2p_mux_2019_2013 = p2p_mux(df_p2p_2019_2013)\n",
    "df_p2p_mux_2012_2006 = p2p_mux(df_p2p_2012_2006)\n",
    "df_p2p_mux_2005_1999 = p2p_mux(df_p2p_2005_1999)\n",
    "df_p2p_mux = p2p_mux(df_p2p)\n",
    "\n",
    "print(df_p2p_mux.shape, df_p2p_mux_2019_2013.shape, df_p2p_mux_2012_2006.shape, df_p2p_mux_2005_1999.shape)\n",
    "df_p2p_mux.head()"
   ]
  },
  {
   "cell_type": "markdown",
   "metadata": {},
   "source": [
    "# Author2Author Layer"
   ]
  },
  {
   "cell_type": "code",
   "execution_count": 17,
   "metadata": {},
   "outputs": [
    {
     "name": "stdout",
     "output_type": "stream",
     "text": [
      "(588682, 2) (253424, 2) (71333, 2) (32048, 2)\n"
     ]
    },
    {
     "data": {
      "text/html": [
       "<div>\n",
       "<style scoped>\n",
       "    .dataframe tbody tr th:only-of-type {\n",
       "        vertical-align: middle;\n",
       "    }\n",
       "\n",
       "    .dataframe tbody tr th {\n",
       "        vertical-align: top;\n",
       "    }\n",
       "\n",
       "    .dataframe thead th {\n",
       "        text-align: right;\n",
       "    }\n",
       "</style>\n",
       "<table border=\"1\" class=\"dataframe\">\n",
       "  <thead>\n",
       "    <tr style=\"text-align: right;\">\n",
       "      <th></th>\n",
       "      <th>OG_Author</th>\n",
       "      <th>REF_Author</th>\n",
       "    </tr>\n",
       "  </thead>\n",
       "  <tbody>\n",
       "    <tr>\n",
       "      <th>0</th>\n",
       "      <td>S. Norton</td>\n",
       "      <td>C. Decamps</td>\n",
       "    </tr>\n",
       "    <tr>\n",
       "      <th>1</th>\n",
       "      <td>S. Norton</td>\n",
       "      <td>S. Norton</td>\n",
       "    </tr>\n",
       "    <tr>\n",
       "      <th>2</th>\n",
       "      <td>S. Norton</td>\n",
       "      <td>D. Poncelet</td>\n",
       "    </tr>\n",
       "    <tr>\n",
       "      <th>3</th>\n",
       "      <td>S. Norton</td>\n",
       "      <td>R. J. Neufeld</td>\n",
       "    </tr>\n",
       "    <tr>\n",
       "      <th>4</th>\n",
       "      <td>D. Poncelet</td>\n",
       "      <td>C. Decamps</td>\n",
       "    </tr>\n",
       "  </tbody>\n",
       "</table>\n",
       "</div>"
      ],
      "text/plain": [
       "     OG_Author     REF_Author\n",
       "0    S. Norton     C. Decamps\n",
       "1    S. Norton      S. Norton\n",
       "2    S. Norton    D. Poncelet\n",
       "3    S. Norton  R. J. Neufeld\n",
       "4  D. Poncelet     C. Decamps"
      ]
     },
     "execution_count": 17,
     "metadata": {},
     "output_type": "execute_result"
    }
   ],
   "source": [
    "#import dataset\n",
    "df_a2a = pd.read_csv('NETWORK_A2A_t=full_finalfinal.csv')\n",
    "df_a2a_2019_2013 = pd.read_csv('NETWORK_A2A_t=2019_2013.csv')\n",
    "df_a2a_2012_2006 = pd.read_csv('NETWORK_A2A_t=2012_2006.csv')\n",
    "df_a2a_2005_1999 = pd.read_csv('NETWORK_A2A_t=2005_1999.csv')\n",
    "\n",
    "print(df_a2a.shape, df_a2a_2019_2013.shape, df_a2a_2012_2006.shape, df_a2a_2005_1999.shape)\n",
    "df_a2a.head()"
   ]
  },
  {
   "cell_type": "code",
   "execution_count": 18,
   "metadata": {},
   "outputs": [],
   "source": [
    "def a2a_mux(df):\n",
    "    df['layer1'] = 2\n",
    "    df['layer2'] = 2\n",
    "    df = df[['OG_Author','layer1','REF_Author','layer2']]\n",
    "    df.columns = ['From','layer1','To','layer2']\n",
    "    df.From = df.From.str.strip()\n",
    "    df.To = df.To.str.strip()   \n",
    "    return df"
   ]
  },
  {
   "cell_type": "code",
   "execution_count": 19,
   "metadata": {},
   "outputs": [
    {
     "name": "stdout",
     "output_type": "stream",
     "text": [
      "(588682, 4) (253424, 4) (71333, 4) (32048, 4)\n"
     ]
    },
    {
     "data": {
      "text/html": [
       "<div>\n",
       "<style scoped>\n",
       "    .dataframe tbody tr th:only-of-type {\n",
       "        vertical-align: middle;\n",
       "    }\n",
       "\n",
       "    .dataframe tbody tr th {\n",
       "        vertical-align: top;\n",
       "    }\n",
       "\n",
       "    .dataframe thead th {\n",
       "        text-align: right;\n",
       "    }\n",
       "</style>\n",
       "<table border=\"1\" class=\"dataframe\">\n",
       "  <thead>\n",
       "    <tr style=\"text-align: right;\">\n",
       "      <th></th>\n",
       "      <th>From</th>\n",
       "      <th>layer1</th>\n",
       "      <th>To</th>\n",
       "      <th>layer2</th>\n",
       "    </tr>\n",
       "  </thead>\n",
       "  <tbody>\n",
       "    <tr>\n",
       "      <th>0</th>\n",
       "      <td>S. Norton</td>\n",
       "      <td>2</td>\n",
       "      <td>C. Decamps</td>\n",
       "      <td>2</td>\n",
       "    </tr>\n",
       "    <tr>\n",
       "      <th>1</th>\n",
       "      <td>S. Norton</td>\n",
       "      <td>2</td>\n",
       "      <td>S. Norton</td>\n",
       "      <td>2</td>\n",
       "    </tr>\n",
       "    <tr>\n",
       "      <th>2</th>\n",
       "      <td>S. Norton</td>\n",
       "      <td>2</td>\n",
       "      <td>D. Poncelet</td>\n",
       "      <td>2</td>\n",
       "    </tr>\n",
       "    <tr>\n",
       "      <th>3</th>\n",
       "      <td>S. Norton</td>\n",
       "      <td>2</td>\n",
       "      <td>R. J. Neufeld</td>\n",
       "      <td>2</td>\n",
       "    </tr>\n",
       "    <tr>\n",
       "      <th>4</th>\n",
       "      <td>D. Poncelet</td>\n",
       "      <td>2</td>\n",
       "      <td>C. Decamps</td>\n",
       "      <td>2</td>\n",
       "    </tr>\n",
       "  </tbody>\n",
       "</table>\n",
       "</div>"
      ],
      "text/plain": [
       "          From  layer1             To  layer2\n",
       "0    S. Norton       2     C. Decamps       2\n",
       "1    S. Norton       2      S. Norton       2\n",
       "2    S. Norton       2    D. Poncelet       2\n",
       "3    S. Norton       2  R. J. Neufeld       2\n",
       "4  D. Poncelet       2     C. Decamps       2"
      ]
     },
     "execution_count": 19,
     "metadata": {},
     "output_type": "execute_result"
    }
   ],
   "source": [
    "df_a2a_mux_2019_2013 = a2a_mux(df_a2a_2019_2013)\n",
    "df_a2a_mux_2012_2006 = a2a_mux(df_a2a_2012_2006)\n",
    "df_a2a_mux_2005_1999 = a2a_mux(df_a2a_2005_1999)\n",
    "df_a2a_mux = a2a_mux(df_a2a)\n",
    "\n",
    "print(df_a2a_mux.shape, df_a2a_mux_2019_2013.shape, df_a2a_mux_2012_2006.shape, df_a2a_mux_2005_1999.shape)\n",
    "df_a2a_mux.head()"
   ]
  },
  {
   "cell_type": "markdown",
   "metadata": {},
   "source": [
    "# Co-Author Layer"
   ]
  },
  {
   "cell_type": "code",
   "execution_count": 20,
   "metadata": {},
   "outputs": [
    {
     "name": "stdout",
     "output_type": "stream",
     "text": [
      "(40230, 2) (16270, 2) (8740, 2) (3038, 2)\n"
     ]
    },
    {
     "data": {
      "text/html": [
       "<div>\n",
       "<style scoped>\n",
       "    .dataframe tbody tr th:only-of-type {\n",
       "        vertical-align: middle;\n",
       "    }\n",
       "\n",
       "    .dataframe tbody tr th {\n",
       "        vertical-align: top;\n",
       "    }\n",
       "\n",
       "    .dataframe thead th {\n",
       "        text-align: right;\n",
       "    }\n",
       "</style>\n",
       "<table border=\"1\" class=\"dataframe\">\n",
       "  <thead>\n",
       "    <tr style=\"text-align: right;\">\n",
       "      <th></th>\n",
       "      <th>Source</th>\n",
       "      <th>Target</th>\n",
       "    </tr>\n",
       "  </thead>\n",
       "  <tbody>\n",
       "    <tr>\n",
       "      <th>0</th>\n",
       "      <td>Decamps, C</td>\n",
       "      <td>Norton, S</td>\n",
       "    </tr>\n",
       "  </tbody>\n",
       "</table>\n",
       "</div>"
      ],
      "text/plain": [
       "       Source      Target\n",
       "0  Decamps, C   Norton, S"
      ]
     },
     "execution_count": 20,
     "metadata": {},
     "output_type": "execute_result"
    }
   ],
   "source": [
    "#import dataset\n",
    "df_co = pd.read_csv('NETWORK_Co-Author_t=full_final.csv')\n",
    "\n",
    "df_co_2019_2013 = pd.read_csv('NETWORK_Co-Author_t=2019_2013.csv')\n",
    "df_co_2012_2006 = pd.read_csv('NETWORK_Co-Author_t=2012_2006.csv')\n",
    "df_co_2005_1999 = pd.read_csv('NETWORK_Co-Author_t=2005_1999.csv')\n",
    "\n",
    "print(df_co.shape, df_co_2019_2013.shape, df_co_2012_2006.shape, df_co_2005_1999.shape)\n",
    "df_co.head(1)"
   ]
  },
  {
   "cell_type": "code",
   "execution_count": 21,
   "metadata": {},
   "outputs": [],
   "source": [
    "def co_mux(df):\n",
    "    df['layer1'] = 3\n",
    "    df['layer2'] = 3\n",
    "    df = df[['Source','layer1','Target','layer2']]\n",
    "    df.columns = ['From','layer1','To','layer2']\n",
    "    df.From = df.From.str.strip()\n",
    "    df.To = df.To.str.strip()   \n",
    "    return df"
   ]
  },
  {
   "cell_type": "code",
   "execution_count": 22,
   "metadata": {},
   "outputs": [
    {
     "name": "stdout",
     "output_type": "stream",
     "text": [
      "(40230, 4) (16270, 4) (8740, 4) (3038, 4)\n"
     ]
    },
    {
     "data": {
      "text/html": [
       "<div>\n",
       "<style scoped>\n",
       "    .dataframe tbody tr th:only-of-type {\n",
       "        vertical-align: middle;\n",
       "    }\n",
       "\n",
       "    .dataframe tbody tr th {\n",
       "        vertical-align: top;\n",
       "    }\n",
       "\n",
       "    .dataframe thead th {\n",
       "        text-align: right;\n",
       "    }\n",
       "</style>\n",
       "<table border=\"1\" class=\"dataframe\">\n",
       "  <thead>\n",
       "    <tr style=\"text-align: right;\">\n",
       "      <th></th>\n",
       "      <th>From</th>\n",
       "      <th>layer1</th>\n",
       "      <th>To</th>\n",
       "      <th>layer2</th>\n",
       "    </tr>\n",
       "  </thead>\n",
       "  <tbody>\n",
       "    <tr>\n",
       "      <th>0</th>\n",
       "      <td>Decamps, C</td>\n",
       "      <td>3</td>\n",
       "      <td>Norton, S</td>\n",
       "      <td>3</td>\n",
       "    </tr>\n",
       "    <tr>\n",
       "      <th>1</th>\n",
       "      <td>Decamps, C</td>\n",
       "      <td>3</td>\n",
       "      <td>Poncelet, D</td>\n",
       "      <td>3</td>\n",
       "    </tr>\n",
       "    <tr>\n",
       "      <th>2</th>\n",
       "      <td>Decamps, C</td>\n",
       "      <td>3</td>\n",
       "      <td>Neufeld, RJ</td>\n",
       "      <td>3</td>\n",
       "    </tr>\n",
       "    <tr>\n",
       "      <th>3</th>\n",
       "      <td>Norton, S</td>\n",
       "      <td>3</td>\n",
       "      <td>Poncelet, D</td>\n",
       "      <td>3</td>\n",
       "    </tr>\n",
       "    <tr>\n",
       "      <th>4</th>\n",
       "      <td>Norton, S</td>\n",
       "      <td>3</td>\n",
       "      <td>Neufeld, RJ</td>\n",
       "      <td>3</td>\n",
       "    </tr>\n",
       "  </tbody>\n",
       "</table>\n",
       "</div>"
      ],
      "text/plain": [
       "         From  layer1           To  layer2\n",
       "0  Decamps, C       3    Norton, S       3\n",
       "1  Decamps, C       3  Poncelet, D       3\n",
       "2  Decamps, C       3  Neufeld, RJ       3\n",
       "3   Norton, S       3  Poncelet, D       3\n",
       "4   Norton, S       3  Neufeld, RJ       3"
      ]
     },
     "execution_count": 22,
     "metadata": {},
     "output_type": "execute_result"
    }
   ],
   "source": [
    "df_co_mux_2019_2013 = co_mux(df_co_2019_2013)\n",
    "df_co_mux_2012_2006 = co_mux(df_co_2012_2006)\n",
    "df_co_mux_2005_1999 = co_mux(df_co_2005_1999)\n",
    "df_co_mux = co_mux(df_co)\n",
    "\n",
    "print(df_co_mux.shape, df_co_mux_2019_2013.shape, df_co_mux_2012_2006.shape, df_co_mux_2005_1999.shape)\n",
    "df_co_mux.head()"
   ]
  },
  {
   "cell_type": "markdown",
   "metadata": {},
   "source": [
    "# Link between layers"
   ]
  },
  {
   "cell_type": "code",
   "execution_count": 23,
   "metadata": {},
   "outputs": [
    {
     "name": "stdout",
     "output_type": "stream",
     "text": [
      "(15718, 4)\n"
     ]
    },
    {
     "data": {
      "text/html": [
       "<div>\n",
       "<style scoped>\n",
       "    .dataframe tbody tr th:only-of-type {\n",
       "        vertical-align: middle;\n",
       "    }\n",
       "\n",
       "    .dataframe tbody tr th {\n",
       "        vertical-align: top;\n",
       "    }\n",
       "\n",
       "    .dataframe thead th {\n",
       "        text-align: right;\n",
       "    }\n",
       "</style>\n",
       "<table border=\"1\" class=\"dataframe\">\n",
       "  <thead>\n",
       "    <tr style=\"text-align: right;\">\n",
       "      <th></th>\n",
       "      <th>From</th>\n",
       "      <th>layer1</th>\n",
       "      <th>To</th>\n",
       "      <th>layer2</th>\n",
       "    </tr>\n",
       "  </thead>\n",
       "  <tbody>\n",
       "    <tr>\n",
       "      <th>0</th>\n",
       "      <td>10.1109/taes.2010.5595582</td>\n",
       "      <td>1</td>\n",
       "      <td>Todd E. Humph</td>\n",
       "      <td>2</td>\n",
       "    </tr>\n",
       "  </tbody>\n",
       "</table>\n",
       "</div>"
      ],
      "text/plain": [
       "                        From  layer1             To  layer2\n",
       "0  10.1109/taes.2010.5595582       1  Todd E. Humph       2"
      ]
     },
     "execution_count": 23,
     "metadata": {},
     "output_type": "execute_result"
    }
   ],
   "source": [
    "#import dataset LINK 1-2\n",
    "df_link12 = pd.read_csv('SUPPORT_Co-Author_t=full_link12.csv')\n",
    "print(df_link12.shape)\n",
    "df_link12.head(1)"
   ]
  },
  {
   "cell_type": "code",
   "execution_count": 24,
   "metadata": {},
   "outputs": [],
   "source": [
    "#df_link12[df_link12['To']=='L. Bromberg']\n",
    "#df_link12[df_link12['To']=='T. Brown']"
   ]
  },
  {
   "cell_type": "code",
   "execution_count": 25,
   "metadata": {},
   "outputs": [
    {
     "name": "stdout",
     "output_type": "stream",
     "text": [
      "(15718, 4)\n"
     ]
    },
    {
     "data": {
      "text/html": [
       "<div>\n",
       "<style scoped>\n",
       "    .dataframe tbody tr th:only-of-type {\n",
       "        vertical-align: middle;\n",
       "    }\n",
       "\n",
       "    .dataframe tbody tr th {\n",
       "        vertical-align: top;\n",
       "    }\n",
       "\n",
       "    .dataframe thead th {\n",
       "        text-align: right;\n",
       "    }\n",
       "</style>\n",
       "<table border=\"1\" class=\"dataframe\">\n",
       "  <thead>\n",
       "    <tr style=\"text-align: right;\">\n",
       "      <th></th>\n",
       "      <th>From</th>\n",
       "      <th>layer1</th>\n",
       "      <th>To</th>\n",
       "      <th>layer2</th>\n",
       "    </tr>\n",
       "  </thead>\n",
       "  <tbody>\n",
       "    <tr>\n",
       "      <th>0</th>\n",
       "      <td>10.1109/taes.2010.5595582</td>\n",
       "      <td>1</td>\n",
       "      <td>Todd E. Humph</td>\n",
       "      <td>3</td>\n",
       "    </tr>\n",
       "  </tbody>\n",
       "</table>\n",
       "</div>"
      ],
      "text/plain": [
       "                        From  layer1             To  layer2\n",
       "0  10.1109/taes.2010.5595582       1  Todd E. Humph       3"
      ]
     },
     "execution_count": 25,
     "metadata": {},
     "output_type": "execute_result"
    }
   ],
   "source": [
    "#import dataset LINK 1-3\n",
    "df_link13 = pd.read_csv('SUPPORT_Co-Author_t=full_link13.csv')\n",
    "print(df_link13.shape)\n",
    "df_link13.head(1)"
   ]
  },
  {
   "cell_type": "markdown",
   "metadata": {},
   "source": [
    "----"
   ]
  },
  {
   "cell_type": "markdown",
   "metadata": {},
   "source": [
    "# MuxViz"
   ]
  },
  {
   "cell_type": "markdown",
   "metadata": {},
   "source": [
    "### Edgelist "
   ]
  },
  {
   "cell_type": "code",
   "execution_count": 26,
   "metadata": {},
   "outputs": [],
   "source": [
    "def edge(df_p2p_mux, df_a2a_mux, df_co_mux):\n",
    "    #combine all three network layers\n",
    "    df_edge = pd.concat([df_p2p_mux, df_a2a_mux, df_co_mux]) #, df_link12, df_link13])\n",
    "\n",
    "    #format strings\n",
    "    df_edge.From = df_edge.From.str.strip()\n",
    "    df_edge.To = df_edge.To.str.strip()\n",
    "\n",
    "    #df_edge.From = df_edge.From\n",
    "\n",
    "    #add weight columns, set = 1 since unweigthed network\n",
    "    df_edge['Weight'] = 1\n",
    "\n",
    "    #output\n",
    "    return df_edge"
   ]
  },
  {
   "cell_type": "code",
   "execution_count": 27,
   "metadata": {},
   "outputs": [
    {
     "data": {
      "text/plain": [
       "((632696, 5), (271777, 5), (81318, 5), (35572, 5))"
      ]
     },
     "execution_count": 27,
     "metadata": {},
     "output_type": "execute_result"
    }
   ],
   "source": [
    "df_edge = edge(df_p2p_mux, df_a2a_mux, df_co_mux)\n",
    "df_edge_2019_2013 = edge(df_p2p_mux_2019_2013, df_a2a_mux_2019_2013, df_co_mux_2019_2013)\n",
    "df_edge_2012_2006 = edge(df_p2p_mux_2012_2006, df_a2a_mux_2012_2006, df_co_mux_2012_2006)\n",
    "df_edge_2005_1999 = edge(df_p2p_mux_2005_1999, df_a2a_mux_2005_1999, df_co_mux_2005_1999)\n",
    "\n",
    "df_edge.shape, df_edge_2019_2013.shape, df_edge_2012_2006.shape, df_edge_2005_1999.shape"
   ]
  },
  {
   "cell_type": "markdown",
   "metadata": {},
   "source": [
    "### Layout file"
   ]
  },
  {
   "cell_type": "code",
   "execution_count": 28,
   "metadata": {},
   "outputs": [],
   "source": [
    "def muxviz_layout(df):\n",
    "    #rename both from and to into 'nodeLabel'\n",
    "    FROM = pd.DataFrame(df[\"From\"])\n",
    "    FROM = FROM.rename(columns={\"From\": \"nodeLabel\"})\n",
    "    \n",
    "    TO = pd.DataFrame(df[\"To\"])\n",
    "    TO = TO.rename(columns={\"To\": \"nodeLabel\"})\n",
    "    \n",
    "    #combine all labels\n",
    "    labels = FROM.append(TO)\n",
    "    \n",
    "    #format strings\n",
    "    labels.nodeLabel = labels.nodeLabel.str.strip()\n",
    "    \n",
    "    #drop duplicates\n",
    "    labels.drop_duplicates(subset =\"nodeLabel\", keep = \"first\", inplace = True) \n",
    "    \n",
    "    #create 'nodeID'\n",
    "    labels = labels.reset_index().drop(columns=['index']).reset_index().rename(columns={\"index\": \"nodeID\"})\n",
    "    labels['nodeID'] += 1\n",
    "    \n",
    "    return labels"
   ]
  },
  {
   "cell_type": "code",
   "execution_count": 29,
   "metadata": {},
   "outputs": [
    {
     "name": "stdout",
     "output_type": "stream",
     "text": [
      "(90153, 2) (39811, 2) (14193, 2) (6333, 2)\n"
     ]
    },
    {
     "data": {
      "text/html": [
       "<div>\n",
       "<style scoped>\n",
       "    .dataframe tbody tr th:only-of-type {\n",
       "        vertical-align: middle;\n",
       "    }\n",
       "\n",
       "    .dataframe tbody tr th {\n",
       "        vertical-align: top;\n",
       "    }\n",
       "\n",
       "    .dataframe thead th {\n",
       "        text-align: right;\n",
       "    }\n",
       "</style>\n",
       "<table border=\"1\" class=\"dataframe\">\n",
       "  <thead>\n",
       "    <tr style=\"text-align: right;\">\n",
       "      <th></th>\n",
       "      <th>nodeID</th>\n",
       "      <th>nodeLabel</th>\n",
       "    </tr>\n",
       "  </thead>\n",
       "  <tbody>\n",
       "    <tr>\n",
       "      <th>0</th>\n",
       "      <td>1</td>\n",
       "      <td>10.1016/j.ifset.2010.06.006</td>\n",
       "    </tr>\n",
       "    <tr>\n",
       "      <th>1</th>\n",
       "      <td>2</td>\n",
       "      <td>10.1016/j.desal.2010.04.063</td>\n",
       "    </tr>\n",
       "    <tr>\n",
       "      <th>2</th>\n",
       "      <td>3</td>\n",
       "      <td>10.1016/j.jhazmat.2010.05.073</td>\n",
       "    </tr>\n",
       "    <tr>\n",
       "      <th>3</th>\n",
       "      <td>4</td>\n",
       "      <td>10.1021/op100157q</td>\n",
       "    </tr>\n",
       "    <tr>\n",
       "      <th>4</th>\n",
       "      <td>5</td>\n",
       "      <td>10.1088/0004-637X/718/1/543</td>\n",
       "    </tr>\n",
       "  </tbody>\n",
       "</table>\n",
       "</div>"
      ],
      "text/plain": [
       "   nodeID                      nodeLabel\n",
       "0       1    10.1016/j.ifset.2010.06.006\n",
       "1       2    10.1016/j.desal.2010.04.063\n",
       "2       3  10.1016/j.jhazmat.2010.05.073\n",
       "3       4              10.1021/op100157q\n",
       "4       5    10.1088/0004-637X/718/1/543"
      ]
     },
     "execution_count": 29,
     "metadata": {},
     "output_type": "execute_result"
    }
   ],
   "source": [
    "df_layout = muxviz_layout(df_edge)\n",
    "df_layout_2019_2013 = muxviz_layout(df_edge_2019_2013)\n",
    "df_layout_2012_2006 = muxviz_layout(df_edge_2012_2006)\n",
    "df_layout_2005_1999 = muxviz_layout(df_edge_2005_1999)\n",
    "\n",
    "#output\n",
    "print(df_layout.shape, df_layout_2019_2013.shape, df_layout_2012_2006.shape, df_layout_2005_1999.shape)\n",
    "df_layout.head()"
   ]
  },
  {
   "cell_type": "code",
   "execution_count": 30,
   "metadata": {},
   "outputs": [],
   "source": [
    "#save layout file\n",
    "df_layout.to_csv('MUXVIZ/SUPPORT_MuxViz_layout_t=full.txt', header=True, index=False, sep=' ', mode='a')\n",
    "\n",
    "df_layout_2019_2013.to_csv('MUXVIZ/SUPPORT_MuxViz_layout_t=2019_2013.txt', header=True, index=False, sep=' ', mode='a')\n",
    "df_layout_2012_2006.to_csv('MUXVIZ/SUPPORT_MuxViz_layout_t=2012_2006.txt', header=True, index=False, sep=' ', mode='a')\n",
    "df_layout_2005_1999.to_csv('MUXVIZ/SUPPORT_MuxViz_layout_t=2005_1999.txt', header=True, index=False, sep=' ', mode='a')"
   ]
  },
  {
   "cell_type": "markdown",
   "metadata": {},
   "source": [
    "### Edgelist (w/ nodeID replacement)"
   ]
  },
  {
   "cell_type": "code",
   "execution_count": 31,
   "metadata": {},
   "outputs": [],
   "source": [
    "df_test_edge = df_edge.copy()\n",
    "df_test_edge_2019_2013 = df_edge_2019_2013.copy()\n",
    "df_test_edge_2012_2006 = df_edge_2012_2006.copy()\n",
    "df_test_edge_2005_1999 = df_edge_2005_1999.copy()\n",
    "\n",
    "df_test_layout = df_layout.copy()\n",
    "df_test_layout_2019_2013 = df_layout_2019_2013.copy()\n",
    "df_test_layout_2012_2006 = df_layout_2012_2006.copy()\n",
    "df_test_layout_2005_1999 = df_layout_2005_1999.copy()"
   ]
  },
  {
   "cell_type": "code",
   "execution_count": 32,
   "metadata": {},
   "outputs": [],
   "source": [
    "#df_test_edge_2012_2006[(df_test_edge_2012_2006['From']=='W. Gernjak') & (df_test_edge_2012_2006['layer1']==2)]"
   ]
  },
  {
   "cell_type": "code",
   "execution_count": 33,
   "metadata": {},
   "outputs": [],
   "source": [
    "def edge_nodeID(df_test_edge, df_test_layout):\n",
    "    #1st merge\n",
    "    #Change 'From'-value to noodeID - required for MuxViz\n",
    "    ##################################################################\n",
    "    df_test_edge_FROM = df_test_edge.rename({'From':'nodeLabel'}, axis=1)\n",
    "    df_merge_FROM = pd.merge(df_test_layout, df_test_edge_FROM, on='nodeLabel')\n",
    "\n",
    "    #drop nodeLabel\n",
    "    df_merge_FROM = df_merge_FROM.drop(['nodeLabel'], axis=1)\n",
    "\n",
    "    #rename to original column name (needed ofr second merge)\n",
    "    df_merge_FROM = df_merge_FROM.rename({'nodeID':'From'}, axis=1)\n",
    "\n",
    "    #clean dataframe\n",
    "    #df_merge_FROM = df_merge_FROM.reset_index().drop('index', axis=1)\n",
    "\n",
    "    #output\n",
    "    #print(df_merge_FROM.shape, df_merge_FROM.head(1))\n",
    "    \n",
    "    #2nd merge\n",
    "    #Change 'From'-value to noodeID - required for MuxViz\n",
    "    ##################################################################\n",
    "    df_merge_TO = df_merge_FROM.rename(columns={'To': \"nodeLabel\"})\n",
    "    df_merge_TO = pd.merge(df_test_layout, df_merge_TO, on='nodeLabel')\n",
    "\n",
    "    #drop nodeLabel\n",
    "    df_merge_TO = df_merge_TO.drop(['nodeLabel'], axis=1)\n",
    "\n",
    "    #rename to original column name (needed ofr second merge)\n",
    "    df_merge_TO = df_merge_TO.rename({'nodeID':'To'}, axis=1)\n",
    "\n",
    "    #clean dataframe\n",
    "    #df_merge_FROM = df_merge_FROM.reset_index().drop('index', axis=1)\n",
    "\n",
    "    #output\n",
    "    #print(df_merge_TO.shape, df_merge_TO.head(1))\n",
    "    \n",
    "    #final outout for edgelist w/ nodeID replacement\n",
    "    df_edge_nodeID = df_merge_TO.copy()\n",
    "    df_edge_nodeID = df_edge_nodeID[['From','layer1','To','layer2','Weight']]\n",
    "\n",
    "    #sort dataframe by 'From'-nodeID\n",
    "    df_edge_nodeID = df_edge_nodeID.sort_values(by='From', ascending=True, na_position='first')\n",
    "    df_edge_nodeID = df_edge_nodeID.reset_index().drop('index', axis=1)\n",
    "\n",
    "    #output\n",
    "    print(df_edge_nodeID.shape)\n",
    "    return df_edge_nodeID"
   ]
  },
  {
   "cell_type": "code",
   "execution_count": 34,
   "metadata": {},
   "outputs": [
    {
     "name": "stdout",
     "output_type": "stream",
     "text": [
      "(632696, 5)\n",
      "(271777, 5)\n",
      "(81318, 5)\n",
      "(35572, 5)\n"
     ]
    }
   ],
   "source": [
    "#timebins edge-list\n",
    "df_edge_nodeID = edge_nodeID(df_test_edge, df_test_layout)\n",
    "\n",
    "df_edge_nodeID_2019_2013 = edge_nodeID(df_test_edge_2019_2013, df_test_layout_2019_2013)\n",
    "df_edge_nodeID_2012_2006 = edge_nodeID(df_test_edge_2012_2006, df_test_layout_2012_2006)\n",
    "df_edge_nodeID_2005_1999 = edge_nodeID(df_test_edge_2005_1999, df_test_layout_2005_1999)"
   ]
  },
  {
   "cell_type": "code",
   "execution_count": 35,
   "metadata": {},
   "outputs": [],
   "source": [
    "#df_edge_nodeID[df_edge_nodeID['From']=='']"
   ]
  },
  {
   "cell_type": "code",
   "execution_count": 33,
   "metadata": {},
   "outputs": [],
   "source": [
    "#save file for muxviz\n",
    "df_edge_nodeID.to_csv('MUXVIZ/SUPPORT_MuxViz_edges_t=full.txt', header=False, index=False, sep=' ', mode='a')\n",
    "df_edge_nodeID_2019_2013.to_csv('MUXVIZ/SUPPORT_MuxViz_edges_t=2019_2013.txt', header=False, index=False, sep=' ', mode='a')\n",
    "df_edge_nodeID_2012_2006.to_csv('MUXVIZ/SUPPORT_MuxViz_edges_t=2012_2006.txt', header=False, index=False, sep=' ', mode='a')\n",
    "df_edge_nodeID_2005_1999.to_csv('MUXVIZ/SUPPORT_MuxViz_edges_t=2005_1999.txt', header=False, index=False, sep=' ', mode='a')"
   ]
  },
  {
   "cell_type": "markdown",
   "metadata": {},
   "source": [
    "----"
   ]
  },
  {
   "cell_type": "code",
   "execution_count": 49,
   "metadata": {},
   "outputs": [
    {
     "data": {
      "text/plain": [
       "6058"
      ]
     },
     "execution_count": 49,
     "metadata": {},
     "output_type": "execute_result"
    }
   ],
   "source": [
    "#df_edge\n",
    "#df_edge_2019_2013 \n",
    "#df_edge_2012_2006 \n",
    "#df_edge_2005_1999\n",
    "\n",
    "df_cited = df_edge_2005_1999.copy()\n",
    "df_cited.head(1)\n",
    "df_cited[df_cited['layer2']==2]\n",
    "df_cited['To'].nunique()"
   ]
  },
  {
   "cell_type": "code",
   "execution_count": 46,
   "metadata": {},
   "outputs": [
    {
     "data": {
      "text/plain": [
       "38604"
      ]
     },
     "execution_count": 46,
     "metadata": {},
     "output_type": "execute_result"
    }
   ],
   "source": []
  }
 ],
 "metadata": {
  "kernelspec": {
   "display_name": "Python [conda env:Python3]",
   "language": "python",
   "name": "conda-env-Python3-py"
  },
  "language_info": {
   "codemirror_mode": {
    "name": "ipython",
    "version": 3
   },
   "file_extension": ".py",
   "mimetype": "text/x-python",
   "name": "python",
   "nbconvert_exporter": "python",
   "pygments_lexer": "ipython3",
   "version": "3.6.10"
  }
 },
 "nbformat": 4,
 "nbformat_minor": 2
}
