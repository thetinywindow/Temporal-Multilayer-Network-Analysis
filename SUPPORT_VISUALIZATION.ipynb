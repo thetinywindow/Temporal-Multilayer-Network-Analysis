{
 "cells": [
  {
   "cell_type": "code",
   "execution_count": 1,
   "metadata": {},
   "outputs": [],
   "source": [
    "%matplotlib inline\n",
    "import matplotlib.pyplot as plt\n",
    "plt.style.use('seaborn-whitegrid')\n",
    "\n",
    "import csv\n",
    "\n",
    "import pandas as pd\n",
    "import numpy as np"
   ]
  },
  {
   "cell_type": "code",
   "execution_count": 2,
   "metadata": {},
   "outputs": [
    {
     "name": "stdout",
     "output_type": "stream",
     "text": [
      "rows: 25332\n",
      "rows: 56772\n"
     ]
    }
   ],
   "source": [
    "#import cleaned dataset\n",
    "#%%time\n",
    "df_1999 = pd.read_csv('muxViz_1999-2005_community_perLayer_table.csv', delimiter=';')\n",
    "df_2006 = pd.read_csv('muxViz_2006-2012_community_perLayer_table.csv', delimiter=';')\n",
    "print('rows:',len(df_1999))\n",
    "print('rows:',len(df_2006))"
   ]
  },
  {
   "cell_type": "code",
   "execution_count": 3,
   "metadata": {},
   "outputs": [
    {
     "data": {
      "text/plain": [
       "Index(['Layer', 'Node', 'Label', 'Community'], dtype='object')"
      ]
     },
     "execution_count": 3,
     "metadata": {},
     "output_type": "execute_result"
    }
   ],
   "source": [
    "df_1999.columns"
   ]
  },
  {
   "cell_type": "code",
   "execution_count": 14,
   "metadata": {},
   "outputs": [],
   "source": [
    "def community_graph(data, layer, title):\n",
    "    #'Community Distribution (1999-2005)'\n",
    "    df_1 = data[data.Layer==str(layer)]\n",
    "    print(df_1.shape)\n",
    "    \n",
    "    #filter for only communities larger than 0\n",
    "    df_1 = df_1[df_1.Community>=1]\n",
    "    print(df_1.shape)\n",
    "    \n",
    "    #df for plotting\n",
    "    df_1_plot = pd.DataFrame(df_1.groupby('Community')['Node'].count()).reset_index().rename({'Node':'Count'}, axis=1)\n",
    "    df_1_plot = df_1_plot.sort_values(by=['Count'], ascending=False)\n",
    "    df_1_plot = df_1_plot.reset_index().drop('index',axis=1)\n",
    "    \n",
    "    #some additional outputs\n",
    "    print('mean:', df_1_plot['Count'].mean())\n",
    "    print('count:', df_1_plot['Count'].count())\n",
    "    new = df_1_plot[(df_1_plot['Count']>=200) & (df_1_plot['Count']<=1000)]\n",
    "    print('communities in that range', (len(new['Count'])/len(df_1_plot['Count']))*100, \n",
    "          '-% /// that being (#com): ',len(new['Count']))\n",
    "    print(df_1_plot.head())\n",
    "    \n",
    "    #plot\n",
    "    plt.plot(df_1_plot['Community'], df_1_plot['Count'],'o', color='black')\n",
    "    plt.title(title,fontsize = 15)\n",
    "    plt.xlabel('Community')\n",
    "    plt.ylabel('Count of Community')"
   ]
  },
  {
   "cell_type": "code",
   "execution_count": 15,
   "metadata": {},
   "outputs": [
    {
     "name": "stdout",
     "output_type": "stream",
     "text": [
      "(14193, 4)\n",
      "(14155, 4)\n",
      "mean: 13.366383380547687\n",
      "count: 1059\n",
      "communities in that range 0.84985835694051 -% /// that being (#com):  9\n",
      "   Community  Count\n",
      "0        906    410\n",
      "1        129    336\n",
      "2        928    316\n",
      "3        910    304\n",
      "4        897    276\n"
     ]
    },
    {
     "data": {
      "image/png": "[encoded data removed]",
      "text/plain": [
       "<Figure size 432x288 with 1 Axes>"
      ]
     },
     "metadata": {},
     "output_type": "display_data"
    }
   ],
   "source": [
    "community_graph(df_2006, 'Aggr', 'Community Distribution (1999-2005)')"
   ]
  },
  {
   "cell_type": "code",
   "execution_count": null,
   "metadata": {},
   "outputs": [],
   "source": []
  },
  {
   "cell_type": "code",
   "execution_count": null,
   "metadata": {},
   "outputs": [],
   "source": []
  }
 ],
 "metadata": {
  "kernelspec": {
   "display_name": "Python [conda env:Python3]",
   "language": "python",
   "name": "conda-env-Python3-py"
  },
  "language_info": {
   "codemirror_mode": {
    "name": "ipython",
    "version": 3
   },
   "file_extension": ".py",
   "mimetype": "text/x-python",
   "name": "python",
   "nbconvert_exporter": "python",
   "pygments_lexer": "ipython3",
   "version": "3.6.10"
  }
 },
 "nbformat": 4,
 "nbformat_minor": 2
}
