{
 "cells": [
  {
   "cell_type": "code",
   "execution_count": 1,
   "metadata": {},
   "outputs": [
    {
     "name": "stdout",
     "output_type": "stream",
     "text": [
      "Requirement already satisfied: networkx in /opt/anaconda/envs/Python3/lib/python3.6/site-packages (2.4)\n",
      "Requirement already satisfied: decorator>=4.3.0 in /opt/anaconda/envs/Python3/lib/python3.6/site-packages (from networkx) (4.4.2)\n",
      "Note: you may need to restart the kernel to use updated packages.\n"
     ]
    }
   ],
   "source": [
    "pip install networkx"
   ]
  },
  {
   "cell_type": "code",
   "execution_count": 2,
   "metadata": {},
   "outputs": [
    {
     "name": "stdout",
     "output_type": "stream",
     "text": [
      "Processing /home/faculty/.cache/pip/wheels/f6/8d/fd/7718be9a0ad5cd45e904981c6f1e625083204ad5c860d2980d/doi2bib-0.3.0-py3-none-any.whl\n",
      "Requirement already satisfied: requests in /opt/anaconda/envs/Python3/lib/python3.6/site-packages (from doi2bib) (2.23.0)\n",
      "Processing /home/faculty/.cache/pip/wheels/ec/fb/46/7db6de3731f9a9f0c65a298cd67956f6a99b34864c1dc394b3/bibtexparser-1.1.0-py3-none-any.whl\n",
      "Requirement already satisfied: future in /opt/anaconda/envs/Python3/lib/python3.6/site-packages (from doi2bib) (0.18.2)\n",
      "Requirement already satisfied: idna<3,>=2.5 in /opt/anaconda/envs/Python3/lib/python3.6/site-packages (from requests->doi2bib) (2.9)\n",
      "Requirement already satisfied: urllib3!=1.25.0,!=1.25.1,<1.26,>=1.21.1 in /opt/anaconda/envs/Python3/lib/python3.6/site-packages (from requests->doi2bib) (1.25.8)\n",
      "Requirement already satisfied: chardet<4,>=3.0.2 in /opt/anaconda/envs/Python3/lib/python3.6/site-packages (from requests->doi2bib) (3.0.4)\n",
      "Requirement already satisfied: certifi>=2017.4.17 in /opt/anaconda/envs/Python3/lib/python3.6/site-packages (from requests->doi2bib) (2020.4.5.1)\n",
      "Requirement already satisfied: pyparsing>=2.0.3 in /opt/anaconda/envs/Python3/lib/python3.6/site-packages (from bibtexparser->doi2bib) (2.4.6)\n",
      "Installing collected packages: bibtexparser, doi2bib\n",
      "Successfully installed bibtexparser-1.1.0 doi2bib-0.3.0\n",
      "Note: you may need to restart the kernel to use updated packages.\n"
     ]
    }
   ],
   "source": [
    "pip install doi2bib"
   ]
  },
  {
   "cell_type": "code",
   "execution_count": 3,
   "metadata": {},
   "outputs": [
    {
     "name": "stdout",
     "output_type": "stream",
     "text": [
      "Requirement already satisfied: bibtexparser in /opt/anaconda/envs/Python3/lib/python3.6/site-packages (1.1.0)\n",
      "Requirement already satisfied: pyparsing>=2.0.3 in /opt/anaconda/envs/Python3/lib/python3.6/site-packages (from bibtexparser) (2.4.6)\n",
      "Requirement already satisfied: future>=0.16.0 in /opt/anaconda/envs/Python3/lib/python3.6/site-packages (from bibtexparser) (0.18.2)\n",
      "Note: you may need to restart the kernel to use updated packages.\n"
     ]
    }
   ],
   "source": [
    "pip install bibtexparser"
   ]
  },
  {
   "cell_type": "code",
   "execution_count": 4,
   "metadata": {},
   "outputs": [],
   "source": [
    "import networkx as nx\n",
    "import csv\n",
    "from operator import itemgetter\n",
    "import networkx as nx\n",
    "from networkx.algorithms import community\n",
    "import collections\n",
    "from collections import Counter\n",
    "import pandas as pd\n",
    "import numpy as np\n",
    "import codecs\n",
    "\n",
    "import os\n",
    "import ctypes\n",
    "import time\n",
    "from matplotlib import pyplot as plt\n",
    "from itertools import combinations\n",
    "import bibtexparser"
   ]
  },
  {
   "cell_type": "code",
   "execution_count": 5,
   "metadata": {},
   "outputs": [],
   "source": [
    "pd.options.display.max_columns = None"
   ]
  },
  {
   "cell_type": "markdown",
   "metadata": {},
   "source": [
    "# Co-Authorship Network"
   ]
  },
  {
   "cell_type": "code",
   "execution_count": 6,
   "metadata": {
    "scrolled": false
   },
   "outputs": [
    {
     "name": "stdout",
     "output_type": "stream",
     "text": [
      "rows: 4722\n"
     ]
    }
   ],
   "source": [
    "#import cleaned dataset\n",
    "#%%time\n",
    "df = pd.read_csv('combined_WoS')\n",
    "print('rows:',len(df))"
   ]
  },
  {
   "cell_type": "code",
   "execution_count": 7,
   "metadata": {},
   "outputs": [],
   "source": [
    "# Set DOI to list from cleaned dataset\n",
    "DOI_list = df['AR'].values.tolist()"
   ]
  },
  {
   "cell_type": "code",
   "execution_count": 8,
   "metadata": {},
   "outputs": [],
   "source": [
    "#Save Doi_list as text file for co_authors\n",
    "#with open('DOI_list_t=full.txt', 'w') as f:\n",
    "#    for item in DOI_list:\n",
    "#        f.write(\"%s\\n\" % item)"
   ]
  },
  {
   "cell_type": "markdown",
   "metadata": {},
   "source": [
    "### Import DOi2bib dataset (created on mac terminal)"
   ]
  },
  {
   "cell_type": "code",
   "execution_count": 9,
   "metadata": {},
   "outputs": [],
   "source": [
    "#Terminal Faculty Code:\n",
    "#doi2bib --input DOI_list_t=full.txt --output NETWORK_Co_author.bib"
   ]
  },
  {
   "cell_type": "code",
   "execution_count": 10,
   "metadata": {},
   "outputs": [],
   "source": [
    "with open('NETWORK_Co_author.bib') as bibtex_file:\n",
    "    bibtex_str = bibtex_file.read()\n",
    "\n",
    "bib_database = bibtexparser.loads(bibtex_str)"
   ]
  },
  {
   "cell_type": "code",
   "execution_count": 11,
   "metadata": {},
   "outputs": [],
   "source": [
    "df_bib = pd.DataFrame(bib_database.entries)\n",
    "#pd.io.json.json_normalize(bib_database.entries)"
   ]
  },
  {
   "cell_type": "code",
   "execution_count": 12,
   "metadata": {},
   "outputs": [],
   "source": [
    "#df.info()"
   ]
  },
  {
   "cell_type": "code",
   "execution_count": 13,
   "metadata": {},
   "outputs": [
    {
     "name": "stdout",
     "output_type": "stream",
     "text": [
      "(3549, 15)\n"
     ]
    },
    {
     "data": {
      "text/html": [
       "<div>\n",
       "<style scoped>\n",
       "    .dataframe tbody tr th:only-of-type {\n",
       "        vertical-align: middle;\n",
       "    }\n",
       "\n",
       "    .dataframe tbody tr th {\n",
       "        vertical-align: top;\n",
       "    }\n",
       "\n",
       "    .dataframe thead th {\n",
       "        text-align: right;\n",
       "    }\n",
       "</style>\n",
       "<table border=\"1\" class=\"dataframe\">\n",
       "  <thead>\n",
       "    <tr style=\"text-align: right;\">\n",
       "      <th></th>\n",
       "      <th>journal</th>\n",
       "      <th>title</th>\n",
       "      <th>author</th>\n",
       "      <th>pages</th>\n",
       "      <th>number</th>\n",
       "      <th>volume</th>\n",
       "      <th>publisher</th>\n",
       "      <th>month</th>\n",
       "      <th>year</th>\n",
       "      <th>url</th>\n",
       "      <th>doi</th>\n",
       "      <th>ENTRYTYPE</th>\n",
       "      <th>ID</th>\n",
       "      <th>booktitle</th>\n",
       "      <th>editor</th>\n",
       "    </tr>\n",
       "  </thead>\n",
       "  <tbody>\n",
       "    <tr>\n",
       "      <th>0</th>\n",
       "      <td>{IEEE} Transactions on Aerospace and Electroni...</td>\n",
       "      <td>Data-Driven Testbed for Evaluating {GPS} Carri...</td>\n",
       "      <td>Todd E. Humph and Mark L. Psiaki and Brent M. ...</td>\n",
       "      <td>1609--1623</td>\n",
       "      <td>4</td>\n",
       "      <td>46</td>\n",
       "      <td>Institute of Electrical and Electronics Engine...</td>\n",
       "      <td>oct</td>\n",
       "      <td>2010</td>\n",
       "      <td>https://doi.org/10.1109%2Ftaes.2010.5595582</td>\n",
       "      <td>10.1109/taes.2010.5595582</td>\n",
       "      <td>article</td>\n",
       "      <td>Humph_2010</td>\n",
       "      <td>NaN</td>\n",
       "      <td>NaN</td>\n",
       "    </tr>\n",
       "    <tr>\n",
       "      <th>1</th>\n",
       "      <td>Energy {\\&amp;} Fuels</td>\n",
       "      <td>Energy Efficiency of Conventionally-Heated Pil...</td>\n",
       "      <td>Darryl R. Godwin and Simon J. Lawton and Jonat...</td>\n",
       "      <td>5446--5453</td>\n",
       "      <td>10</td>\n",
       "      <td>24</td>\n",
       "      <td>American Chemical Society ({ACS})</td>\n",
       "      <td>oct</td>\n",
       "      <td>2010</td>\n",
       "      <td>https://doi.org/10.1021%2Fef100972f</td>\n",
       "      <td>10.1021/ef100972f</td>\n",
       "      <td>article</td>\n",
       "      <td>Godwin_2010</td>\n",
       "      <td>NaN</td>\n",
       "      <td>NaN</td>\n",
       "    </tr>\n",
       "    <tr>\n",
       "      <th>2</th>\n",
       "      <td>Fuel</td>\n",
       "      <td>High energy syngas production by waste tyres s...</td>\n",
       "      <td>A. Donatelli and P. Iovane and A. Molino</td>\n",
       "      <td>2721--2728</td>\n",
       "      <td>10</td>\n",
       "      <td>89</td>\n",
       "      <td>Elsevier {BV}</td>\n",
       "      <td>oct</td>\n",
       "      <td>2010</td>\n",
       "      <td>https://doi.org/10.1016%2Fj.fuel.2010.03.040</td>\n",
       "      <td>10.1016/j.fuel.2010.03.040</td>\n",
       "      <td>article</td>\n",
       "      <td>Donatelli_2010</td>\n",
       "      <td>NaN</td>\n",
       "      <td>NaN</td>\n",
       "    </tr>\n",
       "    <tr>\n",
       "      <th>3</th>\n",
       "      <td>Fuel</td>\n",
       "      <td>Sorbent attrition in a carbonation/calcination...</td>\n",
       "      <td>Bel{\\'{e}}n Gonz{\\'{a}}lez and M{\\'{o}}nica Al...</td>\n",
       "      <td>2918--2924</td>\n",
       "      <td>10</td>\n",
       "      <td>89</td>\n",
       "      <td>Elsevier {BV}</td>\n",
       "      <td>oct</td>\n",
       "      <td>2010</td>\n",
       "      <td>https://doi.org/10.1016%2Fj.fuel.2010.01.019</td>\n",
       "      <td>10.1016/j.fuel.2010.01.019</td>\n",
       "      <td>article</td>\n",
       "      <td>Gonz_lez_2010</td>\n",
       "      <td>NaN</td>\n",
       "      <td>NaN</td>\n",
       "    </tr>\n",
       "    <tr>\n",
       "      <th>4</th>\n",
       "      <td>Innovative Food Science {\\&amp;} Emerging Technolo...</td>\n",
       "      <td>Progressive freeze concentration of orange jui...</td>\n",
       "      <td>J. S{\\'{a}}nchez and Y. Ruiz and M. Ravent{\\'{...</td>\n",
       "      <td>644--651</td>\n",
       "      <td>4</td>\n",
       "      <td>11</td>\n",
       "      <td>Elsevier {BV}</td>\n",
       "      <td>oct</td>\n",
       "      <td>2010</td>\n",
       "      <td>https://doi.org/10.1016%2Fj.ifset.2010.06.006</td>\n",
       "      <td>10.1016/j.ifset.2010.06.006</td>\n",
       "      <td>article</td>\n",
       "      <td>S_nchez_2010</td>\n",
       "      <td>NaN</td>\n",
       "      <td>NaN</td>\n",
       "    </tr>\n",
       "  </tbody>\n",
       "</table>\n",
       "</div>"
      ],
      "text/plain": [
       "                                             journal  \\\n",
       "0  {IEEE} Transactions on Aerospace and Electroni...   \n",
       "1                                  Energy {\\&} Fuels   \n",
       "2                                               Fuel   \n",
       "3                                               Fuel   \n",
       "4  Innovative Food Science {\\&} Emerging Technolo...   \n",
       "\n",
       "                                               title  \\\n",
       "0  Data-Driven Testbed for Evaluating {GPS} Carri...   \n",
       "1  Energy Efficiency of Conventionally-Heated Pil...   \n",
       "2  High energy syngas production by waste tyres s...   \n",
       "3  Sorbent attrition in a carbonation/calcination...   \n",
       "4  Progressive freeze concentration of orange jui...   \n",
       "\n",
       "                                              author       pages number  \\\n",
       "0  Todd E. Humph and Mark L. Psiaki and Brent M. ...  1609--1623      4   \n",
       "1  Darryl R. Godwin and Simon J. Lawton and Jonat...  5446--5453     10   \n",
       "2           A. Donatelli and P. Iovane and A. Molino  2721--2728     10   \n",
       "3  Bel{\\'{e}}n Gonz{\\'{a}}lez and M{\\'{o}}nica Al...  2918--2924     10   \n",
       "4  J. S{\\'{a}}nchez and Y. Ruiz and M. Ravent{\\'{...    644--651      4   \n",
       "\n",
       "  volume                                          publisher month  year  \\\n",
       "0     46  Institute of Electrical and Electronics Engine...   oct  2010   \n",
       "1     24                  American Chemical Society ({ACS})   oct  2010   \n",
       "2     89                                      Elsevier {BV}   oct  2010   \n",
       "3     89                                      Elsevier {BV}   oct  2010   \n",
       "4     11                                      Elsevier {BV}   oct  2010   \n",
       "\n",
       "                                             url                          doi  \\\n",
       "0    https://doi.org/10.1109%2Ftaes.2010.5595582    10.1109/taes.2010.5595582   \n",
       "1            https://doi.org/10.1021%2Fef100972f            10.1021/ef100972f   \n",
       "2   https://doi.org/10.1016%2Fj.fuel.2010.03.040   10.1016/j.fuel.2010.03.040   \n",
       "3   https://doi.org/10.1016%2Fj.fuel.2010.01.019   10.1016/j.fuel.2010.01.019   \n",
       "4  https://doi.org/10.1016%2Fj.ifset.2010.06.006  10.1016/j.ifset.2010.06.006   \n",
       "\n",
       "  ENTRYTYPE              ID booktitle editor  \n",
       "0   article      Humph_2010       NaN    NaN  \n",
       "1   article     Godwin_2010       NaN    NaN  \n",
       "2   article  Donatelli_2010       NaN    NaN  \n",
       "3   article   Gonz_lez_2010       NaN    NaN  \n",
       "4   article    S_nchez_2010       NaN    NaN  "
      ]
     },
     "execution_count": 13,
     "metadata": {},
     "output_type": "execute_result"
    }
   ],
   "source": [
    "print(df_bib.shape)\n",
    "df_bib.head()"
   ]
  },
  {
   "cell_type": "code",
   "execution_count": 14,
   "metadata": {},
   "outputs": [
    {
     "data": {
      "text/html": [
       "<div>\n",
       "<style scoped>\n",
       "    .dataframe tbody tr th:only-of-type {\n",
       "        vertical-align: middle;\n",
       "    }\n",
       "\n",
       "    .dataframe tbody tr th {\n",
       "        vertical-align: top;\n",
       "    }\n",
       "\n",
       "    .dataframe thead th {\n",
       "        text-align: right;\n",
       "    }\n",
       "</style>\n",
       "<table border=\"1\" class=\"dataframe\">\n",
       "  <thead>\n",
       "    <tr style=\"text-align: right;\">\n",
       "      <th></th>\n",
       "      <th>DOI</th>\n",
       "      <th>author</th>\n",
       "      <th>year</th>\n",
       "    </tr>\n",
       "  </thead>\n",
       "  <tbody>\n",
       "    <tr>\n",
       "      <th>0</th>\n",
       "      <td>10.1109/taes.2010.5595582</td>\n",
       "      <td>Todd E. Humph and Mark L. Psiaki and Brent M. ...</td>\n",
       "      <td>2010</td>\n",
       "    </tr>\n",
       "    <tr>\n",
       "      <th>1</th>\n",
       "      <td>10.1021/ef100972f</td>\n",
       "      <td>Darryl R. Godwin and Simon J. Lawton and Jonat...</td>\n",
       "      <td>2010</td>\n",
       "    </tr>\n",
       "    <tr>\n",
       "      <th>2</th>\n",
       "      <td>10.1016/j.fuel.2010.03.040</td>\n",
       "      <td>A. Donatelli and P. Iovane and A. Molino</td>\n",
       "      <td>2010</td>\n",
       "    </tr>\n",
       "    <tr>\n",
       "      <th>3</th>\n",
       "      <td>10.1016/j.fuel.2010.01.019</td>\n",
       "      <td>Bel{\\'{e}}n Gonz{\\'{a}}lez and M{\\'{o}}nica Al...</td>\n",
       "      <td>2010</td>\n",
       "    </tr>\n",
       "    <tr>\n",
       "      <th>4</th>\n",
       "      <td>10.1016/j.ifset.2010.06.006</td>\n",
       "      <td>J. S{\\'{a}}nchez and Y. Ruiz and M. Ravent{\\'{...</td>\n",
       "      <td>2010</td>\n",
       "    </tr>\n",
       "  </tbody>\n",
       "</table>\n",
       "</div>"
      ],
      "text/plain": [
       "                           DOI  \\\n",
       "0    10.1109/taes.2010.5595582   \n",
       "1            10.1021/ef100972f   \n",
       "2   10.1016/j.fuel.2010.03.040   \n",
       "3   10.1016/j.fuel.2010.01.019   \n",
       "4  10.1016/j.ifset.2010.06.006   \n",
       "\n",
       "                                              author  year  \n",
       "0  Todd E. Humph and Mark L. Psiaki and Brent M. ...  2010  \n",
       "1  Darryl R. Godwin and Simon J. Lawton and Jonat...  2010  \n",
       "2           A. Donatelli and P. Iovane and A. Molino  2010  \n",
       "3  Bel{\\'{e}}n Gonz{\\'{a}}lez and M{\\'{o}}nica Al...  2010  \n",
       "4  J. S{\\'{a}}nchez and Y. Ruiz and M. Ravent{\\'{...  2010  "
      ]
     },
     "execution_count": 14,
     "metadata": {},
     "output_type": "execute_result"
    }
   ],
   "source": [
    "df = df_bib[[\"doi\",\"author\",\"year\"]]\n",
    "df = df.rename(columns={\"doi\": \"DOI\"})\n",
    "df = df.dropna()\n",
    "#df = df.set_index('DOI')\n",
    "\n",
    "df.head()"
   ]
  },
  {
   "cell_type": "code",
   "execution_count": 15,
   "metadata": {},
   "outputs": [],
   "source": [
    "df.to_csv('SUPPORT_Co-Author_t=full.csv', index=False)"
   ]
  },
  {
   "cell_type": "code",
   "execution_count": 17,
   "metadata": {},
   "outputs": [],
   "source": [
    "########################################################################\n",
    "#from here onwards only Aninas code - not used so far\n",
    "########################################################################"
   ]
  },
  {
   "cell_type": "code",
   "execution_count": 16,
   "metadata": {},
   "outputs": [
    {
     "data": {
      "text/html": [
       "<div>\n",
       "<style scoped>\n",
       "    .dataframe tbody tr th:only-of-type {\n",
       "        vertical-align: middle;\n",
       "    }\n",
       "\n",
       "    .dataframe tbody tr th {\n",
       "        vertical-align: top;\n",
       "    }\n",
       "\n",
       "    .dataframe thead th {\n",
       "        text-align: right;\n",
       "    }\n",
       "</style>\n",
       "<table border=\"1\" class=\"dataframe\">\n",
       "  <thead>\n",
       "    <tr style=\"text-align: right;\">\n",
       "      <th></th>\n",
       "      <th>year_published_bin</th>\n",
       "      <th>author</th>\n",
       "    </tr>\n",
       "    <tr>\n",
       "      <th>DOI</th>\n",
       "      <th></th>\n",
       "      <th></th>\n",
       "    </tr>\n",
       "  </thead>\n",
       "  <tbody>\n",
       "    <tr>\n",
       "      <th>10.1002/bmc.3867</th>\n",
       "      <td>3.0</td>\n",
       "      <td>Qiang Ren and Lin Ding and Shan-shan Sun and H...</td>\n",
       "    </tr>\n",
       "    <tr>\n",
       "      <th>10.1002/hup.2216</th>\n",
       "      <td>2.0</td>\n",
       "      <td>J. Sarris and A. Scholey and I. Schweitzer and...</td>\n",
       "    </tr>\n",
       "    <tr>\n",
       "      <th>10.1002/jbt.22328</th>\n",
       "      <td>3.0</td>\n",
       "      <td>Nurhan Sahin and Cemal Orhan and Fusun Erten a...</td>\n",
       "    </tr>\n",
       "    <tr>\n",
       "      <th>10.1002/jcb.28535</th>\n",
       "      <td>3.0</td>\n",
       "      <td>Lingyuan Xu and Guikun Huang and Xiaobao Guo a...</td>\n",
       "    </tr>\n",
       "    <tr>\n",
       "      <th>10.1002/jcp.28177</th>\n",
       "      <td>3.0</td>\n",
       "      <td>Mehran Pashirzad and Mojtaba Shafiee and Amir ...</td>\n",
       "    </tr>\n",
       "  </tbody>\n",
       "</table>\n",
       "</div>"
      ],
      "text/plain": [
       "                   year_published_bin  \\\n",
       "DOI                                     \n",
       "10.1002/bmc.3867                  3.0   \n",
       "10.1002/hup.2216                  2.0   \n",
       "10.1002/jbt.22328                 3.0   \n",
       "10.1002/jcb.28535                 3.0   \n",
       "10.1002/jcp.28177                 3.0   \n",
       "\n",
       "                                                              author  \n",
       "DOI                                                                   \n",
       "10.1002/bmc.3867   Qiang Ren and Lin Ding and Shan-shan Sun and H...  \n",
       "10.1002/hup.2216   J. Sarris and A. Scholey and I. Schweitzer and...  \n",
       "10.1002/jbt.22328  Nurhan Sahin and Cemal Orhan and Fusun Erten a...  \n",
       "10.1002/jcb.28535  Lingyuan Xu and Guikun Huang and Xiaobao Guo a...  \n",
       "10.1002/jcp.28177  Mehran Pashirzad and Mojtaba Shafiee and Amir ...  "
      ]
     },
     "execution_count": 16,
     "metadata": {},
     "output_type": "execute_result"
    }
   ],
   "source": [
    "result = pd.merge(data, df, left_index=True, right_index=True)\n",
    "result = result.drop(['Authors'], axis=1)\n",
    "result.head()"
   ]
  },
  {
   "cell_type": "code",
   "execution_count": 17,
   "metadata": {},
   "outputs": [],
   "source": [
    "df = result"
   ]
  },
  {
   "cell_type": "code",
   "execution_count": 18,
   "metadata": {
    "scrolled": true
   },
   "outputs": [
    {
     "data": {
      "text/html": [
       "<div>\n",
       "<style scoped>\n",
       "    .dataframe tbody tr th:only-of-type {\n",
       "        vertical-align: middle;\n",
       "    }\n",
       "\n",
       "    .dataframe tbody tr th {\n",
       "        vertical-align: top;\n",
       "    }\n",
       "\n",
       "    .dataframe thead th {\n",
       "        text-align: right;\n",
       "    }\n",
       "</style>\n",
       "<table border=\"1\" class=\"dataframe\">\n",
       "  <thead>\n",
       "    <tr style=\"text-align: right;\">\n",
       "      <th></th>\n",
       "      <th>year_published_bin</th>\n",
       "      <th>author</th>\n",
       "    </tr>\n",
       "    <tr>\n",
       "      <th>DOI</th>\n",
       "      <th></th>\n",
       "      <th></th>\n",
       "    </tr>\n",
       "  </thead>\n",
       "  <tbody>\n",
       "    <tr>\n",
       "      <th>10.1002/bmc.3867</th>\n",
       "      <td>3.0</td>\n",
       "      <td>Qiang Ren and Lin Ding and Shan-shan Sun and H...</td>\n",
       "    </tr>\n",
       "    <tr>\n",
       "      <th>10.1002/hup.2216</th>\n",
       "      <td>2.0</td>\n",
       "      <td>J. Sarris and A. Scholey and I. Schweitzer and...</td>\n",
       "    </tr>\n",
       "  </tbody>\n",
       "</table>\n",
       "</div>"
      ],
      "text/plain": [
       "                  year_published_bin  \\\n",
       "DOI                                    \n",
       "10.1002/bmc.3867                 3.0   \n",
       "10.1002/hup.2216                 2.0   \n",
       "\n",
       "                                                             author  \n",
       "DOI                                                                  \n",
       "10.1002/bmc.3867  Qiang Ren and Lin Ding and Shan-shan Sun and H...  \n",
       "10.1002/hup.2216  J. Sarris and A. Scholey and I. Schweitzer and...  "
      ]
     },
     "execution_count": 18,
     "metadata": {},
     "output_type": "execute_result"
    }
   ],
   "source": [
    "#Autoren sind mit \"and\" getrennt\n",
    "df.head(2)"
   ]
  },
  {
   "cell_type": "code",
   "execution_count": 19,
   "metadata": {},
   "outputs": [],
   "source": [
    "df.to_csv('Author_names.csv', index=True)"
   ]
  },
  {
   "cell_type": "code",
   "execution_count": 20,
   "metadata": {},
   "outputs": [],
   "source": [
    "def create_co_authorship_network(df,time_bin):\n",
    "    df = df\n",
    "    y = time_bin\n",
    "    df = df[df['year_published_bin']==y]\n",
    "    df_authors = df['author'].str.split(' and ', 10000, expand=True)\n",
    "    df_authors = df_authors.replace( np.nan, np.nan )\n",
    "    \n",
    "    #df_authors[df_authors.columns] = df_authors.apply(lambda x: x.str.strip())\n",
    "    #df_authors[df_authors.columns] = df_authors.apply(lambda x: x.str.lower())\n",
    "\n",
    "\n",
    "    df_authors['combinations'] = df_authors.apply(lambda r: list(combinations(r, 2)), axis=1)\n",
    "    count_row = df_authors.shape[0]-1\n",
    "    dataframe = pd.DataFrame([])\n",
    "    \n",
    "    for i in range(count_row):#  (4681)\n",
    "        df = df_authors.combinations.iloc[i]\n",
    "        df = pd.DataFrame(df)\n",
    "        df = df.dropna()\n",
    "        dataframe = dataframe.append(df, ignore_index=True) #dataframe = \n",
    "        \n",
    "    df_co_authors = dataframe\n",
    "    df_co_authors.columns =['Author', 'Co'] \n",
    "    return df_co_authors"
   ]
  },
  {
   "cell_type": "code",
   "execution_count": 21,
   "metadata": {},
   "outputs": [],
   "source": [
    "#Temporal co-authorship data 1989-1999\n",
    "data_t1 = create_co_authorship_network(df,1)\n",
    "#Temporal co-authorship data 2000-2009\n",
    "data_t2 = create_co_authorship_network(df,2)\n",
    "#Temporal co-authorship data 2010-2019\n",
    "data_t3 = create_co_authorship_network(df,3)"
   ]
  },
  {
   "cell_type": "code",
   "execution_count": 22,
   "metadata": {},
   "outputs": [
    {
     "data": {
      "text/html": [
       "<div>\n",
       "<style scoped>\n",
       "    .dataframe tbody tr th:only-of-type {\n",
       "        vertical-align: middle;\n",
       "    }\n",
       "\n",
       "    .dataframe tbody tr th {\n",
       "        vertical-align: top;\n",
       "    }\n",
       "\n",
       "    .dataframe thead th {\n",
       "        text-align: right;\n",
       "    }\n",
       "</style>\n",
       "<table border=\"1\" class=\"dataframe\">\n",
       "  <thead>\n",
       "    <tr style=\"text-align: right;\">\n",
       "      <th></th>\n",
       "      <th>Author</th>\n",
       "      <th>Co</th>\n",
       "    </tr>\n",
       "  </thead>\n",
       "  <tbody>\n",
       "    <tr>\n",
       "      <th>0</th>\n",
       "      <td>Li Shun-xing</td>\n",
       "      <td>Zheng Feng-ying</td>\n",
       "    </tr>\n",
       "    <tr>\n",
       "      <th>1</th>\n",
       "      <td>Li Shun-xing</td>\n",
       "      <td>Liu Xian-li</td>\n",
       "    </tr>\n",
       "    <tr>\n",
       "      <th>2</th>\n",
       "      <td>Li Shun-xing</td>\n",
       "      <td>Cai Wen-lian</td>\n",
       "    </tr>\n",
       "    <tr>\n",
       "      <th>3</th>\n",
       "      <td>Zheng Feng-ying</td>\n",
       "      <td>Liu Xian-li</td>\n",
       "    </tr>\n",
       "    <tr>\n",
       "      <th>4</th>\n",
       "      <td>Zheng Feng-ying</td>\n",
       "      <td>Cai Wen-lian</td>\n",
       "    </tr>\n",
       "  </tbody>\n",
       "</table>\n",
       "</div>"
      ],
      "text/plain": [
       "            Author               Co\n",
       "0     Li Shun-xing  Zheng Feng-ying\n",
       "1     Li Shun-xing      Liu Xian-li\n",
       "2     Li Shun-xing     Cai Wen-lian\n",
       "3  Zheng Feng-ying      Liu Xian-li\n",
       "4  Zheng Feng-ying     Cai Wen-lian"
      ]
     },
     "execution_count": 22,
     "metadata": {},
     "output_type": "execute_result"
    }
   ],
   "source": [
    "data_t1.head()"
   ]
  },
  {
   "cell_type": "code",
   "execution_count": 23,
   "metadata": {},
   "outputs": [
    {
     "data": {
      "text/plain": [
       "(12018, 2)"
      ]
     },
     "execution_count": 23,
     "metadata": {},
     "output_type": "execute_result"
    }
   ],
   "source": [
    "data_t1.shape"
   ]
  },
  {
   "cell_type": "code",
   "execution_count": 24,
   "metadata": {},
   "outputs": [
    {
     "data": {
      "text/plain": [
       "(20434, 2)"
      ]
     },
     "execution_count": 24,
     "metadata": {},
     "output_type": "execute_result"
    }
   ],
   "source": [
    "data_t2.shape"
   ]
  },
  {
   "cell_type": "code",
   "execution_count": 25,
   "metadata": {},
   "outputs": [
    {
     "data": {
      "text/plain": [
       "(38784, 2)"
      ]
     },
     "execution_count": 25,
     "metadata": {},
     "output_type": "execute_result"
    }
   ],
   "source": [
    "data_t3.shape"
   ]
  },
  {
   "cell_type": "markdown",
   "metadata": {},
   "source": [
    "### Create Text files for MuxViz"
   ]
  },
  {
   "cell_type": "code",
   "execution_count": 26,
   "metadata": {},
   "outputs": [],
   "source": [
    "# Data T1 to txt\n",
    "#data_t1.to_csv('MuxViz/Co_Author_t1.txt', header=False, index=False, sep='\\t', mode='a')"
   ]
  },
  {
   "cell_type": "code",
   "execution_count": 27,
   "metadata": {},
   "outputs": [],
   "source": [
    "#data_t1.to_csv('MuxViz/Co_Author_t1.csv', header=True, index=False)"
   ]
  },
  {
   "cell_type": "code",
   "execution_count": null,
   "metadata": {},
   "outputs": [],
   "source": []
  },
  {
   "cell_type": "code",
   "execution_count": null,
   "metadata": {},
   "outputs": [],
   "source": []
  },
  {
   "cell_type": "code",
   "execution_count": 22,
   "metadata": {},
   "outputs": [
    {
     "data": {
      "text/plain": [
       "(71236, 2)"
      ]
     },
     "execution_count": 22,
     "metadata": {},
     "output_type": "execute_result"
    }
   ],
   "source": [
    "#Create First step layout file\n",
    "df_co = data_t1.append(data_t2, ignore_index=True)\n",
    "df_co = df_co.append(data_t3, ignore_index=True)\n",
    "df_co.shape"
   ]
  },
  {
   "cell_type": "code",
   "execution_count": null,
   "metadata": {},
   "outputs": [],
   "source": [
    "#df_co.to_csv('MuxViz/Author_Names', header=True, index=False)"
   ]
  },
  {
   "cell_type": "code",
   "execution_count": null,
   "metadata": {},
   "outputs": [],
   "source": [
    "#data_t3.to_csv('Networks/co_author_t3.csv', index=False)"
   ]
  },
  {
   "cell_type": "code",
   "execution_count": 23,
   "metadata": {},
   "outputs": [
    {
     "data": {
      "text/html": [
       "<div>\n",
       "<style scoped>\n",
       "    .dataframe tbody tr th:only-of-type {\n",
       "        vertical-align: middle;\n",
       "    }\n",
       "\n",
       "    .dataframe tbody tr th {\n",
       "        vertical-align: top;\n",
       "    }\n",
       "\n",
       "    .dataframe thead th {\n",
       "        text-align: right;\n",
       "    }\n",
       "</style>\n",
       "<table border=\"1\" class=\"dataframe\">\n",
       "  <thead>\n",
       "    <tr style=\"text-align: right;\">\n",
       "      <th></th>\n",
       "      <th>Author</th>\n",
       "      <th>Co</th>\n",
       "    </tr>\n",
       "  </thead>\n",
       "  <tbody>\n",
       "    <tr>\n",
       "      <th>0</th>\n",
       "      <td>Li Shun-xing</td>\n",
       "      <td>Zheng Feng-ying</td>\n",
       "    </tr>\n",
       "    <tr>\n",
       "      <th>1</th>\n",
       "      <td>Li Shun-xing</td>\n",
       "      <td>Liu Xian-li</td>\n",
       "    </tr>\n",
       "    <tr>\n",
       "      <th>2</th>\n",
       "      <td>Li Shun-xing</td>\n",
       "      <td>Cai Wen-lian</td>\n",
       "    </tr>\n",
       "    <tr>\n",
       "      <th>3</th>\n",
       "      <td>Zheng Feng-ying</td>\n",
       "      <td>Liu Xian-li</td>\n",
       "    </tr>\n",
       "    <tr>\n",
       "      <th>4</th>\n",
       "      <td>Zheng Feng-ying</td>\n",
       "      <td>Cai Wen-lian</td>\n",
       "    </tr>\n",
       "  </tbody>\n",
       "</table>\n",
       "</div>"
      ],
      "text/plain": [
       "            Author               Co\n",
       "0     Li Shun-xing  Zheng Feng-ying\n",
       "1     Li Shun-xing      Liu Xian-li\n",
       "2     Li Shun-xing     Cai Wen-lian\n",
       "3  Zheng Feng-ying      Liu Xian-li\n",
       "4  Zheng Feng-ying     Cai Wen-lian"
      ]
     },
     "execution_count": 23,
     "metadata": {},
     "output_type": "execute_result"
    }
   ],
   "source": [
    "df_co.head()"
   ]
  },
  {
   "cell_type": "markdown",
   "metadata": {},
   "source": [
    "### Create Paper to Author Dataframe"
   ]
  },
  {
   "cell_type": "code",
   "execution_count": 24,
   "metadata": {},
   "outputs": [],
   "source": [
    "df = df.reset_index()"
   ]
  },
  {
   "cell_type": "code",
   "execution_count": 41,
   "metadata": {},
   "outputs": [],
   "source": [
    "def paper2author_3(df,time_bin):\n",
    "    df = df\n",
    "    y = time_bin\n",
    "    df = df[df['year_published_bin']==y]\n",
    "    df_authors = df['author'].str.split(' and ', 40, expand=True)\n",
    "    df_authors = df_authors.replace( np.nan, np.nan )\n",
    "    df_authors.head()\n",
    "    \n",
    "    df_authors = df_authors.rename(columns={20: \"twenty\"})\n",
    "    df_authors = df_authors.replace(np.nan,\"titte\", regex=True)\n",
    "    df_authors = df_authors[df_authors[\"twenty\"].str.contains(\"titte\")]\n",
    "    df_authors = df_authors.replace({'titte': np.nan})\n",
    "    \n",
    "    x = pd.merge(df[\"DOI\"],df_authors,left_index=True, right_index=True)\n",
    "    x = x.melt(id_vars = ['DOI'], value_name = \"Author\") \\\n",
    "        .drop(\"variable\", axis = 1) \\\n",
    "        .dropna()\n",
    "    \n",
    "    return x\n",
    "    \n",
    "    \n"
   ]
  },
  {
   "cell_type": "code",
   "execution_count": 42,
   "metadata": {},
   "outputs": [],
   "source": [
    "def paper2author1_2(df,time_bin):\n",
    "    df = df\n",
    "    y = time_bin\n",
    "    df = df[df['year_published_bin']==y]\n",
    "    df_authors = df['author'].str.split(' and ', 40, expand=True)\n",
    "    df_authors = df_authors.replace( np.nan, np.nan )\n",
    "    df_authors.head()\n",
    "    \n",
    "\n",
    "    \n",
    "    x = pd.merge(df[\"DOI\"],df_authors,left_index=True, right_index=True)\n",
    "    x = x.melt(id_vars = ['DOI'], value_name = \"Author\") \\\n",
    "        .drop(\"variable\", axis = 1) \\\n",
    "        .dropna()\n",
    "    \n",
    "    return x\n",
    "    \n",
    "    "
   ]
  },
  {
   "cell_type": "code",
   "execution_count": null,
   "metadata": {},
   "outputs": [],
   "source": []
  },
  {
   "cell_type": "code",
   "execution_count": 59,
   "metadata": {},
   "outputs": [],
   "source": [
    "p2a_1 = paper2author1_2(df,1)"
   ]
  },
  {
   "cell_type": "code",
   "execution_count": 50,
   "metadata": {},
   "outputs": [],
   "source": [
    "p2a_2 = paper2author1_2(df,2)"
   ]
  },
  {
   "cell_type": "code",
   "execution_count": 45,
   "metadata": {},
   "outputs": [],
   "source": [
    "p2a_3 = paper2author_3(df,3)"
   ]
  },
  {
   "cell_type": "code",
   "execution_count": 64,
   "metadata": {},
   "outputs": [],
   "source": [
    "#create Doi to Author DF in MuxViz Format\n",
    "def Paper_Author_Mux(df):\n",
    "    df['layer1'] = 1\n",
    "    df['layer2'] = 2\n",
    "    df = df[['DOI', 'layer1', 'Author', 'layer2']]\n",
    "    df.rename(columns={'DOI':'From','Author':'To'}, inplace=True)\n",
    "    df.To = df.To.str.strip()\n",
    "    df.From = df.From.str.strip()\n",
    "    return df"
   ]
  },
  {
   "cell_type": "code",
   "execution_count": 60,
   "metadata": {},
   "outputs": [],
   "source": [
    "p2a_1 = Paper_Author_Mux(p2a_1)"
   ]
  },
  {
   "cell_type": "code",
   "execution_count": 62,
   "metadata": {},
   "outputs": [
    {
     "data": {
      "text/plain": [
       "(4452, 4)"
      ]
     },
     "execution_count": 62,
     "metadata": {},
     "output_type": "execute_result"
    }
   ],
   "source": [
    "p2a_1.shape"
   ]
  },
  {
   "cell_type": "code",
   "execution_count": 63,
   "metadata": {},
   "outputs": [
    {
     "data": {
      "text/html": [
       "<div>\n",
       "<style scoped>\n",
       "    .dataframe tbody tr th:only-of-type {\n",
       "        vertical-align: middle;\n",
       "    }\n",
       "\n",
       "    .dataframe tbody tr th {\n",
       "        vertical-align: top;\n",
       "    }\n",
       "\n",
       "    .dataframe thead th {\n",
       "        text-align: right;\n",
       "    }\n",
       "</style>\n",
       "<table border=\"1\" class=\"dataframe\">\n",
       "  <thead>\n",
       "    <tr style=\"text-align: right;\">\n",
       "      <th></th>\n",
       "      <th>From</th>\n",
       "      <th>layer1</th>\n",
       "      <th>To</th>\n",
       "      <th>layer2</th>\n",
       "    </tr>\n",
       "  </thead>\n",
       "  <tbody>\n",
       "    <tr>\n",
       "      <th>0</th>\n",
       "      <td>10.1002/pca.858</td>\n",
       "      <td>1</td>\n",
       "      <td>Li Shun-xing</td>\n",
       "      <td>2</td>\n",
       "    </tr>\n",
       "    <tr>\n",
       "      <th>1</th>\n",
       "      <td>10.1002/ptr.1719</td>\n",
       "      <td>1</td>\n",
       "      <td>David R. Katerere</td>\n",
       "      <td>2</td>\n",
       "    </tr>\n",
       "  </tbody>\n",
       "</table>\n",
       "</div>"
      ],
      "text/plain": [
       "               From  layer1                 To  layer2\n",
       "0   10.1002/pca.858       1       Li Shun-xing       2\n",
       "1  10.1002/ptr.1719       1  David R. Katerere       2"
      ]
     },
     "execution_count": 63,
     "metadata": {},
     "output_type": "execute_result"
    }
   ],
   "source": [
    "p2a_1.head(2)"
   ]
  },
  {
   "cell_type": "code",
   "execution_count": 53,
   "metadata": {},
   "outputs": [],
   "source": [
    "p2a_2 = Paper_Author_Mux(p2a_2)"
   ]
  },
  {
   "cell_type": "code",
   "execution_count": 55,
   "metadata": {},
   "outputs": [
    {
     "data": {
      "text/plain": [
       "(6261, 4)"
      ]
     },
     "execution_count": 55,
     "metadata": {},
     "output_type": "execute_result"
    }
   ],
   "source": [
    "p2a_2.shape"
   ]
  },
  {
   "cell_type": "code",
   "execution_count": 56,
   "metadata": {},
   "outputs": [],
   "source": [
    "p2a_3 = Paper_Author_Mux(p2a_3)"
   ]
  },
  {
   "cell_type": "code",
   "execution_count": 58,
   "metadata": {},
   "outputs": [
    {
     "data": {
      "text/plain": [
       "(9749, 4)"
      ]
     },
     "execution_count": 58,
     "metadata": {},
     "output_type": "execute_result"
    }
   ],
   "source": [
    "p2a_3.shape"
   ]
  },
  {
   "cell_type": "markdown",
   "metadata": {},
   "source": [
    "## Create Author to Author Dataframe"
   ]
  },
  {
   "cell_type": "code",
   "execution_count": 65,
   "metadata": {},
   "outputs": [
    {
     "data": {
      "text/html": [
       "<div>\n",
       "<style scoped>\n",
       "    .dataframe tbody tr th:only-of-type {\n",
       "        vertical-align: middle;\n",
       "    }\n",
       "\n",
       "    .dataframe tbody tr th {\n",
       "        vertical-align: top;\n",
       "    }\n",
       "\n",
       "    .dataframe thead th {\n",
       "        text-align: right;\n",
       "    }\n",
       "</style>\n",
       "<table border=\"1\" class=\"dataframe\">\n",
       "  <thead>\n",
       "    <tr style=\"text-align: right;\">\n",
       "      <th></th>\n",
       "      <th>Author</th>\n",
       "      <th>Co</th>\n",
       "    </tr>\n",
       "  </thead>\n",
       "  <tbody>\n",
       "    <tr>\n",
       "      <th>0</th>\n",
       "      <td>Li Shun-xing</td>\n",
       "      <td>Zheng Feng-ying</td>\n",
       "    </tr>\n",
       "  </tbody>\n",
       "</table>\n",
       "</div>"
      ],
      "text/plain": [
       "         Author               Co\n",
       "0  Li Shun-xing  Zheng Feng-ying"
      ]
     },
     "execution_count": 65,
     "metadata": {},
     "output_type": "execute_result"
    }
   ],
   "source": [
    "data_t1.head(1)"
   ]
  },
  {
   "cell_type": "code",
   "execution_count": 102,
   "metadata": {},
   "outputs": [],
   "source": [
    "def Author_Author_Mux(df):\n",
    "    df['layer1'] = 2\n",
    "    df['layer2'] = 2\n",
    "    df = df[['Author', 'layer1', 'Co', 'layer2']]\n",
    "    df.rename(columns={'Author':'From',\n",
    "                          'Co':'To'}, \n",
    "                 inplace=True)\n",
    "    df.To = df.To.str.strip()\n",
    "    df.From = df.From.str.strip()   \n",
    "    return df"
   ]
  },
  {
   "cell_type": "code",
   "execution_count": 107,
   "metadata": {},
   "outputs": [
    {
     "data": {
      "text/plain": [
       "(43562, 5)"
      ]
     },
     "execution_count": 107,
     "metadata": {},
     "output_type": "execute_result"
    }
   ],
   "source": [
    "a2a_1 = Author_Author_Mux(data_t1)\n",
    "df_t1.shape"
   ]
  },
  {
   "cell_type": "code",
   "execution_count": 108,
   "metadata": {},
   "outputs": [
    {
     "data": {
      "text/html": [
       "<div>\n",
       "<style scoped>\n",
       "    .dataframe tbody tr th:only-of-type {\n",
       "        vertical-align: middle;\n",
       "    }\n",
       "\n",
       "    .dataframe tbody tr th {\n",
       "        vertical-align: top;\n",
       "    }\n",
       "\n",
       "    .dataframe thead th {\n",
       "        text-align: right;\n",
       "    }\n",
       "</style>\n",
       "<table border=\"1\" class=\"dataframe\">\n",
       "  <thead>\n",
       "    <tr style=\"text-align: right;\">\n",
       "      <th></th>\n",
       "      <th>From</th>\n",
       "      <th>layer1</th>\n",
       "      <th>To</th>\n",
       "      <th>layer2</th>\n",
       "    </tr>\n",
       "  </thead>\n",
       "  <tbody>\n",
       "    <tr>\n",
       "      <th>0</th>\n",
       "      <td>Li Shun-xing</td>\n",
       "      <td>2</td>\n",
       "      <td>Zheng Feng-ying</td>\n",
       "      <td>2</td>\n",
       "    </tr>\n",
       "  </tbody>\n",
       "</table>\n",
       "</div>"
      ],
      "text/plain": [
       "           From  layer1               To  layer2\n",
       "0  Li Shun-xing       2  Zheng Feng-ying       2"
      ]
     },
     "execution_count": 108,
     "metadata": {},
     "output_type": "execute_result"
    }
   ],
   "source": [
    "a2a_1.head(1)"
   ]
  },
  {
   "cell_type": "code",
   "execution_count": 109,
   "metadata": {},
   "outputs": [
    {
     "data": {
      "text/plain": [
       "(20434, 4)"
      ]
     },
     "execution_count": 109,
     "metadata": {},
     "output_type": "execute_result"
    }
   ],
   "source": [
    "a2a_2 = Author_Author_Mux(data_t2)\n",
    "a2a_2.shape"
   ]
  },
  {
   "cell_type": "code",
   "execution_count": 110,
   "metadata": {},
   "outputs": [
    {
     "data": {
      "text/plain": [
       "(38784, 4)"
      ]
     },
     "execution_count": 110,
     "metadata": {},
     "output_type": "execute_result"
    }
   ],
   "source": [
    "a2a_3 = Author_Author_Mux(data_t3)\n",
    "a2a_3.shape"
   ]
  },
  {
   "cell_type": "markdown",
   "metadata": {},
   "source": [
    "## Create Paper to Paper Dataframe"
   ]
  },
  {
   "cell_type": "code",
   "execution_count": 87,
   "metadata": {},
   "outputs": [
    {
     "data": {
      "text/plain": [
       "(326, 2)"
      ]
     },
     "execution_count": 87,
     "metadata": {},
     "output_type": "execute_result"
    }
   ],
   "source": [
    "#Load Paper to Paper\n",
    "p2p_1 = pd.read_csv('MuxViz/Paper2PaperCSV/Paper2Paper_t1.csv')\n",
    "p2p_1.shape"
   ]
  },
  {
   "cell_type": "code",
   "execution_count": 88,
   "metadata": {},
   "outputs": [
    {
     "data": {
      "text/plain": [
       "(893, 2)"
      ]
     },
     "execution_count": 88,
     "metadata": {},
     "output_type": "execute_result"
    }
   ],
   "source": [
    "p2p_2 = pd.read_csv('MuxViz/Paper2PaperCSV/Paper2Paper_t2.csv')\n",
    "p2p_2.shape"
   ]
  },
  {
   "cell_type": "code",
   "execution_count": 89,
   "metadata": {
    "scrolled": true
   },
   "outputs": [
    {
     "data": {
      "text/plain": [
       "(1118, 2)"
      ]
     },
     "execution_count": 89,
     "metadata": {},
     "output_type": "execute_result"
    }
   ],
   "source": [
    "p2p_3 = pd.read_csv('MuxViz/Paper2PaperCSV/Paper2Paper_t3.csv')\n",
    "p2p_3.shape"
   ]
  },
  {
   "cell_type": "code",
   "execution_count": 80,
   "metadata": {},
   "outputs": [
    {
     "data": {
      "text/html": [
       "<div>\n",
       "<style scoped>\n",
       "    .dataframe tbody tr th:only-of-type {\n",
       "        vertical-align: middle;\n",
       "    }\n",
       "\n",
       "    .dataframe tbody tr th {\n",
       "        vertical-align: top;\n",
       "    }\n",
       "\n",
       "    .dataframe thead th {\n",
       "        text-align: right;\n",
       "    }\n",
       "</style>\n",
       "<table border=\"1\" class=\"dataframe\">\n",
       "  <thead>\n",
       "    <tr style=\"text-align: right;\">\n",
       "      <th></th>\n",
       "      <th>DOI</th>\n",
       "      <th>PAPER_REFERENCE_DOI</th>\n",
       "    </tr>\n",
       "  </thead>\n",
       "  <tbody>\n",
       "    <tr>\n",
       "      <th>0</th>\n",
       "      <td>10.1016/j.phymed.2010.07.006</td>\n",
       "      <td>10.1016/j.phymed.2003.11.007</td>\n",
       "    </tr>\n",
       "  </tbody>\n",
       "</table>\n",
       "</div>"
      ],
      "text/plain": [
       "                            DOI            PAPER_REFERENCE_DOI\n",
       "0  10.1016/j.phymed.2010.07.006   10.1016/j.phymed.2003.11.007"
      ]
     },
     "execution_count": 80,
     "metadata": {},
     "output_type": "execute_result"
    }
   ],
   "source": [
    "p2p_1.head(1)"
   ]
  },
  {
   "cell_type": "code",
   "execution_count": 90,
   "metadata": {},
   "outputs": [],
   "source": [
    "def Paper_Paper_Mux(df):\n",
    "    df['layer1'] = 1\n",
    "    df['layer2'] = 1\n",
    "    df = df[['DOI', 'layer1', 'PAPER_REFERENCE_DOI', 'layer2']]\n",
    "    df.rename(columns={'DOI':'From',\n",
    "                          'PAPER_REFERENCE_DOI':'To'}, \n",
    "                 inplace=True)\n",
    "    df.To = df.To.str.strip()\n",
    "    df.From = df.From.str.strip()   \n",
    "    return df"
   ]
  },
  {
   "cell_type": "code",
   "execution_count": 91,
   "metadata": {},
   "outputs": [],
   "source": [
    "p2p_1 = Paper_Paper_Mux(p2p_1)\n",
    "p2p_2 = Paper_Paper_Mux(p2p_2)\n",
    "p2p_3 = Paper_Paper_Mux(p2p_3)"
   ]
  },
  {
   "cell_type": "code",
   "execution_count": null,
   "metadata": {},
   "outputs": [],
   "source": []
  },
  {
   "cell_type": "code",
   "execution_count": null,
   "metadata": {},
   "outputs": [],
   "source": [
    "##Create First step layout file\n",
    "df_layers = p2p_1.append(data_t1, ignore_index=True)\n",
    "df_layers = df_layers.append(p2a_1, ignore_index=True)\n",
    "df_layers.From = df_layers.From.str.strip()\n",
    "df_layers.To = df_layers.To.str.strip()\n",
    "df_layers[\"Weight\"]=1"
   ]
  },
  {
   "cell_type": "markdown",
   "metadata": {},
   "source": [
    "## Create Muxiz Edgelists per Timeframe"
   ]
  },
  {
   "cell_type": "markdown",
   "metadata": {},
   "source": [
    "#### T1"
   ]
  },
  {
   "cell_type": "code",
   "execution_count": 97,
   "metadata": {},
   "outputs": [],
   "source": [
    "##Create First step layout file for Timeframe 1\n",
    "df_t1 = p2p_1.append(a2a_1, ignore_index=True)\n",
    "df_t1 = df_t1.append(p2a_1, ignore_index=True)\n",
    "df_t1.From = df_t1.From.str.strip()\n",
    "df_t1.To = df_t1.To.str.strip()\n",
    "df_t1[\"Weight\"]=1"
   ]
  },
  {
   "cell_type": "code",
   "execution_count": 99,
   "metadata": {
    "scrolled": true
   },
   "outputs": [
    {
     "data": {
      "text/html": [
       "<div>\n",
       "<style scoped>\n",
       "    .dataframe tbody tr th:only-of-type {\n",
       "        vertical-align: middle;\n",
       "    }\n",
       "\n",
       "    .dataframe tbody tr th {\n",
       "        vertical-align: top;\n",
       "    }\n",
       "\n",
       "    .dataframe thead th {\n",
       "        text-align: right;\n",
       "    }\n",
       "</style>\n",
       "<table border=\"1\" class=\"dataframe\">\n",
       "  <thead>\n",
       "    <tr style=\"text-align: right;\">\n",
       "      <th></th>\n",
       "      <th>From</th>\n",
       "      <th>layer1</th>\n",
       "      <th>To</th>\n",
       "      <th>layer2</th>\n",
       "      <th>Weight</th>\n",
       "    </tr>\n",
       "  </thead>\n",
       "  <tbody>\n",
       "    <tr>\n",
       "      <th>0</th>\n",
       "      <td>10.1016/j.phymed.2010.07.006</td>\n",
       "      <td>1</td>\n",
       "      <td>10.1016/j.phymed.2003.11.007</td>\n",
       "      <td>1</td>\n",
       "      <td>1</td>\n",
       "    </tr>\n",
       "  </tbody>\n",
       "</table>\n",
       "</div>"
      ],
      "text/plain": [
       "                           From  layer1                            To  layer2  \\\n",
       "0  10.1016/j.phymed.2010.07.006       1  10.1016/j.phymed.2003.11.007       1   \n",
       "\n",
       "   Weight  \n",
       "0       1  "
      ]
     },
     "execution_count": 99,
     "metadata": {},
     "output_type": "execute_result"
    }
   ],
   "source": [
    "df_t1.head(1)"
   ]
  },
  {
   "cell_type": "code",
   "execution_count": 100,
   "metadata": {},
   "outputs": [
    {
     "data": {
      "text/plain": [
       "(43562, 5)"
      ]
     },
     "execution_count": 100,
     "metadata": {},
     "output_type": "execute_result"
    }
   ],
   "source": [
    "df_t1.shape"
   ]
  },
  {
   "cell_type": "markdown",
   "metadata": {},
   "source": [
    "#### T2"
   ]
  },
  {
   "cell_type": "code",
   "execution_count": 112,
   "metadata": {},
   "outputs": [
    {
     "data": {
      "text/html": [
       "<div>\n",
       "<style scoped>\n",
       "    .dataframe tbody tr th:only-of-type {\n",
       "        vertical-align: middle;\n",
       "    }\n",
       "\n",
       "    .dataframe tbody tr th {\n",
       "        vertical-align: top;\n",
       "    }\n",
       "\n",
       "    .dataframe thead th {\n",
       "        text-align: right;\n",
       "    }\n",
       "</style>\n",
       "<table border=\"1\" class=\"dataframe\">\n",
       "  <thead>\n",
       "    <tr style=\"text-align: right;\">\n",
       "      <th></th>\n",
       "      <th>From</th>\n",
       "      <th>layer1</th>\n",
       "      <th>To</th>\n",
       "      <th>layer2</th>\n",
       "      <th>Weight</th>\n",
       "    </tr>\n",
       "  </thead>\n",
       "  <tbody>\n",
       "    <tr>\n",
       "      <th>0</th>\n",
       "      <td>10.1016/S0944-7113(98)80060-3</td>\n",
       "      <td>1</td>\n",
       "      <td>10.1016/S0944-7113(11)80059-0</td>\n",
       "      <td>1</td>\n",
       "      <td>1</td>\n",
       "    </tr>\n",
       "  </tbody>\n",
       "</table>\n",
       "</div>"
      ],
      "text/plain": [
       "                            From  layer1                             To  \\\n",
       "0  10.1016/S0944-7113(98)80060-3       1  10.1016/S0944-7113(11)80059-0   \n",
       "\n",
       "   layer2  Weight  \n",
       "0       1       1  "
      ]
     },
     "execution_count": 112,
     "metadata": {},
     "output_type": "execute_result"
    }
   ],
   "source": [
    "##Create First step layout file for Timeframe 1\n",
    "df_t2 = p2p_2.append(a2a_2, ignore_index=True)\n",
    "df_t2 = df_t2.append(p2a_2, ignore_index=True)\n",
    "df_t2.From = df_t2.From.str.strip()\n",
    "df_t2.To = df_t2.To.str.strip()\n",
    "df_t2[\"Weight\"]=1\n",
    "df_t2.head(1)"
   ]
  },
  {
   "cell_type": "markdown",
   "metadata": {},
   "source": [
    "#### T3"
   ]
  },
  {
   "cell_type": "code",
   "execution_count": 113,
   "metadata": {},
   "outputs": [
    {
     "data": {
      "text/html": [
       "<div>\n",
       "<style scoped>\n",
       "    .dataframe tbody tr th:only-of-type {\n",
       "        vertical-align: middle;\n",
       "    }\n",
       "\n",
       "    .dataframe tbody tr th {\n",
       "        vertical-align: top;\n",
       "    }\n",
       "\n",
       "    .dataframe thead th {\n",
       "        text-align: right;\n",
       "    }\n",
       "</style>\n",
       "<table border=\"1\" class=\"dataframe\">\n",
       "  <thead>\n",
       "    <tr style=\"text-align: right;\">\n",
       "      <th></th>\n",
       "      <th>From</th>\n",
       "      <th>layer1</th>\n",
       "      <th>To</th>\n",
       "      <th>layer2</th>\n",
       "      <th>Weight</th>\n",
       "    </tr>\n",
       "  </thead>\n",
       "  <tbody>\n",
       "    <tr>\n",
       "      <th>0</th>\n",
       "      <td>10.4193/Rhin19.089</td>\n",
       "      <td>1</td>\n",
       "      <td>10.1007/s12325-012-0014-z</td>\n",
       "      <td>1</td>\n",
       "      <td>1</td>\n",
       "    </tr>\n",
       "  </tbody>\n",
       "</table>\n",
       "</div>"
      ],
      "text/plain": [
       "                 From  layer1                         To  layer2  Weight\n",
       "0  10.4193/Rhin19.089       1  10.1007/s12325-012-0014-z       1       1"
      ]
     },
     "execution_count": 113,
     "metadata": {},
     "output_type": "execute_result"
    }
   ],
   "source": [
    "##Create First step layout file for Timeframe 1\n",
    "df_t3 = p2p_3.append(a2a_3, ignore_index=True)\n",
    "df_t3 = df_t3.append(p2a_3, ignore_index=True)\n",
    "df_t3.From = df_t3.From.str.strip()\n",
    "df_t3.To = df_t3.To.str.strip()\n",
    "df_t3[\"Weight\"]=1\n",
    "df_t3.head(1)"
   ]
  },
  {
   "cell_type": "markdown",
   "metadata": {},
   "source": [
    "### Create Biblio"
   ]
  },
  {
   "cell_type": "code",
   "execution_count": 64,
   "metadata": {},
   "outputs": [
    {
     "data": {
      "text/html": [
       "<div>\n",
       "<style scoped>\n",
       "    .dataframe tbody tr th:only-of-type {\n",
       "        vertical-align: middle;\n",
       "    }\n",
       "\n",
       "    .dataframe tbody tr th {\n",
       "        vertical-align: top;\n",
       "    }\n",
       "\n",
       "    .dataframe thead th {\n",
       "        text-align: right;\n",
       "    }\n",
       "</style>\n",
       "<table border=\"1\" class=\"dataframe\">\n",
       "  <thead>\n",
       "    <tr style=\"text-align: right;\">\n",
       "      <th></th>\n",
       "      <th>From</th>\n",
       "      <th>layer1</th>\n",
       "      <th>To</th>\n",
       "      <th>layer2</th>\n",
       "    </tr>\n",
       "  </thead>\n",
       "  <tbody>\n",
       "    <tr>\n",
       "      <th>0</th>\n",
       "      <td>10.1002/pca.858</td>\n",
       "      <td>1</td>\n",
       "      <td>Li Shun-xing</td>\n",
       "      <td>2</td>\n",
       "    </tr>\n",
       "    <tr>\n",
       "      <th>1</th>\n",
       "      <td>10.1002/ptr.1719</td>\n",
       "      <td>1</td>\n",
       "      <td>David R. Katerere</td>\n",
       "      <td>2</td>\n",
       "    </tr>\n",
       "    <tr>\n",
       "      <th>2</th>\n",
       "      <td>10.1002/ptr.1923</td>\n",
       "      <td>1</td>\n",
       "      <td>Jorge Alonso</td>\n",
       "      <td>2</td>\n",
       "    </tr>\n",
       "    <tr>\n",
       "      <th>3</th>\n",
       "      <td>10.1007/s00210-007-0175-5</td>\n",
       "      <td>1</td>\n",
       "      <td>Stefania Marzocco</td>\n",
       "      <td>2</td>\n",
       "    </tr>\n",
       "    <tr>\n",
       "      <th>4</th>\n",
       "      <td>10.1007/s00228-005-0050-6</td>\n",
       "      <td>1</td>\n",
       "      <td>Laura Cuzzolin</td>\n",
       "      <td>2</td>\n",
       "    </tr>\n",
       "    <tr>\n",
       "      <th>...</th>\n",
       "      <td>...</td>\n",
       "      <td>...</td>\n",
       "      <td>...</td>\n",
       "      <td>...</td>\n",
       "    </tr>\n",
       "    <tr>\n",
       "      <th>13640</th>\n",
       "      <td>10.1016/j.phymed.2009.01.008</td>\n",
       "      <td>1</td>\n",
       "      <td>Albert Sun Chi Chan</td>\n",
       "      <td>2</td>\n",
       "    </tr>\n",
       "    <tr>\n",
       "      <th>13717</th>\n",
       "      <td>10.1016/j.phymed.2009.06.001</td>\n",
       "      <td>1</td>\n",
       "      <td>Georg Krupitza</td>\n",
       "      <td>2</td>\n",
       "    </tr>\n",
       "    <tr>\n",
       "      <th>14504</th>\n",
       "      <td>10.1016/j.phymed.2009.01.008</td>\n",
       "      <td>1</td>\n",
       "      <td>Chung Hin Chui</td>\n",
       "      <td>2</td>\n",
       "    </tr>\n",
       "    <tr>\n",
       "      <th>15368</th>\n",
       "      <td>10.1016/j.phymed.2009.01.008</td>\n",
       "      <td>1</td>\n",
       "      <td>Johnny Cheuk On Tang</td>\n",
       "      <td>2</td>\n",
       "    </tr>\n",
       "    <tr>\n",
       "      <th>16232</th>\n",
       "      <td>10.1016/j.phymed.2009.01.008</td>\n",
       "      <td>1</td>\n",
       "      <td>David Wang Fun Fong</td>\n",
       "      <td>2</td>\n",
       "    </tr>\n",
       "  </tbody>\n",
       "</table>\n",
       "<p>4452 rows × 4 columns</p>\n",
       "</div>"
      ],
      "text/plain": [
       "                               From  layer1                    To  layer2\n",
       "0                   10.1002/pca.858       1          Li Shun-xing       2\n",
       "1                  10.1002/ptr.1719       1     David R. Katerere       2\n",
       "2                  10.1002/ptr.1923       1          Jorge Alonso       2\n",
       "3         10.1007/s00210-007-0175-5       1     Stefania Marzocco       2\n",
       "4         10.1007/s00228-005-0050-6       1        Laura Cuzzolin       2\n",
       "...                             ...     ...                   ...     ...\n",
       "13640  10.1016/j.phymed.2009.01.008       1   Albert Sun Chi Chan       2\n",
       "13717  10.1016/j.phymed.2009.06.001       1        Georg Krupitza       2\n",
       "14504  10.1016/j.phymed.2009.01.008       1        Chung Hin Chui       2\n",
       "15368  10.1016/j.phymed.2009.01.008       1  Johnny Cheuk On Tang       2\n",
       "16232  10.1016/j.phymed.2009.01.008       1   David Wang Fun Fong       2\n",
       "\n",
       "[4452 rows x 4 columns]"
      ]
     },
     "execution_count": 64,
     "metadata": {},
     "output_type": "execute_result"
    }
   ],
   "source": [
    "df_1 = p2a_1\n",
    "df_2 = p2a_2\n",
    "df_"
   ]
  },
  {
   "cell_type": "code",
   "execution_count": null,
   "metadata": {},
   "outputs": [],
   "source": [
    "def biblio(df):\n",
    "    x = pd.DataFrame(df[\"From\"])\n",
    "    x = x.rename(columns={\"From\": \"nodeLabel\"}) \n",
    "    y = pd.DataFrame(df[\"To\"])\n",
    "    y = y.rename(columns={\"To\": \"nodeLabel\"})\n",
    "    z = x.append(y)\n",
    "    # dropping duplicte values \n",
    "    z.drop_duplicates(subset =\"nodeLabel\", keep = \"first\", inplace = True) \n",
    "    z = z.reset_index()\n",
    "    del z['index']\n",
    "    z = z.reset_index()\n",
    "    z = z.rename(columns={\"index\": \"nodeID\"})"
   ]
  },
  {
   "cell_type": "code",
   "execution_count": 65,
   "metadata": {},
   "outputs": [],
   "source": [
    "x = pd.DataFrame(df_1[\"From\"])\n",
    "x = x.rename(columns={\"From\": \"nodeLabel\"}) \n",
    "y = pd.DataFrame(df_1[\"To\"])\n",
    "y = y.rename(columns={\"To\": \"nodeLabel\"})"
   ]
  },
  {
   "cell_type": "code",
   "execution_count": 114,
   "metadata": {},
   "outputs": [
    {
     "ename": "NameError",
     "evalue": "name 'x' is not defined",
     "output_type": "error",
     "traceback": [
      "\u001b[0;31m---------------------------------------------------------------------------\u001b[0m",
      "\u001b[0;31mNameError\u001b[0m                                 Traceback (most recent call last)",
      "\u001b[0;32m<ipython-input-114-86fdc0d34708>\u001b[0m in \u001b[0;36m<module>\u001b[0;34m\u001b[0m\n\u001b[0;32m----> 1\u001b[0;31m \u001b[0mx\u001b[0m\u001b[0;34m.\u001b[0m\u001b[0mhead\u001b[0m\u001b[0;34m(\u001b[0m\u001b[0;36m1\u001b[0m\u001b[0;34m)\u001b[0m\u001b[0;34m\u001b[0m\u001b[0;34m\u001b[0m\u001b[0m\n\u001b[0m",
      "\u001b[0;31mNameError\u001b[0m: name 'x' is not defined"
     ]
    }
   ],
   "source": [
    "x.head(1)"
   ]
  },
  {
   "cell_type": "code",
   "execution_count": 67,
   "metadata": {},
   "outputs": [],
   "source": [
    "z = x.append(y)"
   ]
  },
  {
   "cell_type": "code",
   "execution_count": 68,
   "metadata": {},
   "outputs": [
    {
     "data": {
      "text/html": [
       "<div>\n",
       "<style scoped>\n",
       "    .dataframe tbody tr th:only-of-type {\n",
       "        vertical-align: middle;\n",
       "    }\n",
       "\n",
       "    .dataframe tbody tr th {\n",
       "        vertical-align: top;\n",
       "    }\n",
       "\n",
       "    .dataframe thead th {\n",
       "        text-align: right;\n",
       "    }\n",
       "</style>\n",
       "<table border=\"1\" class=\"dataframe\">\n",
       "  <thead>\n",
       "    <tr style=\"text-align: right;\">\n",
       "      <th></th>\n",
       "      <th>nodeLabel</th>\n",
       "    </tr>\n",
       "  </thead>\n",
       "  <tbody>\n",
       "    <tr>\n",
       "      <th>0</th>\n",
       "      <td>10.1002/pca.858</td>\n",
       "    </tr>\n",
       "    <tr>\n",
       "      <th>1</th>\n",
       "      <td>10.1002/ptr.1719</td>\n",
       "    </tr>\n",
       "    <tr>\n",
       "      <th>2</th>\n",
       "      <td>10.1002/ptr.1923</td>\n",
       "    </tr>\n",
       "    <tr>\n",
       "      <th>3</th>\n",
       "      <td>10.1007/s00210-007-0175-5</td>\n",
       "    </tr>\n",
       "    <tr>\n",
       "      <th>4</th>\n",
       "      <td>10.1007/s00228-005-0050-6</td>\n",
       "    </tr>\n",
       "  </tbody>\n",
       "</table>\n",
       "</div>"
      ],
      "text/plain": [
       "                   nodeLabel\n",
       "0            10.1002/pca.858\n",
       "1           10.1002/ptr.1719\n",
       "2           10.1002/ptr.1923\n",
       "3  10.1007/s00210-007-0175-5\n",
       "4  10.1007/s00228-005-0050-6"
      ]
     },
     "execution_count": 68,
     "metadata": {},
     "output_type": "execute_result"
    }
   ],
   "source": [
    "z.head()"
   ]
  },
  {
   "cell_type": "code",
   "execution_count": 69,
   "metadata": {},
   "outputs": [
    {
     "data": {
      "text/plain": [
       "(8904, 1)"
      ]
     },
     "execution_count": 69,
     "metadata": {},
     "output_type": "execute_result"
    }
   ],
   "source": [
    "z.shape"
   ]
  },
  {
   "cell_type": "code",
   "execution_count": 70,
   "metadata": {},
   "outputs": [],
   "source": [
    "# dropping duplicte values \n",
    "z.drop_duplicates(subset =\"nodeLabel\", \n",
    "                         keep = \"first\", inplace = True) "
   ]
  },
  {
   "cell_type": "code",
   "execution_count": 71,
   "metadata": {},
   "outputs": [
    {
     "data": {
      "text/html": [
       "<div>\n",
       "<style scoped>\n",
       "    .dataframe tbody tr th:only-of-type {\n",
       "        vertical-align: middle;\n",
       "    }\n",
       "\n",
       "    .dataframe tbody tr th {\n",
       "        vertical-align: top;\n",
       "    }\n",
       "\n",
       "    .dataframe thead th {\n",
       "        text-align: right;\n",
       "    }\n",
       "</style>\n",
       "<table border=\"1\" class=\"dataframe\">\n",
       "  <thead>\n",
       "    <tr style=\"text-align: right;\">\n",
       "      <th></th>\n",
       "      <th>nodeLabel</th>\n",
       "    </tr>\n",
       "  </thead>\n",
       "  <tbody>\n",
       "    <tr>\n",
       "      <th>0</th>\n",
       "      <td>10.1002/pca.858</td>\n",
       "    </tr>\n",
       "    <tr>\n",
       "      <th>1</th>\n",
       "      <td>10.1002/ptr.1719</td>\n",
       "    </tr>\n",
       "    <tr>\n",
       "      <th>2</th>\n",
       "      <td>10.1002/ptr.1923</td>\n",
       "    </tr>\n",
       "    <tr>\n",
       "      <th>3</th>\n",
       "      <td>10.1007/s00210-007-0175-5</td>\n",
       "    </tr>\n",
       "    <tr>\n",
       "      <th>4</th>\n",
       "      <td>10.1007/s00228-005-0050-6</td>\n",
       "    </tr>\n",
       "    <tr>\n",
       "      <th>...</th>\n",
       "      <td>...</td>\n",
       "    </tr>\n",
       "    <tr>\n",
       "      <th>13640</th>\n",
       "      <td>Albert Sun Chi Chan</td>\n",
       "    </tr>\n",
       "    <tr>\n",
       "      <th>13717</th>\n",
       "      <td>Georg Krupitza</td>\n",
       "    </tr>\n",
       "    <tr>\n",
       "      <th>14504</th>\n",
       "      <td>Chung Hin Chui</td>\n",
       "    </tr>\n",
       "    <tr>\n",
       "      <th>15368</th>\n",
       "      <td>Johnny Cheuk On Tang</td>\n",
       "    </tr>\n",
       "    <tr>\n",
       "      <th>16232</th>\n",
       "      <td>David Wang Fun Fong</td>\n",
       "    </tr>\n",
       "  </tbody>\n",
       "</table>\n",
       "<p>4734 rows × 1 columns</p>\n",
       "</div>"
      ],
      "text/plain": [
       "                       nodeLabel\n",
       "0                10.1002/pca.858\n",
       "1               10.1002/ptr.1719\n",
       "2               10.1002/ptr.1923\n",
       "3      10.1007/s00210-007-0175-5\n",
       "4      10.1007/s00228-005-0050-6\n",
       "...                          ...\n",
       "13640        Albert Sun Chi Chan\n",
       "13717             Georg Krupitza\n",
       "14504             Chung Hin Chui\n",
       "15368       Johnny Cheuk On Tang\n",
       "16232        David Wang Fun Fong\n",
       "\n",
       "[4734 rows x 1 columns]"
      ]
     },
     "execution_count": 71,
     "metadata": {},
     "output_type": "execute_result"
    }
   ],
   "source": [
    "z"
   ]
  },
  {
   "cell_type": "code",
   "execution_count": 72,
   "metadata": {},
   "outputs": [],
   "source": [
    "z = z.reset_index()\n",
    "del z['index']"
   ]
  },
  {
   "cell_type": "code",
   "execution_count": 73,
   "metadata": {},
   "outputs": [],
   "source": [
    "z = z.reset_index()\n",
    "z = z.rename(columns={\"index\": \"nodeID\"})"
   ]
  },
  {
   "cell_type": "code",
   "execution_count": 74,
   "metadata": {},
   "outputs": [],
   "source": [
    "z.nodeLabel = z.nodeLabel.str.strip()"
   ]
  },
  {
   "cell_type": "code",
   "execution_count": 76,
   "metadata": {},
   "outputs": [],
   "source": [
    "z.nodeID += 1 "
   ]
  },
  {
   "cell_type": "code",
   "execution_count": 77,
   "metadata": {},
   "outputs": [
    {
     "data": {
      "text/html": [
       "<div>\n",
       "<style scoped>\n",
       "    .dataframe tbody tr th:only-of-type {\n",
       "        vertical-align: middle;\n",
       "    }\n",
       "\n",
       "    .dataframe tbody tr th {\n",
       "        vertical-align: top;\n",
       "    }\n",
       "\n",
       "    .dataframe thead th {\n",
       "        text-align: right;\n",
       "    }\n",
       "</style>\n",
       "<table border=\"1\" class=\"dataframe\">\n",
       "  <thead>\n",
       "    <tr style=\"text-align: right;\">\n",
       "      <th></th>\n",
       "      <th>nodeID</th>\n",
       "      <th>nodeLabel</th>\n",
       "    </tr>\n",
       "  </thead>\n",
       "  <tbody>\n",
       "    <tr>\n",
       "      <th>0</th>\n",
       "      <td>1</td>\n",
       "      <td>10.1002/pca.858</td>\n",
       "    </tr>\n",
       "    <tr>\n",
       "      <th>1</th>\n",
       "      <td>2</td>\n",
       "      <td>10.1002/ptr.1719</td>\n",
       "    </tr>\n",
       "    <tr>\n",
       "      <th>2</th>\n",
       "      <td>3</td>\n",
       "      <td>10.1002/ptr.1923</td>\n",
       "    </tr>\n",
       "    <tr>\n",
       "      <th>3</th>\n",
       "      <td>4</td>\n",
       "      <td>10.1007/s00210-007-0175-5</td>\n",
       "    </tr>\n",
       "    <tr>\n",
       "      <th>4</th>\n",
       "      <td>5</td>\n",
       "      <td>10.1007/s00228-005-0050-6</td>\n",
       "    </tr>\n",
       "  </tbody>\n",
       "</table>\n",
       "</div>"
      ],
      "text/plain": [
       "   nodeID                  nodeLabel\n",
       "0       1            10.1002/pca.858\n",
       "1       2           10.1002/ptr.1719\n",
       "2       3           10.1002/ptr.1923\n",
       "3       4  10.1007/s00210-007-0175-5\n",
       "4       5  10.1007/s00228-005-0050-6"
      ]
     },
     "execution_count": 77,
     "metadata": {},
     "output_type": "execute_result"
    }
   ],
   "source": [
    "z.head()"
   ]
  },
  {
   "cell_type": "code",
   "execution_count": 78,
   "metadata": {},
   "outputs": [
    {
     "data": {
      "text/html": [
       "<div>\n",
       "<style scoped>\n",
       "    .dataframe tbody tr th:only-of-type {\n",
       "        vertical-align: middle;\n",
       "    }\n",
       "\n",
       "    .dataframe tbody tr th {\n",
       "        vertical-align: top;\n",
       "    }\n",
       "\n",
       "    .dataframe thead th {\n",
       "        text-align: right;\n",
       "    }\n",
       "</style>\n",
       "<table border=\"1\" class=\"dataframe\">\n",
       "  <thead>\n",
       "    <tr style=\"text-align: right;\">\n",
       "      <th></th>\n",
       "      <th>nodeID</th>\n",
       "      <th>nodeLabel</th>\n",
       "    </tr>\n",
       "  </thead>\n",
       "  <tbody>\n",
       "    <tr>\n",
       "      <th>0</th>\n",
       "      <td>1</td>\n",
       "      <td>10.1002/pca.858</td>\n",
       "    </tr>\n",
       "    <tr>\n",
       "      <th>1</th>\n",
       "      <td>2</td>\n",
       "      <td>10.1002/ptr.1719</td>\n",
       "    </tr>\n",
       "    <tr>\n",
       "      <th>2</th>\n",
       "      <td>3</td>\n",
       "      <td>10.1002/ptr.1923</td>\n",
       "    </tr>\n",
       "    <tr>\n",
       "      <th>3</th>\n",
       "      <td>4</td>\n",
       "      <td>10.1007/s00210-007-0175-5</td>\n",
       "    </tr>\n",
       "    <tr>\n",
       "      <th>4</th>\n",
       "      <td>5</td>\n",
       "      <td>10.1007/s00228-005-0050-6</td>\n",
       "    </tr>\n",
       "    <tr>\n",
       "      <th>...</th>\n",
       "      <td>...</td>\n",
       "      <td>...</td>\n",
       "    </tr>\n",
       "    <tr>\n",
       "      <th>4729</th>\n",
       "      <td>4730</td>\n",
       "      <td>Albert Sun Chi Chan</td>\n",
       "    </tr>\n",
       "    <tr>\n",
       "      <th>4730</th>\n",
       "      <td>4731</td>\n",
       "      <td>Georg Krupitza</td>\n",
       "    </tr>\n",
       "    <tr>\n",
       "      <th>4731</th>\n",
       "      <td>4732</td>\n",
       "      <td>Chung Hin Chui</td>\n",
       "    </tr>\n",
       "    <tr>\n",
       "      <th>4732</th>\n",
       "      <td>4733</td>\n",
       "      <td>Johnny Cheuk On Tang</td>\n",
       "    </tr>\n",
       "    <tr>\n",
       "      <th>4733</th>\n",
       "      <td>4734</td>\n",
       "      <td>David Wang Fun Fong</td>\n",
       "    </tr>\n",
       "  </tbody>\n",
       "</table>\n",
       "<p>4734 rows × 2 columns</p>\n",
       "</div>"
      ],
      "text/plain": [
       "      nodeID                  nodeLabel\n",
       "0          1            10.1002/pca.858\n",
       "1          2           10.1002/ptr.1719\n",
       "2          3           10.1002/ptr.1923\n",
       "3          4  10.1007/s00210-007-0175-5\n",
       "4          5  10.1007/s00228-005-0050-6\n",
       "...      ...                        ...\n",
       "4729    4730        Albert Sun Chi Chan\n",
       "4730    4731             Georg Krupitza\n",
       "4731    4732             Chung Hin Chui\n",
       "4732    4733       Johnny Cheuk On Tang\n",
       "4733    4734        David Wang Fun Fong\n",
       "\n",
       "[4734 rows x 2 columns]"
      ]
     },
     "execution_count": 78,
     "metadata": {},
     "output_type": "execute_result"
    }
   ],
   "source": [
    "z"
   ]
  },
  {
   "cell_type": "code",
   "execution_count": 79,
   "metadata": {},
   "outputs": [],
   "source": [
    "# Data T1 to edge\n",
    "z.to_csv('MuxViz/layout_file15.txt', header=True, index=False, sep=' ', mode='a')"
   ]
  },
  {
   "cell_type": "markdown",
   "metadata": {},
   "source": [
    "## Try to change names to ID"
   ]
  },
  {
   "cell_type": "code",
   "execution_count": 80,
   "metadata": {},
   "outputs": [],
   "source": [
    "test = df_layers\n",
    "test = test.rename(columns={\"From\": \"nodeLabel\"})"
   ]
  },
  {
   "cell_type": "code",
   "execution_count": 81,
   "metadata": {},
   "outputs": [
    {
     "data": {
      "text/html": [
       "<div>\n",
       "<style scoped>\n",
       "    .dataframe tbody tr th:only-of-type {\n",
       "        vertical-align: middle;\n",
       "    }\n",
       "\n",
       "    .dataframe tbody tr th {\n",
       "        vertical-align: top;\n",
       "    }\n",
       "\n",
       "    .dataframe thead th {\n",
       "        text-align: right;\n",
       "    }\n",
       "</style>\n",
       "<table border=\"1\" class=\"dataframe\">\n",
       "  <thead>\n",
       "    <tr style=\"text-align: right;\">\n",
       "      <th></th>\n",
       "      <th>nodeLabel</th>\n",
       "      <th>layer1</th>\n",
       "      <th>To</th>\n",
       "      <th>layer2</th>\n",
       "      <th>Weight</th>\n",
       "    </tr>\n",
       "  </thead>\n",
       "  <tbody>\n",
       "    <tr>\n",
       "      <th>0</th>\n",
       "      <td>10.1016/j.phymed.2010.07.006</td>\n",
       "      <td>1</td>\n",
       "      <td>10.1016/j.phymed.2003.11.007</td>\n",
       "      <td>1</td>\n",
       "      <td>1</td>\n",
       "    </tr>\n",
       "  </tbody>\n",
       "</table>\n",
       "</div>"
      ],
      "text/plain": [
       "                      nodeLabel  layer1                            To  layer2  \\\n",
       "0  10.1016/j.phymed.2010.07.006       1  10.1016/j.phymed.2003.11.007       1   \n",
       "\n",
       "   Weight  \n",
       "0       1  "
      ]
     },
     "execution_count": 81,
     "metadata": {},
     "output_type": "execute_result"
    }
   ],
   "source": [
    "test.head(1)"
   ]
  },
  {
   "cell_type": "code",
   "execution_count": 82,
   "metadata": {},
   "outputs": [
    {
     "data": {
      "text/plain": [
       "(16796, 5)"
      ]
     },
     "execution_count": 82,
     "metadata": {},
     "output_type": "execute_result"
    }
   ],
   "source": [
    "test.shape"
   ]
  },
  {
   "cell_type": "code",
   "execution_count": 83,
   "metadata": {},
   "outputs": [
    {
     "data": {
      "text/html": [
       "<div>\n",
       "<style scoped>\n",
       "    .dataframe tbody tr th:only-of-type {\n",
       "        vertical-align: middle;\n",
       "    }\n",
       "\n",
       "    .dataframe tbody tr th {\n",
       "        vertical-align: top;\n",
       "    }\n",
       "\n",
       "    .dataframe thead th {\n",
       "        text-align: right;\n",
       "    }\n",
       "</style>\n",
       "<table border=\"1\" class=\"dataframe\">\n",
       "  <thead>\n",
       "    <tr style=\"text-align: right;\">\n",
       "      <th></th>\n",
       "      <th>nodeID</th>\n",
       "      <th>nodeLabel</th>\n",
       "    </tr>\n",
       "  </thead>\n",
       "  <tbody>\n",
       "    <tr>\n",
       "      <th>0</th>\n",
       "      <td>1</td>\n",
       "      <td>10.1002/pca.858</td>\n",
       "    </tr>\n",
       "  </tbody>\n",
       "</table>\n",
       "</div>"
      ],
      "text/plain": [
       "   nodeID        nodeLabel\n",
       "0       1  10.1002/pca.858"
      ]
     },
     "execution_count": 83,
     "metadata": {},
     "output_type": "execute_result"
    }
   ],
   "source": [
    "z.head(1)"
   ]
  },
  {
   "cell_type": "code",
   "execution_count": 84,
   "metadata": {},
   "outputs": [
    {
     "data": {
      "text/plain": [
       "(4734, 2)"
      ]
     },
     "execution_count": 84,
     "metadata": {},
     "output_type": "execute_result"
    }
   ],
   "source": [
    "z.shape"
   ]
  },
  {
   "cell_type": "code",
   "execution_count": 85,
   "metadata": {},
   "outputs": [],
   "source": [
    "df3 = pd.merge(test, z, on='nodeLabel')\n",
    "df3 = df3.drop(['nodeLabel'], axis=1)\n",
    "df3 = df3.rename(columns={\"nodeID\": \"From\"})\n",
    "df3 = df3.rename(columns={\"To\": \"nodeLabel\"})"
   ]
  },
  {
   "cell_type": "code",
   "execution_count": 86,
   "metadata": {},
   "outputs": [],
   "source": [
    "df3 = pd.merge(df3, z, on='nodeLabel')\n",
    "df3 = df3.drop(['nodeLabel'], axis=1)\n",
    "df3 = df3.rename(columns={\"nodeID\": \"To\"})"
   ]
  },
  {
   "cell_type": "code",
   "execution_count": 87,
   "metadata": {},
   "outputs": [
    {
     "data": {
      "text/html": [
       "<div>\n",
       "<style scoped>\n",
       "    .dataframe tbody tr th:only-of-type {\n",
       "        vertical-align: middle;\n",
       "    }\n",
       "\n",
       "    .dataframe tbody tr th {\n",
       "        vertical-align: top;\n",
       "    }\n",
       "\n",
       "    .dataframe thead th {\n",
       "        text-align: right;\n",
       "    }\n",
       "</style>\n",
       "<table border=\"1\" class=\"dataframe\">\n",
       "  <thead>\n",
       "    <tr style=\"text-align: right;\">\n",
       "      <th></th>\n",
       "      <th>layer1</th>\n",
       "      <th>layer2</th>\n",
       "      <th>Weight</th>\n",
       "      <th>From</th>\n",
       "      <th>To</th>\n",
       "    </tr>\n",
       "  </thead>\n",
       "  <tbody>\n",
       "    <tr>\n",
       "      <th>0</th>\n",
       "      <td>1</td>\n",
       "      <td>1</td>\n",
       "      <td>1</td>\n",
       "      <td>811</td>\n",
       "      <td>68</td>\n",
       "    </tr>\n",
       "  </tbody>\n",
       "</table>\n",
       "</div>"
      ],
      "text/plain": [
       "   layer1  layer2  Weight  From  To\n",
       "0       1       1       1   811  68"
      ]
     },
     "execution_count": 87,
     "metadata": {},
     "output_type": "execute_result"
    }
   ],
   "source": [
    "df3.head(1)"
   ]
  },
  {
   "cell_type": "code",
   "execution_count": 88,
   "metadata": {},
   "outputs": [],
   "source": [
    "df3 = df3[['From', 'layer1', 'To', 'layer2', 'Weight']]"
   ]
  },
  {
   "cell_type": "code",
   "execution_count": 89,
   "metadata": {},
   "outputs": [
    {
     "data": {
      "text/html": [
       "<div>\n",
       "<style scoped>\n",
       "    .dataframe tbody tr th:only-of-type {\n",
       "        vertical-align: middle;\n",
       "    }\n",
       "\n",
       "    .dataframe tbody tr th {\n",
       "        vertical-align: top;\n",
       "    }\n",
       "\n",
       "    .dataframe thead th {\n",
       "        text-align: right;\n",
       "    }\n",
       "</style>\n",
       "<table border=\"1\" class=\"dataframe\">\n",
       "  <thead>\n",
       "    <tr style=\"text-align: right;\">\n",
       "      <th></th>\n",
       "      <th>From</th>\n",
       "      <th>layer1</th>\n",
       "      <th>To</th>\n",
       "      <th>layer2</th>\n",
       "      <th>Weight</th>\n",
       "    </tr>\n",
       "  </thead>\n",
       "  <tbody>\n",
       "    <tr>\n",
       "      <th>0</th>\n",
       "      <td>811</td>\n",
       "      <td>1</td>\n",
       "      <td>68</td>\n",
       "      <td>1</td>\n",
       "      <td>1</td>\n",
       "    </tr>\n",
       "  </tbody>\n",
       "</table>\n",
       "</div>"
      ],
      "text/plain": [
       "   From  layer1  To  layer2  Weight\n",
       "0   811       1  68       1       1"
      ]
     },
     "execution_count": 89,
     "metadata": {},
     "output_type": "execute_result"
    }
   ],
   "source": [
    "df3.head(1)"
   ]
  },
  {
   "cell_type": "code",
   "execution_count": 90,
   "metadata": {},
   "outputs": [],
   "source": [
    "# Data T1 to txt\n",
    "df3.to_csv('MuxViz/Phyto_edges_15.txt', header=False, index=False, sep=' ', mode='a')"
   ]
  },
  {
   "cell_type": "code",
   "execution_count": 112,
   "metadata": {},
   "outputs": [
    {
     "data": {
      "text/plain": [
       "(16748, 5)"
      ]
     },
     "execution_count": 112,
     "metadata": {},
     "output_type": "execute_result"
    }
   ],
   "source": [
    "df3.shape"
   ]
  },
  {
   "cell_type": "code",
   "execution_count": null,
   "metadata": {},
   "outputs": [],
   "source": []
  },
  {
   "cell_type": "code",
   "execution_count": null,
   "metadata": {},
   "outputs": [],
   "source": []
  },
  {
   "cell_type": "code",
   "execution_count": 92,
   "metadata": {},
   "outputs": [
    {
     "data": {
      "text/html": [
       "<div>\n",
       "<style scoped>\n",
       "    .dataframe tbody tr th:only-of-type {\n",
       "        vertical-align: middle;\n",
       "    }\n",
       "\n",
       "    .dataframe tbody tr th {\n",
       "        vertical-align: top;\n",
       "    }\n",
       "\n",
       "    .dataframe thead th {\n",
       "        text-align: right;\n",
       "    }\n",
       "</style>\n",
       "<table border=\"1\" class=\"dataframe\">\n",
       "  <thead>\n",
       "    <tr style=\"text-align: right;\">\n",
       "      <th></th>\n",
       "      <th>From</th>\n",
       "      <th>layer1</th>\n",
       "      <th>To</th>\n",
       "      <th>layer2</th>\n",
       "    </tr>\n",
       "  </thead>\n",
       "  <tbody>\n",
       "    <tr>\n",
       "      <th>0</th>\n",
       "      <td>Li Shun-xing</td>\n",
       "      <td>2</td>\n",
       "      <td>Zheng Feng-ying</td>\n",
       "      <td>2</td>\n",
       "    </tr>\n",
       "    <tr>\n",
       "      <th>1</th>\n",
       "      <td>Li Shun-xing</td>\n",
       "      <td>2</td>\n",
       "      <td>Liu Xian-li</td>\n",
       "      <td>2</td>\n",
       "    </tr>\n",
       "    <tr>\n",
       "      <th>2</th>\n",
       "      <td>Li Shun-xing</td>\n",
       "      <td>2</td>\n",
       "      <td>Cai Wen-lian</td>\n",
       "      <td>2</td>\n",
       "    </tr>\n",
       "    <tr>\n",
       "      <th>3</th>\n",
       "      <td>Zheng Feng-ying</td>\n",
       "      <td>2</td>\n",
       "      <td>Liu Xian-li</td>\n",
       "      <td>2</td>\n",
       "    </tr>\n",
       "    <tr>\n",
       "      <th>4</th>\n",
       "      <td>Zheng Feng-ying</td>\n",
       "      <td>2</td>\n",
       "      <td>Cai Wen-lian</td>\n",
       "      <td>2</td>\n",
       "    </tr>\n",
       "  </tbody>\n",
       "</table>\n",
       "</div>"
      ],
      "text/plain": [
       "              From  layer1               To  layer2\n",
       "0     Li Shun-xing       2  Zheng Feng-ying       2\n",
       "1     Li Shun-xing       2      Liu Xian-li       2\n",
       "2     Li Shun-xing       2     Cai Wen-lian       2\n",
       "3  Zheng Feng-ying       2      Liu Xian-li       2\n",
       "4  Zheng Feng-ying       2     Cai Wen-lian       2"
      ]
     },
     "execution_count": 92,
     "metadata": {},
     "output_type": "execute_result"
    }
   ],
   "source": [
    "data_t1.head()"
   ]
  },
  {
   "cell_type": "markdown",
   "metadata": {},
   "source": [
    "##  First Network Insights"
   ]
  },
  {
   "cell_type": "code",
   "execution_count": 94,
   "metadata": {},
   "outputs": [],
   "source": [
    "# Create Networks\n",
    "G1 = nx.from_pandas_edgelist(data_t1, source=\"Author\", target=\"Co\")\n",
    "G2 = nx.from_pandas_edgelist(data_t2, source=\"Author\", target=\"Co\")\n",
    "G3 = nx.from_pandas_edgelist(data_t3, source=\"Author\", target=\"Co\")"
   ]
  },
  {
   "cell_type": "code",
   "execution_count": 95,
   "metadata": {},
   "outputs": [],
   "source": [
    "def network_info(G, name): \n",
    "    Name = str(name)\n",
    "    network_info = pd.DataFrame([],[\"Year bin \" + Name], columns = [\"Number of Nodes\",\"Number of Edges\"])\n",
    "    network_info[\"Number of Nodes\"] = G.number_of_nodes()\n",
    "    network_info[\"Number of Edges\"] = G.number_of_edges()\n",
    "    network_info[\"Network Density\"] = nx.density(G)\n",
    "    G_deg = nx.degree_histogram(G)\n",
    "    G_deg_sum = [a * b for a, b in zip(G_deg, range(0, len(G_deg)))]\n",
    "    network_info[\"Average Degree\"] = (sum(G_deg_sum) / G.number_of_nodes())\n",
    "    x = network_info\n",
    "    return x\n",
    "\n",
    "    \n",
    "\n",
    "#dataframe = dataframe.append(x, ignore_index=True)"
   ]
  },
  {
   "cell_type": "code",
   "execution_count": null,
   "metadata": {},
   "outputs": [],
   "source": []
  },
  {
   "cell_type": "code",
   "execution_count": 96,
   "metadata": {},
   "outputs": [],
   "source": [
    "ni_1 = network_info(G1,1)\n",
    "ni_2 = network_info(G2,2)\n",
    "ni_3 = network_info(G3,3)"
   ]
  },
  {
   "cell_type": "code",
   "execution_count": 97,
   "metadata": {},
   "outputs": [
    {
     "data": {
      "text/html": [
       "<div>\n",
       "<style scoped>\n",
       "    .dataframe tbody tr th:only-of-type {\n",
       "        vertical-align: middle;\n",
       "    }\n",
       "\n",
       "    .dataframe tbody tr th {\n",
       "        vertical-align: top;\n",
       "    }\n",
       "\n",
       "    .dataframe thead th {\n",
       "        text-align: right;\n",
       "    }\n",
       "</style>\n",
       "<table border=\"1\" class=\"dataframe\">\n",
       "  <thead>\n",
       "    <tr style=\"text-align: right;\">\n",
       "      <th></th>\n",
       "      <th>Number of Nodes</th>\n",
       "      <th>Number of Edges</th>\n",
       "      <th>Network Density</th>\n",
       "      <th>Average Degree</th>\n",
       "    </tr>\n",
       "  </thead>\n",
       "  <tbody>\n",
       "    <tr>\n",
       "      <th>Year bin 1</th>\n",
       "      <td>3883</td>\n",
       "      <td>11462</td>\n",
       "      <td>0.001521</td>\n",
       "      <td>5.903683</td>\n",
       "    </tr>\n",
       "    <tr>\n",
       "      <th>Year bin 2</th>\n",
       "      <td>5374</td>\n",
       "      <td>19208</td>\n",
       "      <td>0.001330</td>\n",
       "      <td>7.148493</td>\n",
       "    </tr>\n",
       "    <tr>\n",
       "      <th>Year bin 3</th>\n",
       "      <td>8329</td>\n",
       "      <td>36648</td>\n",
       "      <td>0.001057</td>\n",
       "      <td>8.800096</td>\n",
       "    </tr>\n",
       "  </tbody>\n",
       "</table>\n",
       "</div>"
      ],
      "text/plain": [
       "            Number of Nodes  Number of Edges  Network Density  Average Degree\n",
       "Year bin 1             3883            11462         0.001521        5.903683\n",
       "Year bin 2             5374            19208         0.001330        7.148493\n",
       "Year bin 3             8329            36648         0.001057        8.800096"
      ]
     },
     "execution_count": 97,
     "metadata": {},
     "output_type": "execute_result"
    }
   ],
   "source": [
    "ni_1 = ni_1.append(ni_2)\n",
    "info_networks = ni_1.append(ni_3)\n",
    "info_networks"
   ]
  },
  {
   "cell_type": "markdown",
   "metadata": {},
   "source": [
    "### Deeper Network Analysis"
   ]
  },
  {
   "cell_type": "code",
   "execution_count": 98,
   "metadata": {},
   "outputs": [],
   "source": [
    "def network_insights(G):\n",
    "    G = G\n",
    "    degree_dict = dict(G.degree(G.nodes()))\n",
    "    nx.set_node_attributes(G, degree_dict, 'degree')\n",
    "    #sort by degree\n",
    "    sorted_degree = sorted(degree_dict.items(), key=itemgetter(1), reverse=True)\n",
    "    \n",
    "    betweenness_dict = nx.betweenness_centrality(G) # Run betweenness centrality\n",
    "    #eigenvector_dict = nx.eigenvector_centrality(G) # Run eigenvector centrality\n",
    "\n",
    "    # Assign each to an attribute in your network\n",
    "    nx.set_node_attributes(G, betweenness_dict, 'betweenness')\n",
    "    #nx.set_node_attributes(G, eigenvector_dict, 'eigenvector')\n",
    "    \n",
    "    #sort by betweenness\n",
    "    sorted_betweenness = sorted(betweenness_dict.items(), key=itemgetter(1), reverse=True)\n",
    "    #sort by eigenvector\n",
    "    #sorted_eigenvector = sorted(eigenvector_dict.items(), key=itemgetter(1), reverse=True)\n",
    "\n",
    "    #network_insights = pd.DataFrame([], columns = [\"Top nodes by degree:\",\"Top 20 nodes by betweenness centrality:\",\"Top 20 nodes by eigenvector:\"])\n",
    "    \n",
    "    #Top 20 by degree\n",
    "    liste_d = []\n",
    "    for d in sorted_degree[:20]:\n",
    "        liste_d.append(d)\n",
    "    df_degree = pd.DataFrame(liste_d,columns = [\"Top 20 nodes by degree:\", \"Degree\"])\n",
    "    \n",
    "    #Top 20 by betweenness\n",
    "    liste_b = []\n",
    "    for d in sorted_betweenness[:20]:\n",
    "        liste_b.append(d)\n",
    "    df_between = pd.DataFrame(liste_b,columns = [\"Top 20 nodes by betweenness:\", \"Betweenness\"])\n",
    "    \n",
    "     #Top 20 by eigenvector\n",
    "    #liste_e = []\n",
    "    #for d in sorted_eigenvector[:20]:\n",
    "    #    liste_e.append(d)\n",
    "    #df_eigenvector = pd.DataFrame(liste_e,columns = [\"Top 20 nodes eigenvector:\", \"eigenvector\"])\n",
    "    \n",
    "    #df_eigenvector missing\n",
    "    network_insights = pd.concat([df_degree, df_between], axis=1, sort=False)\n",
    "    return network_insights\n",
    "\n"
   ]
  },
  {
   "cell_type": "code",
   "execution_count": 50,
   "metadata": {
    "scrolled": false
   },
   "outputs": [
    {
     "data": {
      "text/html": [
       "<div>\n",
       "<style scoped>\n",
       "    .dataframe tbody tr th:only-of-type {\n",
       "        vertical-align: middle;\n",
       "    }\n",
       "\n",
       "    .dataframe tbody tr th {\n",
       "        vertical-align: top;\n",
       "    }\n",
       "\n",
       "    .dataframe thead th {\n",
       "        text-align: right;\n",
       "    }\n",
       "</style>\n",
       "<table border=\"1\" class=\"dataframe\">\n",
       "  <thead>\n",
       "    <tr style=\"text-align: right;\">\n",
       "      <th></th>\n",
       "      <th>Top 20 nodes by degree:</th>\n",
       "      <th>Degree</th>\n",
       "      <th>Top 20 nodes by betweenness:</th>\n",
       "      <th>Betweenness</th>\n",
       "    </tr>\n",
       "  </thead>\n",
       "  <tbody>\n",
       "    <tr>\n",
       "      <th>0</th>\n",
       "      <td>S. Singh</td>\n",
       "      <td>36</td>\n",
       "      <td>Y. Li</td>\n",
       "      <td>0.000155</td>\n",
       "    </tr>\n",
       "    <tr>\n",
       "      <th>1</th>\n",
       "      <td>O. Kelber</td>\n",
       "      <td>33</td>\n",
       "      <td>L. Liu</td>\n",
       "      <td>0.000127</td>\n",
       "    </tr>\n",
       "    <tr>\n",
       "      <th>2</th>\n",
       "      <td>D. Weiser</td>\n",
       "      <td>32</td>\n",
       "      <td>X. Wang</td>\n",
       "      <td>0.000096</td>\n",
       "    </tr>\n",
       "    <tr>\n",
       "      <th>3</th>\n",
       "      <td>S. Chrubasik</td>\n",
       "      <td>26</td>\n",
       "      <td>S. Chrubasik</td>\n",
       "      <td>0.000093</td>\n",
       "    </tr>\n",
       "    <tr>\n",
       "      <th>4</th>\n",
       "      <td>Roberto Gambari</td>\n",
       "      <td>26</td>\n",
       "      <td>R. Wang</td>\n",
       "      <td>0.000081</td>\n",
       "    </tr>\n",
       "    <tr>\n",
       "      <th>5</th>\n",
       "      <td>Y. Li</td>\n",
       "      <td>26</td>\n",
       "      <td>J.H.K. Yeung</td>\n",
       "      <td>0.000081</td>\n",
       "    </tr>\n",
       "    <tr>\n",
       "      <th>6</th>\n",
       "      <td>J. Tortoriello</td>\n",
       "      <td>25</td>\n",
       "      <td>A. Saija</td>\n",
       "      <td>0.000079</td>\n",
       "    </tr>\n",
       "    <tr>\n",
       "      <th>7</th>\n",
       "      <td>John T. Arnason</td>\n",
       "      <td>25</td>\n",
       "      <td>C. Puglia</td>\n",
       "      <td>0.000067</td>\n",
       "    </tr>\n",
       "    <tr>\n",
       "      <th>8</th>\n",
       "      <td>Lu-Ping Qin</td>\n",
       "      <td>25</td>\n",
       "      <td>O. Kelber</td>\n",
       "      <td>0.000060</td>\n",
       "    </tr>\n",
       "    <tr>\n",
       "      <th>9</th>\n",
       "      <td>Hong Zhang</td>\n",
       "      <td>23</td>\n",
       "      <td>R. Li</td>\n",
       "      <td>0.000058</td>\n",
       "    </tr>\n",
       "    <tr>\n",
       "      <th>10</th>\n",
       "      <td>Ting Han</td>\n",
       "      <td>23</td>\n",
       "      <td>D. Weiser</td>\n",
       "      <td>0.000056</td>\n",
       "    </tr>\n",
       "    <tr>\n",
       "      <th>11</th>\n",
       "      <td>R. Bauer</td>\n",
       "      <td>20</td>\n",
       "      <td>S. Singh</td>\n",
       "      <td>0.000053</td>\n",
       "    </tr>\n",
       "    <tr>\n",
       "      <th>12</th>\n",
       "      <td>Bo Liu</td>\n",
       "      <td>19</td>\n",
       "      <td>R. Bauer</td>\n",
       "      <td>0.000052</td>\n",
       "    </tr>\n",
       "    <tr>\n",
       "      <th>13</th>\n",
       "      <td>A. Saija</td>\n",
       "      <td>18</td>\n",
       "      <td>J. Tortoriello</td>\n",
       "      <td>0.000052</td>\n",
       "    </tr>\n",
       "    <tr>\n",
       "      <th>14</th>\n",
       "      <td>A. Khajuria</td>\n",
       "      <td>18</td>\n",
       "      <td>V. Cardile</td>\n",
       "      <td>0.000048</td>\n",
       "    </tr>\n",
       "    <tr>\n",
       "      <th>15</th>\n",
       "      <td>Sangmin Kim</td>\n",
       "      <td>18</td>\n",
       "      <td>J. Heilmann</td>\n",
       "      <td>0.000038</td>\n",
       "    </tr>\n",
       "    <tr>\n",
       "      <th>16</th>\n",
       "      <td>Desmond Kwok Po Hau</td>\n",
       "      <td>18</td>\n",
       "      <td>T.C.M. De Lima</td>\n",
       "      <td>0.000037</td>\n",
       "    </tr>\n",
       "    <tr>\n",
       "      <th>17</th>\n",
       "      <td>Raymond Siu Ming Wong</td>\n",
       "      <td>18</td>\n",
       "      <td>G. Mazzanti</td>\n",
       "      <td>0.000032</td>\n",
       "    </tr>\n",
       "    <tr>\n",
       "      <th>18</th>\n",
       "      <td>Marcus Chun Wah Yuen</td>\n",
       "      <td>18</td>\n",
       "      <td>F. Bucar</td>\n",
       "      <td>0.000028</td>\n",
       "    </tr>\n",
       "    <tr>\n",
       "      <th>19</th>\n",
       "      <td>Gregory Yin Ming Cheng</td>\n",
       "      <td>18</td>\n",
       "      <td>H. Wagner</td>\n",
       "      <td>0.000027</td>\n",
       "    </tr>\n",
       "  </tbody>\n",
       "</table>\n",
       "</div>"
      ],
      "text/plain": [
       "   Top 20 nodes by degree:  Degree Top 20 nodes by betweenness:  Betweenness\n",
       "0                 S. Singh      36                        Y. Li     0.000155\n",
       "1                O. Kelber      33                       L. Liu     0.000127\n",
       "2                D. Weiser      32                      X. Wang     0.000096\n",
       "3             S. Chrubasik      26                 S. Chrubasik     0.000093\n",
       "4          Roberto Gambari      26                      R. Wang     0.000081\n",
       "5                    Y. Li      26                 J.H.K. Yeung     0.000081\n",
       "6           J. Tortoriello      25                     A. Saija     0.000079\n",
       "7          John T. Arnason      25                    C. Puglia     0.000067\n",
       "8              Lu-Ping Qin      25                    O. Kelber     0.000060\n",
       "9               Hong Zhang      23                        R. Li     0.000058\n",
       "10                Ting Han      23                    D. Weiser     0.000056\n",
       "11                R. Bauer      20                     S. Singh     0.000053\n",
       "12                  Bo Liu      19                     R. Bauer     0.000052\n",
       "13                A. Saija      18               J. Tortoriello     0.000052\n",
       "14             A. Khajuria      18                   V. Cardile     0.000048\n",
       "15             Sangmin Kim      18                  J. Heilmann     0.000038\n",
       "16     Desmond Kwok Po Hau      18               T.C.M. De Lima     0.000037\n",
       "17   Raymond Siu Ming Wong      18                  G. Mazzanti     0.000032\n",
       "18    Marcus Chun Wah Yuen      18                     F. Bucar     0.000028\n",
       "19  Gregory Yin Ming Cheng      18                    H. Wagner     0.000027"
      ]
     },
     "execution_count": 50,
     "metadata": {},
     "output_type": "execute_result"
    }
   ],
   "source": [
    "network_insights(G1)"
   ]
  },
  {
   "cell_type": "code",
   "execution_count": 51,
   "metadata": {},
   "outputs": [
    {
     "data": {
      "text/html": [
       "<div>\n",
       "<style scoped>\n",
       "    .dataframe tbody tr th:only-of-type {\n",
       "        vertical-align: middle;\n",
       "    }\n",
       "\n",
       "    .dataframe tbody tr th {\n",
       "        vertical-align: top;\n",
       "    }\n",
       "\n",
       "    .dataframe thead th {\n",
       "        text-align: right;\n",
       "    }\n",
       "</style>\n",
       "<table border=\"1\" class=\"dataframe\">\n",
       "  <thead>\n",
       "    <tr style=\"text-align: right;\">\n",
       "      <th></th>\n",
       "      <th>Top 20 nodes by degree:</th>\n",
       "      <th>Degree</th>\n",
       "      <th>Top 20 nodes by betweenness:</th>\n",
       "      <th>Betweenness</th>\n",
       "    </tr>\n",
       "  </thead>\n",
       "  <tbody>\n",
       "    <tr>\n",
       "      <th>0</th>\n",
       "      <td>John H.K. Yeung</td>\n",
       "      <td>55</td>\n",
       "      <td>Xuelin Zhou</td>\n",
       "      <td>0.001171</td>\n",
       "    </tr>\n",
       "    <tr>\n",
       "      <th>1</th>\n",
       "      <td>Thomas Efferth</td>\n",
       "      <td>51</td>\n",
       "      <td>John H.K. Yeung</td>\n",
       "      <td>0.000955</td>\n",
       "    </tr>\n",
       "    <tr>\n",
       "      <th>2</th>\n",
       "      <td>Xuelin Zhou</td>\n",
       "      <td>41</td>\n",
       "      <td>Jack Ho Wong</td>\n",
       "      <td>0.000941</td>\n",
       "    </tr>\n",
       "    <tr>\n",
       "      <th>3</th>\n",
       "      <td>Penelope M.Y. Or</td>\n",
       "      <td>37</td>\n",
       "      <td>Yan-Fang Xian</td>\n",
       "      <td>0.000837</td>\n",
       "    </tr>\n",
       "    <tr>\n",
       "      <th>4</th>\n",
       "      <td>Clara Bik-San Lau</td>\n",
       "      <td>35</td>\n",
       "      <td>Lei Li</td>\n",
       "      <td>0.000696</td>\n",
       "    </tr>\n",
       "    <tr>\n",
       "      <th>5</th>\n",
       "      <td>Yan Li</td>\n",
       "      <td>33</td>\n",
       "      <td>Zi-Ren Su</td>\n",
       "      <td>0.000669</td>\n",
       "    </tr>\n",
       "    <tr>\n",
       "      <th>6</th>\n",
       "      <td>Ping Li</td>\n",
       "      <td>33</td>\n",
       "      <td>Wei Huang</td>\n",
       "      <td>0.000582</td>\n",
       "    </tr>\n",
       "    <tr>\n",
       "      <th>7</th>\n",
       "      <td>Michael Wink</td>\n",
       "      <td>32</td>\n",
       "      <td>Thomas Efferth</td>\n",
       "      <td>0.000564</td>\n",
       "    </tr>\n",
       "    <tr>\n",
       "      <th>8</th>\n",
       "      <td>Li Zhang</td>\n",
       "      <td>31</td>\n",
       "      <td>Yu Kong</td>\n",
       "      <td>0.000528</td>\n",
       "    </tr>\n",
       "    <tr>\n",
       "      <th>9</th>\n",
       "      <td>Zi-Ren Su</td>\n",
       "      <td>31</td>\n",
       "      <td>Hui Wang</td>\n",
       "      <td>0.000495</td>\n",
       "    </tr>\n",
       "    <tr>\n",
       "      <th>10</th>\n",
       "      <td>Ping-Chung Leung</td>\n",
       "      <td>30</td>\n",
       "      <td>Michael Wink</td>\n",
       "      <td>0.000421</td>\n",
       "    </tr>\n",
       "    <tr>\n",
       "      <th>11</th>\n",
       "      <td>Divya Singh</td>\n",
       "      <td>28</td>\n",
       "      <td>Clara Bik-San Lau</td>\n",
       "      <td>0.000402</td>\n",
       "    </tr>\n",
       "    <tr>\n",
       "      <th>12</th>\n",
       "      <td>Victor Kuete</td>\n",
       "      <td>28</td>\n",
       "      <td>Si Gao</td>\n",
       "      <td>0.000378</td>\n",
       "    </tr>\n",
       "    <tr>\n",
       "      <th>13</th>\n",
       "      <td>Hui Wang</td>\n",
       "      <td>27</td>\n",
       "      <td>Y.W. Kwan</td>\n",
       "      <td>0.000367</td>\n",
       "    </tr>\n",
       "    <tr>\n",
       "      <th>14</th>\n",
       "      <td>K.P. Fung</td>\n",
       "      <td>25</td>\n",
       "      <td>Guo-Yuan Zhu</td>\n",
       "      <td>0.000332</td>\n",
       "    </tr>\n",
       "    <tr>\n",
       "      <th>15</th>\n",
       "      <td>P.C. Leung</td>\n",
       "      <td>25</td>\n",
       "      <td>Ping-Chung Leung</td>\n",
       "      <td>0.000312</td>\n",
       "    </tr>\n",
       "    <tr>\n",
       "      <th>16</th>\n",
       "      <td>Zhao-Xiang Bian</td>\n",
       "      <td>25</td>\n",
       "      <td>Chun-Tao Che</td>\n",
       "      <td>0.000295</td>\n",
       "    </tr>\n",
       "    <tr>\n",
       "      <th>17</th>\n",
       "      <td>Rakesh Maurya</td>\n",
       "      <td>24</td>\n",
       "      <td>Yan Li</td>\n",
       "      <td>0.000295</td>\n",
       "    </tr>\n",
       "    <tr>\n",
       "      <th>18</th>\n",
       "      <td>Jack Ho Wong</td>\n",
       "      <td>24</td>\n",
       "      <td>Ping Yao</td>\n",
       "      <td>0.000282</td>\n",
       "    </tr>\n",
       "    <tr>\n",
       "      <th>19</th>\n",
       "      <td>Jai-Sing Yang</td>\n",
       "      <td>24</td>\n",
       "      <td>Z. Zhang</td>\n",
       "      <td>0.000276</td>\n",
       "    </tr>\n",
       "  </tbody>\n",
       "</table>\n",
       "</div>"
      ],
      "text/plain": [
       "   Top 20 nodes by degree:  Degree Top 20 nodes by betweenness:  Betweenness\n",
       "0          John H.K. Yeung      55                  Xuelin Zhou     0.001171\n",
       "1           Thomas Efferth      51              John H.K. Yeung     0.000955\n",
       "2              Xuelin Zhou      41                 Jack Ho Wong     0.000941\n",
       "3         Penelope M.Y. Or      37                Yan-Fang Xian     0.000837\n",
       "4        Clara Bik-San Lau      35                       Lei Li     0.000696\n",
       "5                   Yan Li      33                    Zi-Ren Su     0.000669\n",
       "6                  Ping Li      33                    Wei Huang     0.000582\n",
       "7             Michael Wink      32               Thomas Efferth     0.000564\n",
       "8                 Li Zhang      31                      Yu Kong     0.000528\n",
       "9                Zi-Ren Su      31                     Hui Wang     0.000495\n",
       "10        Ping-Chung Leung      30                 Michael Wink     0.000421\n",
       "11             Divya Singh      28            Clara Bik-San Lau     0.000402\n",
       "12            Victor Kuete      28                       Si Gao     0.000378\n",
       "13                Hui Wang      27                    Y.W. Kwan     0.000367\n",
       "14               K.P. Fung      25                 Guo-Yuan Zhu     0.000332\n",
       "15              P.C. Leung      25             Ping-Chung Leung     0.000312\n",
       "16         Zhao-Xiang Bian      25                 Chun-Tao Che     0.000295\n",
       "17           Rakesh Maurya      24                       Yan Li     0.000295\n",
       "18            Jack Ho Wong      24                     Ping Yao     0.000282\n",
       "19           Jai-Sing Yang      24                     Z. Zhang     0.000276"
      ]
     },
     "execution_count": 51,
     "metadata": {},
     "output_type": "execute_result"
    }
   ],
   "source": [
    "#2010-2014\n",
    "network_insights(G2)"
   ]
  },
  {
   "cell_type": "code",
   "execution_count": 52,
   "metadata": {},
   "outputs": [
    {
     "data": {
      "text/html": [
       "<div>\n",
       "<style scoped>\n",
       "    .dataframe tbody tr th:only-of-type {\n",
       "        vertical-align: middle;\n",
       "    }\n",
       "\n",
       "    .dataframe tbody tr th {\n",
       "        vertical-align: top;\n",
       "    }\n",
       "\n",
       "    .dataframe thead th {\n",
       "        text-align: right;\n",
       "    }\n",
       "</style>\n",
       "<table border=\"1\" class=\"dataframe\">\n",
       "  <thead>\n",
       "    <tr style=\"text-align: right;\">\n",
       "      <th></th>\n",
       "      <th>Top 20 nodes by degree:</th>\n",
       "      <th>Degree</th>\n",
       "      <th>Top 20 nodes by betweenness:</th>\n",
       "      <th>Betweenness</th>\n",
       "    </tr>\n",
       "  </thead>\n",
       "  <tbody>\n",
       "    <tr>\n",
       "      <th>0</th>\n",
       "      <td>Thomas Efferth</td>\n",
       "      <td>215</td>\n",
       "      <td>Liang Liu</td>\n",
       "      <td>0.015874</td>\n",
       "    </tr>\n",
       "    <tr>\n",
       "      <th>1</th>\n",
       "      <td>Victor Kuete</td>\n",
       "      <td>105</td>\n",
       "      <td>Thomas Efferth</td>\n",
       "      <td>0.013342</td>\n",
       "    </tr>\n",
       "    <tr>\n",
       "      <th>2</th>\n",
       "      <td>Mohamed E.M. Saeed</td>\n",
       "      <td>94</td>\n",
       "      <td>Rui Wang</td>\n",
       "      <td>0.013169</td>\n",
       "    </tr>\n",
       "    <tr>\n",
       "      <th>3</th>\n",
       "      <td>Onat Kadioglu</td>\n",
       "      <td>93</td>\n",
       "      <td>Changxiao Liu</td>\n",
       "      <td>0.009825</td>\n",
       "    </tr>\n",
       "    <tr>\n",
       "      <th>4</th>\n",
       "      <td>Liang Liu</td>\n",
       "      <td>90</td>\n",
       "      <td>Jing Leng</td>\n",
       "      <td>0.009324</td>\n",
       "    </tr>\n",
       "    <tr>\n",
       "      <th>5</th>\n",
       "      <td>Xin Li</td>\n",
       "      <td>82</td>\n",
       "      <td>Ping Li</td>\n",
       "      <td>0.009130</td>\n",
       "    </tr>\n",
       "    <tr>\n",
       "      <th>6</th>\n",
       "      <td>Sara Abdelfatah</td>\n",
       "      <td>79</td>\n",
       "      <td>Wei Li</td>\n",
       "      <td>0.008639</td>\n",
       "    </tr>\n",
       "    <tr>\n",
       "      <th>7</th>\n",
       "      <td>Hiroshi Nakagawa</td>\n",
       "      <td>76</td>\n",
       "      <td>Xin Li</td>\n",
       "      <td>0.008033</td>\n",
       "    </tr>\n",
       "    <tr>\n",
       "      <th>8</th>\n",
       "      <td>Ean-Jeong Seo</td>\n",
       "      <td>75</td>\n",
       "      <td>Yujie Fu</td>\n",
       "      <td>0.008010</td>\n",
       "    </tr>\n",
       "    <tr>\n",
       "      <th>9</th>\n",
       "      <td>Janine Na{\\ss}</td>\n",
       "      <td>74</td>\n",
       "      <td>Yazhuo Li</td>\n",
       "      <td>0.006147</td>\n",
       "    </tr>\n",
       "    <tr>\n",
       "      <th>10</th>\n",
       "      <td>Henry J. Greten</td>\n",
       "      <td>72</td>\n",
       "      <td>Xin He</td>\n",
       "      <td>0.005742</td>\n",
       "    </tr>\n",
       "    <tr>\n",
       "      <th>11</th>\n",
       "      <td>Mita Banerjee</td>\n",
       "      <td>68</td>\n",
       "      <td>Tao Zhang</td>\n",
       "      <td>0.004776</td>\n",
       "    </tr>\n",
       "    <tr>\n",
       "      <th>12</th>\n",
       "      <td>Norbert W. Paul</td>\n",
       "      <td>68</td>\n",
       "      <td>Pei Luo</td>\n",
       "      <td>0.004725</td>\n",
       "    </tr>\n",
       "    <tr>\n",
       "      <th>13</th>\n",
       "      <td>Sami Hamdoun</td>\n",
       "      <td>68</td>\n",
       "      <td>Ying Wang</td>\n",
       "      <td>0.004498</td>\n",
       "    </tr>\n",
       "    <tr>\n",
       "      <th>14</th>\n",
       "      <td>Chunlan Hong</td>\n",
       "      <td>68</td>\n",
       "      <td>Ying Xie</td>\n",
       "      <td>0.004461</td>\n",
       "    </tr>\n",
       "    <tr>\n",
       "      <th>15</th>\n",
       "      <td>Ge Yan</td>\n",
       "      <td>68</td>\n",
       "      <td>Jin-Jian Lu</td>\n",
       "      <td>0.004432</td>\n",
       "    </tr>\n",
       "    <tr>\n",
       "      <th>16</th>\n",
       "      <td>Dipita Bhakta-Guha</td>\n",
       "      <td>68</td>\n",
       "      <td>Lili Wang</td>\n",
       "      <td>0.004393</td>\n",
       "    </tr>\n",
       "    <tr>\n",
       "      <th>17</th>\n",
       "      <td>Vanderlan Bolzani</td>\n",
       "      <td>68</td>\n",
       "      <td>Chang-xiao Liu</td>\n",
       "      <td>0.004298</td>\n",
       "    </tr>\n",
       "    <tr>\n",
       "      <th>18</th>\n",
       "      <td>Monika Efferth</td>\n",
       "      <td>68</td>\n",
       "      <td>Wei Liu</td>\n",
       "      <td>0.004225</td>\n",
       "    </tr>\n",
       "    <tr>\n",
       "      <th>19</th>\n",
       "      <td>Hassan E. Khalid</td>\n",
       "      <td>68</td>\n",
       "      <td>Rui Li</td>\n",
       "      <td>0.004153</td>\n",
       "    </tr>\n",
       "  </tbody>\n",
       "</table>\n",
       "</div>"
      ],
      "text/plain": [
       "   Top 20 nodes by degree:  Degree Top 20 nodes by betweenness:  Betweenness\n",
       "0           Thomas Efferth     215                    Liang Liu     0.015874\n",
       "1             Victor Kuete     105               Thomas Efferth     0.013342\n",
       "2       Mohamed E.M. Saeed      94                     Rui Wang     0.013169\n",
       "3            Onat Kadioglu      93                Changxiao Liu     0.009825\n",
       "4                Liang Liu      90                    Jing Leng     0.009324\n",
       "5                   Xin Li      82                      Ping Li     0.009130\n",
       "6          Sara Abdelfatah      79                       Wei Li     0.008639\n",
       "7         Hiroshi Nakagawa      76                       Xin Li     0.008033\n",
       "8            Ean-Jeong Seo      75                     Yujie Fu     0.008010\n",
       "9           Janine Na{\\ss}      74                    Yazhuo Li     0.006147\n",
       "10         Henry J. Greten      72                       Xin He     0.005742\n",
       "11           Mita Banerjee      68                    Tao Zhang     0.004776\n",
       "12         Norbert W. Paul      68                      Pei Luo     0.004725\n",
       "13            Sami Hamdoun      68                    Ying Wang     0.004498\n",
       "14            Chunlan Hong      68                     Ying Xie     0.004461\n",
       "15                  Ge Yan      68                  Jin-Jian Lu     0.004432\n",
       "16      Dipita Bhakta-Guha      68                    Lili Wang     0.004393\n",
       "17       Vanderlan Bolzani      68               Chang-xiao Liu     0.004298\n",
       "18          Monika Efferth      68                      Wei Liu     0.004225\n",
       "19        Hassan E. Khalid      68                       Rui Li     0.004153"
      ]
     },
     "execution_count": 52,
     "metadata": {},
     "output_type": "execute_result"
    }
   ],
   "source": [
    "#2015-2019\n",
    "network_insights(G3)"
   ]
  },
  {
   "cell_type": "code",
   "execution_count": null,
   "metadata": {},
   "outputs": [],
   "source": []
  },
  {
   "cell_type": "code",
   "execution_count": null,
   "metadata": {},
   "outputs": [],
   "source": []
  },
  {
   "cell_type": "code",
   "execution_count": null,
   "metadata": {},
   "outputs": [],
   "source": []
  },
  {
   "cell_type": "code",
   "execution_count": null,
   "metadata": {},
   "outputs": [],
   "source": []
  },
  {
   "cell_type": "code",
   "execution_count": null,
   "metadata": {},
   "outputs": [],
   "source": []
  },
  {
   "cell_type": "markdown",
   "metadata": {},
   "source": [
    "### Degree Distribution"
   ]
  },
  {
   "cell_type": "code",
   "execution_count": 53,
   "metadata": {},
   "outputs": [],
   "source": [
    "#degree distribution for all years combined\n",
    "def plotDegreeDistribution(G1): \n",
    "    c = Counter(list(dict(nx.degree(G1)).values()))\n",
    "    x, y =  zip(*sorted(c.items()))\n",
    "    #y = [float(i) / sum(y) for i in y]\n",
    "    plt.plot(x, y, 'bo', color = 'steelblue')\n",
    "    plt.xscale('log')\n",
    "\n",
    "    plt.yscale('log')\n",
    "    plt.legend(['Degree'])\n",
    "    plt.xlabel('Degree', fontsize = 10)\n",
    "    plt.ylabel('Frequency of Degree', fontsize = 10)\n",
    "    plt.title('$Degree\\,Distribution$', fontsize = 15)\n",
    "    plt.show()"
   ]
  },
  {
   "cell_type": "code",
   "execution_count": 54,
   "metadata": {},
   "outputs": [
    {
     "data": {
      "image/png": "[encoded data removed]",
      "text/plain": [
       "<Figure size 432x288 with 1 Axes>"
      ]
     },
     "metadata": {
      "needs_background": "light"
     },
     "output_type": "display_data"
    }
   ],
   "source": [
    "plotDegreeDistribution(G1)"
   ]
  },
  {
   "cell_type": "code",
   "execution_count": 55,
   "metadata": {},
   "outputs": [
    {
     "data": {
      "image/png": "[encoded data removed]",
      "text/plain": [
       "<Figure size 432x288 with 1 Axes>"
      ]
     },
     "metadata": {
      "needs_background": "light"
     },
     "output_type": "display_data"
    }
   ],
   "source": [
    "plotDegreeDistribution(G2)"
   ]
  },
  {
   "cell_type": "code",
   "execution_count": 56,
   "metadata": {
    "scrolled": true
   },
   "outputs": [
    {
     "data": {
      "image/png": "[encoded data removed]",
      "text/plain": [
       "<Figure size 432x288 with 1 Axes>"
      ]
     },
     "metadata": {
      "needs_background": "light"
     },
     "output_type": "display_data"
    }
   ],
   "source": [
    "plotDegreeDistribution(G3)"
   ]
  },
  {
   "cell_type": "markdown",
   "metadata": {},
   "source": [
    "### Co-Authorship Network Visualization"
   ]
  },
  {
   "cell_type": "code",
   "execution_count": 61,
   "metadata": {},
   "outputs": [],
   "source": [
    "# Visualize Co-Authorship Network\n",
    "\n",
    "def co_author_network_vis(G):\n",
    "\n",
    "    G = G     # Plot it\n",
    "    options = {'node_color': 'black','node_size': 1.5,'width': 0.5}\n",
    "\n",
    "    nx.draw(G, **options)\n",
    "    #plt.savefig(name)\n",
    "    plt.show()"
   ]
  },
  {
   "cell_type": "code",
   "execution_count": 62,
   "metadata": {
    "scrolled": false
   },
   "outputs": [
    {
     "data": {
      "image/png": "[encoded data removed]",
      "text/plain": [
       "<Figure size 432x288 with 1 Axes>"
      ]
     },
     "metadata": {},
     "output_type": "display_data"
    }
   ],
   "source": [
    "#Visualization 2005-2009\n",
    "co_author_network_vis(G1)"
   ]
  },
  {
   "cell_type": "code",
   "execution_count": 63,
   "metadata": {
    "scrolled": false
   },
   "outputs": [
    {
     "data": {
      "image/png": "[encoded data removed]",
      "text/plain": [
       "<Figure size 432x288 with 1 Axes>"
      ]
     },
     "metadata": {},
     "output_type": "display_data"
    }
   ],
   "source": [
    "#Visualization 2010-2014\n",
    "co_author_network_vis(G2)"
   ]
  },
  {
   "cell_type": "code",
   "execution_count": 64,
   "metadata": {},
   "outputs": [
    {
     "data": {
      "image/png": "[encoded data removed]",
      "text/plain": [
       "<Figure size 432x288 with 1 Axes>"
      ]
     },
     "metadata": {},
     "output_type": "display_data"
    }
   ],
   "source": [
    "#Visualization 2014-2015\n",
    "co_author_network_vis(G3)\n"
   ]
  },
  {
   "cell_type": "code",
   "execution_count": null,
   "metadata": {},
   "outputs": [],
   "source": []
  }
 ],
 "metadata": {
  "kernelspec": {
   "display_name": "Python [conda env:Python3]",
   "language": "python",
   "name": "conda-env-Python3-py"
  },
  "language_info": {
   "codemirror_mode": {
    "name": "ipython",
    "version": 3
   },
   "file_extension": ".py",
   "mimetype": "text/x-python",
   "name": "python",
   "nbconvert_exporter": "python",
   "pygments_lexer": "ipython3",
   "version": "3.6.10"
  }
 },
 "nbformat": 4,
 "nbformat_minor": 2
}
