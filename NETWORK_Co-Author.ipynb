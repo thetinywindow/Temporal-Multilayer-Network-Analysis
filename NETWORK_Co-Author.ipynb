{
 "cells": [
  {
   "cell_type": "code",
   "execution_count": 7,
   "metadata": {},
   "outputs": [
    {
     "name": "stdout",
     "output_type": "stream",
     "text": [
      "Requirement already satisfied: networkx in /opt/anaconda/envs/Python3/lib/python3.6/site-packages (2.4)\n",
      "Requirement already satisfied: decorator>=4.3.0 in /opt/anaconda/envs/Python3/lib/python3.6/site-packages (from networkx) (4.4.2)\n",
      "Note: you may need to restart the kernel to use updated packages.\n"
     ]
    }
   ],
   "source": [
    "pip install networkx"
   ]
  },
  {
   "cell_type": "code",
   "execution_count": 8,
   "metadata": {},
   "outputs": [],
   "source": [
    "import pandas as pd\n",
    "import numpy as np\n",
    "import codecs\n",
    "\n",
    "import os\n",
    "import ctypes\n",
    "import time\n",
    "from matplotlib import pyplot as plt\n",
    "\n",
    "import collections\n",
    "from collections import Counter\n",
    "\n",
    "import csv\n",
    "from operator import itemgetter\n",
    "\n",
    "import networkx as nx\n",
    "import networkx as nx\n",
    "from networkx.algorithms import community\n",
    "\n",
    "from itertools import combinations"
   ]
  },
  {
   "cell_type": "code",
   "execution_count": 9,
   "metadata": {},
   "outputs": [],
   "source": [
    "#pd.set_option('display.max_colwidth', -1)\n",
    "pd.set_option('display.max_rows', 500)\n",
    "pd.set_option('display.max_columns', 500)\n",
    "pd.set_option('display.width', 1000)"
   ]
  },
  {
   "cell_type": "markdown",
   "metadata": {},
   "source": [
    "# Co-Authorship Network"
   ]
  },
  {
   "cell_type": "code",
   "execution_count": 10,
   "metadata": {},
   "outputs": [
    {
     "name": "stdout",
     "output_type": "stream",
     "text": [
      "(4722, 67)\n"
     ]
    },
    {
     "data": {
      "text/plain": [
       "0          10.1109/TAES.2010.5595582\n",
       "1                  10.1021/ef100972f\n",
       "2         10.1016/j.fuel.2010.03.040\n",
       "3         10.1016/j.fuel.2010.01.019\n",
       "4        10.1016/j.ifset.2010.06.006\n",
       "                    ...             \n",
       "4717       10.1007/s11276-010-0253-3\n",
       "4718     10.1016/j.desal.2010.04.010\n",
       "4719    10.1016/j.cattod.2009.11.015\n",
       "4720               10.1021/ie100329z\n",
       "4721        10.1109/LPT.2010.2066555\n",
       "Name: AR, Length: 4722, dtype: object"
      ]
     },
     "execution_count": 10,
     "metadata": {},
     "output_type": "execute_result"
    }
   ],
   "source": [
    "#import main dataset\n",
    "df_main = pd.read_csv('combined_WoS')\n",
    "print(df_main.shape)\n",
    "df_main['AR']"
   ]
  },
  {
   "cell_type": "code",
   "execution_count": 11,
   "metadata": {},
   "outputs": [
    {
     "name": "stdout",
     "output_type": "stream",
     "text": [
      "(3518, 3)\n"
     ]
    },
    {
     "data": {
      "text/html": [
       "<div>\n",
       "<style scoped>\n",
       "    .dataframe tbody tr th:only-of-type {\n",
       "        vertical-align: middle;\n",
       "    }\n",
       "\n",
       "    .dataframe tbody tr th {\n",
       "        vertical-align: top;\n",
       "    }\n",
       "\n",
       "    .dataframe thead th {\n",
       "        text-align: right;\n",
       "    }\n",
       "</style>\n",
       "<table border=\"1\" class=\"dataframe\">\n",
       "  <thead>\n",
       "    <tr style=\"text-align: right;\">\n",
       "      <th></th>\n",
       "      <th>DOI</th>\n",
       "      <th>author</th>\n",
       "      <th>year</th>\n",
       "    </tr>\n",
       "  </thead>\n",
       "  <tbody>\n",
       "    <tr>\n",
       "      <th>0</th>\n",
       "      <td>10.1109/taes.2010.5595582</td>\n",
       "      <td>Todd E. Humph and Mark L. Psiaki and Brent M. ...</td>\n",
       "      <td>2010</td>\n",
       "    </tr>\n",
       "  </tbody>\n",
       "</table>\n",
       "</div>"
      ],
      "text/plain": [
       "                         DOI                                             author  year\n",
       "0  10.1109/taes.2010.5595582  Todd E. Humph and Mark L. Psiaki and Brent M. ...  2010"
      ]
     },
     "execution_count": 11,
     "metadata": {},
     "output_type": "execute_result"
    }
   ],
   "source": [
    "#import co-author biblio-dataset\n",
    "df_bib = pd.read_csv('SUPPORT_Co-Author_t=full.csv')\n",
    "print(df_bib.shape)\n",
    "#df_bib['DOI']\n",
    "df_bib.head(1)"
   ]
  },
  {
   "cell_type": "code",
   "execution_count": 12,
   "metadata": {},
   "outputs": [],
   "source": [
    "#set DOI as index for both dataframes\n",
    "##########################################################\n",
    "df_main = df_main.set_index('AR')\n",
    "df_bib = df_bib.set_index('DOI')"
   ]
  },
  {
   "cell_type": "code",
   "execution_count": 13,
   "metadata": {},
   "outputs": [
    {
     "name": "stdout",
     "output_type": "stream",
     "text": [
      "(2511, 68)\n"
     ]
    },
    {
     "data": {
      "text/html": [
       "<div>\n",
       "<style scoped>\n",
       "    .dataframe tbody tr th:only-of-type {\n",
       "        vertical-align: middle;\n",
       "    }\n",
       "\n",
       "    .dataframe tbody tr th {\n",
       "        vertical-align: top;\n",
       "    }\n",
       "\n",
       "    .dataframe thead th {\n",
       "        text-align: right;\n",
       "    }\n",
       "</style>\n",
       "<table border=\"1\" class=\"dataframe\">\n",
       "  <thead>\n",
       "    <tr style=\"text-align: right;\">\n",
       "      <th></th>\n",
       "      <th>author</th>\n",
       "      <th>year</th>\n",
       "      <th>PT</th>\n",
       "      <th>AU</th>\n",
       "      <th>BA</th>\n",
       "      <th>BE</th>\n",
       "      <th>GP</th>\n",
       "      <th>AF</th>\n",
       "      <th>BF</th>\n",
       "      <th>CA</th>\n",
       "      <th>TI</th>\n",
       "      <th>SO</th>\n",
       "      <th>SE</th>\n",
       "      <th>BS</th>\n",
       "      <th>LA</th>\n",
       "      <th>DT</th>\n",
       "      <th>CT</th>\n",
       "      <th>CY</th>\n",
       "      <th>CL</th>\n",
       "      <th>SP</th>\n",
       "      <th>HO</th>\n",
       "      <th>DE</th>\n",
       "      <th>ID</th>\n",
       "      <th>AB</th>\n",
       "      <th>C1</th>\n",
       "      <th>RP</th>\n",
       "      <th>EM</th>\n",
       "      <th>RI</th>\n",
       "      <th>OI</th>\n",
       "      <th>FU</th>\n",
       "      <th>FX</th>\n",
       "      <th>CR</th>\n",
       "      <th>NR</th>\n",
       "      <th>TC</th>\n",
       "      <th>Z9</th>\n",
       "      <th>U1</th>\n",
       "      <th>U2</th>\n",
       "      <th>PU</th>\n",
       "      <th>PI</th>\n",
       "      <th>PA</th>\n",
       "      <th>SN</th>\n",
       "      <th>EI</th>\n",
       "      <th>BN</th>\n",
       "      <th>J9</th>\n",
       "      <th>JI</th>\n",
       "      <th>PD</th>\n",
       "      <th>PY</th>\n",
       "      <th>VL</th>\n",
       "      <th>IS</th>\n",
       "      <th>PN</th>\n",
       "      <th>SU</th>\n",
       "      <th>SI</th>\n",
       "      <th>MA</th>\n",
       "      <th>BP</th>\n",
       "      <th>EP</th>\n",
       "      <th>DI</th>\n",
       "      <th>D2</th>\n",
       "      <th>EA</th>\n",
       "      <th>PG</th>\n",
       "      <th>WC</th>\n",
       "      <th>SC</th>\n",
       "      <th>GA</th>\n",
       "      <th>UT</th>\n",
       "      <th>PM</th>\n",
       "      <th>OA</th>\n",
       "      <th>HC</th>\n",
       "      <th>HP</th>\n",
       "      <th>DA</th>\n",
       "    </tr>\n",
       "  </thead>\n",
       "  <tbody>\n",
       "    <tr>\n",
       "      <th>10.1002/ad.2505</th>\n",
       "      <td>Roger Howie</td>\n",
       "      <td>2019</td>\n",
       "      <td>Howie, R</td>\n",
       "      <td>NaN</td>\n",
       "      <td>NaN</td>\n",
       "      <td>NaN</td>\n",
       "      <td>Howie, Roger</td>\n",
       "      <td>NaN</td>\n",
       "      <td>NaN</td>\n",
       "      <td>Test Bed: Communication Through Product Design</td>\n",
       "      <td>ARCHITECTURAL DESIGN</td>\n",
       "      <td>NaN</td>\n",
       "      <td>NaN</td>\n",
       "      <td>English</td>\n",
       "      <td>Article</td>\n",
       "      <td>NaN</td>\n",
       "      <td>NaN</td>\n",
       "      <td>NaN</td>\n",
       "      <td>NaN</td>\n",
       "      <td>NaN</td>\n",
       "      <td>Zaha Hadid Architects (ZHA); Zaha Hadid Design...</td>\n",
       "      <td>NaN</td>\n",
       "      <td>Zaha Hadid Architects has become a global bran...</td>\n",
       "      <td>[Howie, Roger] Zaha Hadid Architects, London, ...</td>\n",
       "      <td>Howie, R (reprint author), Zaha Hadid Architec...</td>\n",
       "      <td>NaN</td>\n",
       "      <td>NaN</td>\n",
       "      <td>NaN</td>\n",
       "      <td>NaN</td>\n",
       "      <td>NaN</td>\n",
       "      <td>Giovannini Joseph, 2013, FAST FORWARD, P33; He...</td>\n",
       "      <td>2</td>\n",
       "      <td>0</td>\n",
       "      <td>0</td>\n",
       "      <td>1</td>\n",
       "      <td>1</td>\n",
       "      <td>WILEY PERIODICALS, INC</td>\n",
       "      <td>SAN FRANCISCO</td>\n",
       "      <td>ONE MONTGOMERY ST, SUITE 1200, SAN FRANCISCO, ...</td>\n",
       "      <td>0003-8504</td>\n",
       "      <td>1554-2769</td>\n",
       "      <td>NaN</td>\n",
       "      <td>ARCHIT DESIGN</td>\n",
       "      <td>Archit. Des.</td>\n",
       "      <td>NOV</td>\n",
       "      <td>2019.0</td>\n",
       "      <td>89.0</td>\n",
       "      <td>6</td>\n",
       "      <td>NaN</td>\n",
       "      <td>NaN</td>\n",
       "      <td>SI</td>\n",
       "      <td>NaN</td>\n",
       "      <td>74</td>\n",
       "      <td>79</td>\n",
       "      <td>NaN</td>\n",
       "      <td>NaN</td>\n",
       "      <td>NaN</td>\n",
       "      <td>6</td>\n",
       "      <td>Architecture</td>\n",
       "      <td>Architecture</td>\n",
       "      <td>JI6UV</td>\n",
       "      <td>WOS:000493603100013</td>\n",
       "      <td>NaN</td>\n",
       "      <td>NaN</td>\n",
       "      <td>NaN</td>\n",
       "      <td>NaN</td>\n",
       "      <td>2020-03-09</td>\n",
       "      <td>NaN</td>\n",
       "    </tr>\n",
       "  </tbody>\n",
       "</table>\n",
       "</div>"
      ],
      "text/plain": [
       "                      author  year        PT   AU   BA   BE            GP   AF   BF                                              CA                    TI   SO  SE       BS       LA   DT   CT   CY   CL   SP                                                 HO   DE                                                 ID                                                 AB                                                 C1   RP   EM   RI   OI   FU                                                 FX  CR  NR  TC  Z9  U1                      U2             PU                                                 PI         PA         SN   EI             BN            J9   JI      PD    PY VL   IS   PN  SU  SI  MA  BP   EP   DI   D2  EA            PG            WC     SC                   GA  UT   PM  OA  HC          HP  DA\n",
       "10.1002/ad.2505  Roger Howie  2019  Howie, R  NaN  NaN  NaN  Howie, Roger  NaN  NaN  Test Bed: Communication Through Product Design  ARCHITECTURAL DESIGN  NaN NaN  English  Article  NaN  NaN  NaN  NaN  NaN  Zaha Hadid Architects (ZHA); Zaha Hadid Design...  NaN  Zaha Hadid Architects has become a global bran...  [Howie, Roger] Zaha Hadid Architects, London, ...  Howie, R (reprint author), Zaha Hadid Architec...  NaN  NaN  NaN  NaN  NaN  Giovannini Joseph, 2013, FAST FORWARD, P33; He...   2   0   0   1   1  WILEY PERIODICALS, INC  SAN FRANCISCO  ONE MONTGOMERY ST, SUITE 1200, SAN FRANCISCO, ...  0003-8504  1554-2769  NaN  ARCHIT DESIGN  Archit. Des.  NOV  2019.0  89.0  6  NaN  NaN  SI NaN  74  79  NaN  NaN  NaN   6  Architecture  Architecture  JI6UV  WOS:000493603100013 NaN  NaN NaN NaN  2020-03-09 NaN"
      ]
     },
     "execution_count": 13,
     "metadata": {},
     "output_type": "execute_result"
    }
   ],
   "source": [
    "df = pd.merge(df_bib, df_main, left_index=True, right_index=True)\n",
    "print(df.shape)\n",
    "df.head(1)"
   ]
  },
  {
   "cell_type": "code",
   "execution_count": 14,
   "metadata": {},
   "outputs": [],
   "source": [
    "## generic function to generate co-authorship network\n",
    "##########################################################\n",
    "def create_co_authorship_network(df,min_time,max_time):\n",
    "    df = df[df['PD'] <= max_time]\n",
    "    df = df[df['PD'] >= min_time]\n",
    "    df_authors = df['GP'].str.split(';', 20, expand=True)\n",
    "    df_authors = df_authors.replace(np.nan,np.nan)\n",
    "    \n",
    "    #all combinations (all with all)\n",
    "    df_authors['combinations'] = df_authors.apply(lambda r: list(combinations(r, 2)), axis=1)\n",
    "    count_row = df_authors.shape[0]-1\n",
    "    dataframe = pd.DataFrame([])\n",
    "    \n",
    "    for i in range(count_row):\n",
    "        res = df_authors.combinations.iloc[i]\n",
    "        res = pd.DataFrame(res)\n",
    "        res = res.dropna()\n",
    "        dataframe = dataframe.append(res, ignore_index=True)\n",
    "        \n",
    "    df_co_authors = dataframe\n",
    "    df_co_authors.columns =['AUTHOR', 'CO-AUTHOR'] \n",
    "    \n",
    "    return df_co_authors\n",
    "    #return df_authors"
   ]
  },
  {
   "cell_type": "code",
   "execution_count": 15,
   "metadata": {},
   "outputs": [],
   "source": [
    "#temporal co-authorship \n",
    "##########################################################\n",
    "\n",
    "#T3\n",
    "data_t1 = create_co_authorship_network(df,1999,2005)\n",
    "#T2\n",
    "data_t2 = create_co_authorship_network(df,2006,2012)\n",
    "#T1\n",
    "data_t3 = create_co_authorship_network(df,2013,2019)\n",
    "\n",
    "#data for complete timeframe\n",
    "data_t_complete = create_co_authorship_network(df,1900,2020)"
   ]
  },
  {
   "cell_type": "code",
   "execution_count": 16,
   "metadata": {},
   "outputs": [
    {
     "name": "stdout",
     "output_type": "stream",
     "text": [
      "(31520, 2)\n"
     ]
    },
    {
     "data": {
      "text/html": [
       "<div>\n",
       "<style scoped>\n",
       "    .dataframe tbody tr th:only-of-type {\n",
       "        vertical-align: middle;\n",
       "    }\n",
       "\n",
       "    .dataframe tbody tr th {\n",
       "        vertical-align: top;\n",
       "    }\n",
       "\n",
       "    .dataframe thead th {\n",
       "        text-align: right;\n",
       "    }\n",
       "</style>\n",
       "<table border=\"1\" class=\"dataframe\">\n",
       "  <thead>\n",
       "    <tr style=\"text-align: right;\">\n",
       "      <th></th>\n",
       "      <th>Source</th>\n",
       "      <th>Target</th>\n",
       "    </tr>\n",
       "  </thead>\n",
       "  <tbody>\n",
       "    <tr>\n",
       "      <th>0</th>\n",
       "      <td>Decamps, C</td>\n",
       "      <td>Norton, S</td>\n",
       "    </tr>\n",
       "    <tr>\n",
       "      <th>1</th>\n",
       "      <td>Decamps, C</td>\n",
       "      <td>Poncelet, D</td>\n",
       "    </tr>\n",
       "    <tr>\n",
       "      <th>2</th>\n",
       "      <td>Decamps, C</td>\n",
       "      <td>Neufeld, RJ</td>\n",
       "    </tr>\n",
       "    <tr>\n",
       "      <th>3</th>\n",
       "      <td>Norton, S</td>\n",
       "      <td>Poncelet, D</td>\n",
       "    </tr>\n",
       "    <tr>\n",
       "      <th>4</th>\n",
       "      <td>Norton, S</td>\n",
       "      <td>Neufeld, RJ</td>\n",
       "    </tr>\n",
       "  </tbody>\n",
       "</table>\n",
       "</div>"
      ],
      "text/plain": [
       "       Source        Target\n",
       "0  Decamps, C     Norton, S\n",
       "1  Decamps, C   Poncelet, D\n",
       "2  Decamps, C   Neufeld, RJ\n",
       "3   Norton, S   Poncelet, D\n",
       "4   Norton, S   Neufeld, RJ"
      ]
     },
     "execution_count": 16,
     "metadata": {},
     "output_type": "execute_result"
    }
   ],
   "source": [
    "data_t_complete = data_t_complete.rename(columns={'AUTHOR':'Source','CO-AUTHOR':'Target'})\n",
    "data_t1 = data_t1.rename(columns={'AUTHOR':'Source','CO-AUTHOR':'Target'})\n",
    "data_t2 = data_t2.rename(columns={'AUTHOR':'Source','CO-AUTHOR':'Target'})\n",
    "data_t3 = data_t3.rename(columns={'AUTHOR':'Source','CO-AUTHOR':'Target'})\n",
    "\n",
    "print(data_t_complete.shape)\n",
    "data_t_complete.head()"
   ]
  },
  {
   "cell_type": "code",
   "execution_count": 17,
   "metadata": {},
   "outputs": [],
   "source": [
    "#save time bin files\n",
    "data_t1.to_csv(r'NETWORK_Co-Author_t=2005_1999.csv', index= False)\n",
    "data_t2.to_csv(r'NETWORK_Co-Author_t=2012_2006.csv', index= False)\n",
    "data_t3.to_csv(r'NETWORK_Co-Author_t=2019_2013.csv', index= False)"
   ]
  },
  {
   "cell_type": "code",
   "execution_count": 18,
   "metadata": {},
   "outputs": [],
   "source": [
    "#save data for complete timeframe\n",
    "##########################################################\n",
    "data_t_complete.to_csv(r'NETWORK_Co-Author_t=full_final.csv', index= False)"
   ]
  },
  {
   "cell_type": "code",
   "execution_count": 22,
   "metadata": {},
   "outputs": [],
   "source": [
    "def paper2coauthor1_2(df, year_min, year_max): #,time_bin):\n",
    "    df = df[df['year']>=year_min]\n",
    "    df = df[df['year']<=year_max]\n",
    "\n",
    "    df_authors = df['author'].str.split(' and ', 20, expand=True)\n",
    "    df_authors = df_authors.replace(np.nan,np.nan)\n",
    "    \n",
    "    df_authors = df_authors.rename(columns={20: \"twenty\"})\n",
    "    df_authors = df_authors.replace(np.nan,\"titte\", regex=True)\n",
    "    df_authors = df_authors[df_authors[\"twenty\"].str.contains(\"titte\")]\n",
    "    df_authors = df_authors.replace({'titte': np.nan})\n",
    "        \n",
    "    x = pd.merge(df[\"DOI\"],df_authors,left_index=True, right_index=True)\n",
    "    \n",
    "    x = x.melt(id_vars = ['DOI'], value_name = \"Author\").drop(\"variable\", axis = 1).dropna()\n",
    "    #x = x.sort_values(by=['DOI'])\n",
    "    return x "
   ]
  },
  {
   "cell_type": "code",
   "execution_count": 23,
   "metadata": {},
   "outputs": [],
   "source": [
    "df_link = df_bib.copy()\n",
    "df_link = df_link.reset_index() #.rename({'index'})\n",
    "#df_link"
   ]
  },
  {
   "cell_type": "code",
   "execution_count": 31,
   "metadata": {},
   "outputs": [
    {
     "name": "stdout",
     "output_type": "stream",
     "text": [
      "(1979, 2)\n",
      "(3948, 2)\n",
      "(6928, 2)\n"
     ]
    }
   ],
   "source": [
    "#all links\n",
    "df_link = paper2coauthor1_2(df_link, 1900, 2020)\n",
    "\n",
    "#for timebins\n",
    "df_link_1999_2005 = paper2coauthor1_2(df_link, 1999, 2005)\n",
    "df_link_2006_2012 = paper2coauthor1_2(df_link, 2006, 2012)\n",
    "df_link_2013_2019 = paper2coauthor1_2(df_link, 2013, 2019)\n",
    "\n",
    "print(df_link_1999_2005.shape)\n",
    "print(df_link_2006_2012.shape)\n",
    "print(df_link_2013_2019.shape)"
   ]
  },
  {
   "cell_type": "code",
   "execution_count": 39,
   "metadata": {},
   "outputs": [
    {
     "name": "stdout",
     "output_type": "stream",
     "text": [
      "Author    4.311547\n",
      "dtype: float64\n",
      "Author    4.683274\n",
      "dtype: float64\n",
      "Author    4.987761\n",
      "dtype: float64\n"
     ]
    }
   ],
   "source": [
    "#authors per paper\n",
    "print(df_link_1999_2005.groupby('DOI').count().reset_index().mean())\n",
    "print(df_link_2006_2012.groupby('DOI').count().reset_index().mean())\n",
    "print(df_link_2013_2019.groupby('DOI').count().reset_index().mean())"
   ]
  },
  {
   "cell_type": "code",
   "execution_count": 33,
   "metadata": {},
   "outputs": [
    {
     "name": "stdout",
     "output_type": "stream",
     "text": [
      "DOI    1.075543\n",
      "dtype: float64\n",
      "DOI    1.105263\n",
      "dtype: float64\n",
      "DOI    1.113647\n",
      "dtype: float64\n"
     ]
    }
   ],
   "source": [
    "#papers per author\n",
    "print(df_link_1999_2005.groupby('Author').count().reset_index().mean())\n",
    "print(df_link_2006_2012.groupby('Author').count().reset_index().mean())\n",
    "print(df_link_2013_2019.groupby('Author').count().reset_index().mean())"
   ]
  },
  {
   "cell_type": "code",
   "execution_count": 81,
   "metadata": {},
   "outputs": [],
   "source": [
    "#create Doi to CoAuthor DF in MuxViz Format\n",
    "def Paper_CoAuthor_Mux(df, layer):\n",
    "    df['layer1'] = 1\n",
    "    df['layer2'] = layer\n",
    "    df = df[['DOI', 'layer1', 'Author', 'layer2']]\n",
    "    df.rename(columns={'DOI':'From','Author':'To'}, inplace=True)\n",
    "    df.To = df.To.str.strip()\n",
    "    df.From = df.From.str.strip()\n",
    "    return df"
   ]
  },
  {
   "cell_type": "code",
   "execution_count": 88,
   "metadata": {},
   "outputs": [
    {
     "name": "stdout",
     "output_type": "stream",
     "text": [
      "(15718, 4)\n"
     ]
    }
   ],
   "source": [
    "df_link_1_2 = Paper_CoAuthor_Mux(df_link, 2)\n",
    "print(df_link_1_2.shape)\n",
    "df_link_1_2.to_csv(r'SUPPORT_Co-Author_t=full_link12.csv', index= False)"
   ]
  },
  {
   "cell_type": "code",
   "execution_count": 89,
   "metadata": {},
   "outputs": [
    {
     "name": "stdout",
     "output_type": "stream",
     "text": [
      "(15718, 4)\n"
     ]
    }
   ],
   "source": [
    "df_link_1_3 = Paper_CoAuthor_Mux(df_link, 3)\n",
    "print(df_link_1_3.shape)\n",
    "df_link_1_3.to_csv(r'SUPPORT_Co-Author_t=full_link13.csv', index= False)"
   ]
  },
  {
   "cell_type": "markdown",
   "metadata": {},
   "source": [
    "----"
   ]
  },
  {
   "cell_type": "code",
   "execution_count": 5,
   "metadata": {},
   "outputs": [],
   "source": [
    "#re-import csv for quicker access to networkX\n",
    "data_t_complete = pd.read_csv('NETWORK_Co-Author_t=full_final.csv')\n",
    "data_t1 = pd.read_csv('NETWORK_Co-Author_t=2005_1999.csv')\n",
    "data_t2 = pd.read_csv('NETWORK_Co-Author_t=2012_2006.csv')\n",
    "data_t3 = pd.read_csv('NETWORK_Co-Author_t=2019_2013.csv')"
   ]
  },
  {
   "cell_type": "code",
   "execution_count": 7,
   "metadata": {},
   "outputs": [
    {
     "data": {
      "text/html": [
       "<div>\n",
       "<style scoped>\n",
       "    .dataframe tbody tr th:only-of-type {\n",
       "        vertical-align: middle;\n",
       "    }\n",
       "\n",
       "    .dataframe tbody tr th {\n",
       "        vertical-align: top;\n",
       "    }\n",
       "\n",
       "    .dataframe thead th {\n",
       "        text-align: right;\n",
       "    }\n",
       "</style>\n",
       "<table border=\"1\" class=\"dataframe\">\n",
       "  <thead>\n",
       "    <tr style=\"text-align: right;\">\n",
       "      <th></th>\n",
       "      <th>Number of Nodes</th>\n",
       "      <th>Number of Edges</th>\n",
       "      <th>Network Density</th>\n",
       "      <th>Average Degree</th>\n",
       "    </tr>\n",
       "  </thead>\n",
       "  <tbody>\n",
       "    <tr>\n",
       "      <th>1999-2005</th>\n",
       "      <td>1020</td>\n",
       "      <td>3010</td>\n",
       "      <td>0.005792</td>\n",
       "      <td>5.901961</td>\n",
       "    </tr>\n",
       "    <tr>\n",
       "      <th>2006-2012</th>\n",
       "      <td>2821</td>\n",
       "      <td>8507</td>\n",
       "      <td>0.002139</td>\n",
       "      <td>6.031195</td>\n",
       "    </tr>\n",
       "    <tr>\n",
       "      <th>2013-2019</th>\n",
       "      <td>5123</td>\n",
       "      <td>15787</td>\n",
       "      <td>0.001203</td>\n",
       "      <td>6.163186</td>\n",
       "    </tr>\n",
       "  </tbody>\n",
       "</table>\n",
       "</div>"
      ],
      "text/plain": [
       "           Number of Nodes  Number of Edges  Network Density  Average Degree\n",
       "1999-2005             1020             3010         0.005792        5.901961\n",
       "2006-2012             2821             8507         0.002139        6.031195\n",
       "2013-2019             5123            15787         0.001203        6.163186"
      ]
     },
     "execution_count": 7,
     "metadata": {},
     "output_type": "execute_result"
    }
   ],
   "source": [
    "# Create Networks (source = name linke column; target = name rechte columns; vllt anpasssen)\n",
    "G1 = nx.from_pandas_edgelist(data_t1, source=\"Source\", target=\"Target\")\n",
    "G2 = nx.from_pandas_edgelist(data_t2, source=\"Source\", target=\"Target\")\n",
    "G3 = nx.from_pandas_edgelist(data_t3, source=\"Source\", target=\"Target\")\n",
    "G_full = nx.from_pandas_edgelist(data_t_complete, source=\"Source\", target=\"Target\")\n",
    "\n",
    "\n",
    "# function \n",
    "def network_info(G,min_time,max_time): \n",
    "    network_info = pd.DataFrame([],[str(min_time)+\"-\"+str(max_time)], columns = [\"Number of Nodes\",\"Number of Edges\"])\n",
    "    \n",
    "    network_info[\"Number of Nodes\"] = G.number_of_nodes()\n",
    "    network_info[\"Number of Edges\"] = G.number_of_edges()\n",
    "    network_info[\"Network Density\"] = nx.density(G)\n",
    "    \n",
    "    G_deg = nx.degree_histogram(G)\n",
    "    G_deg_sum = [a * b for a, b in zip(G_deg, range(0, len(G_deg)))]\n",
    "    network_info[\"Average Degree\"] = (sum(G_deg_sum) / G.number_of_nodes())\n",
    "    \n",
    "    return network_info\n",
    "\n",
    "# application of function\n",
    "ni_1 = network_info(G1,1999,2005)\n",
    "ni_2 = network_info(G2,2006,2012)\n",
    "ni_3 = network_info(G3,2013,2019)\n",
    "\n",
    "info_networks = pd.concat([ni_1,ni_2,ni_3], axis=0)\n",
    "info_networks"
   ]
  },
  {
   "cell_type": "code",
   "execution_count": 8,
   "metadata": {},
   "outputs": [],
   "source": [
    "def degree_func(sorted_degree, topcount):\n",
    "    liste_d = []\n",
    "    for d in sorted_degree[:topcount]:\n",
    "        liste_d.append(d)\n",
    "    df_degree = pd.DataFrame(liste_d,columns = [\"Top nodes by degree:\", \"Degree\"])\n",
    "    return df_degree\n",
    "\n",
    "def betweenness_func(sorted_betweenness, topcount):\n",
    "    liste_b = []\n",
    "    for d in sorted_betweenness[:topcount]:\n",
    "        liste_b.append(d)\n",
    "    df_between = pd.DataFrame(liste_b,columns = [\"Top nodes by betweenness:\", \"Betweenness\"])\n",
    "    return df_between\n",
    "    \n",
    "def eigenvector_func(sorted_eigenvector, topcount):\n",
    "    liste_e = []\n",
    "    for d in sorted_eigenvector[:topcount]:\n",
    "        liste_e.append(d)\n",
    "    df_eigenvector = pd.DataFrame(liste_e,columns = [\"Top nodes eigenvector:\", \"eigenvector\"])\n",
    "    return df_eigenvector"
   ]
  },
  {
   "cell_type": "code",
   "execution_count": 9,
   "metadata": {},
   "outputs": [
    {
     "name": "stdout",
     "output_type": "stream",
     "text": [
      "10495\n",
      "7.4422105764649835\n",
      "632\n"
     ]
    },
    {
     "data": {
      "text/plain": [
       "(0.0007091872094973302,\n",
       " 0.00579191441051396,\n",
       " 0.0021387214935602032,\n",
       " 0.0012032771638847948)"
      ]
     },
     "execution_count": 9,
     "metadata": {},
     "output_type": "execute_result"
    }
   ],
   "source": [
    "degree_dict = dict(G_full.degree(G_full.nodes()))\n",
    "nx.set_node_attributes(G_full, degree_dict, 'degree')\n",
    "    \n",
    "#sort by degree\n",
    "sorted_degree = sorted(degree_dict.items(), key=itemgetter(1), reverse=True)\n",
    "df_g_full = pd.DataFrame(sorted_degree, columns=['name', 'degree'])\n",
    "\n",
    "print(len(df_g_full['degree']))\n",
    "print(df_g_full['degree'].mean())\n",
    "print(len(df_g_full.degree[df_g_full['degree']==1]))\n",
    "\n",
    "nx.density(G_full), nx.density(G1), nx.density(G2), nx.density(G3)"
   ]
  },
  {
   "cell_type": "markdown",
   "metadata": {},
   "source": [
    "### Deeper Network Analysis"
   ]
  },
  {
   "cell_type": "code",
   "execution_count": 51,
   "metadata": {},
   "outputs": [],
   "source": [
    "def network_insights(G, topcount):\n",
    "    \n",
    "    degree_dict = dict(G.degree(G.nodes()))\n",
    "    nx.set_node_attributes(G, degree_dict, 'degree')\n",
    "    \n",
    "    #sort by degree\n",
    "    sorted_degree = sorted(degree_dict.items(), key=itemgetter(1), reverse=True)\n",
    "    \n",
    "    betweenness_dict = nx.betweenness_centrality(G) # Run betweenness centrality\n",
    "    #eigenvector_dict = nx.eigenvector_centrality(G) # Run eigenvector centrality\n",
    "\n",
    "    # Assign each to an attribute in your network\n",
    "    nx.set_node_attributes(G, betweenness_dict, 'betweenness')\n",
    "    #nx.set_node_attributes(G, eigenvector_dict, 'eigenvector')\n",
    "    \n",
    "    #sort by betweenness / eigenvector\n",
    "    sorted_betweenness = sorted(betweenness_dict.items(), key=itemgetter(1), reverse=True)\n",
    "    #sorted_eigenvector = sorted(eigenvector_dict.items(), key=itemgetter(1), reverse=True)\n",
    "\n",
    "    network_insights = pd.DataFrame([], columns = [\"Top nodes by degree:\",\"Top nodes by betweenness centrality:\"])#,\"Top nodes by eigenvector:\"])\n",
    "    \n",
    "    df_degree = degree_func(sorted_degree, topcount)\n",
    "    df_between = betweenness_func(sorted_betweenness, topcount)\n",
    "    #df_eigenvector = eigenvector_func(sorted_eigenvector, topcount)\n",
    "    \n",
    "    network_insights = pd.concat([df_degree, df_between], axis=1, sort=False) #, df_eigenvector], axis=1, sort=False)\n",
    "    \n",
    "    return network_insights"
   ]
  },
  {
   "cell_type": "markdown",
   "metadata": {},
   "source": [
    "### Network exploration"
   ]
  },
  {
   "cell_type": "code",
   "execution_count": 54,
   "metadata": {},
   "outputs": [
    {
     "data": {
      "text/html": [
       "<div>\n",
       "<style scoped>\n",
       "    .dataframe tbody tr th:only-of-type {\n",
       "        vertical-align: middle;\n",
       "    }\n",
       "\n",
       "    .dataframe tbody tr th {\n",
       "        vertical-align: top;\n",
       "    }\n",
       "\n",
       "    .dataframe thead th {\n",
       "        text-align: right;\n",
       "    }\n",
       "</style>\n",
       "<table border=\"1\" class=\"dataframe\">\n",
       "  <thead>\n",
       "    <tr style=\"text-align: right;\">\n",
       "      <th></th>\n",
       "      <th>Top nodes by degree:</th>\n",
       "      <th>Degree</th>\n",
       "      <th>Top nodes by betweenness:</th>\n",
       "      <th>Betweenness</th>\n",
       "    </tr>\n",
       "  </thead>\n",
       "  <tbody>\n",
       "    <tr>\n",
       "      <th>0</th>\n",
       "      <td>Malato, Sixto</td>\n",
       "      <td>36</td>\n",
       "      <td>Malato, Sixto</td>\n",
       "      <td>0.000070</td>\n",
       "    </tr>\n",
       "    <tr>\n",
       "      <th>1</th>\n",
       "      <td>Malato, S.</td>\n",
       "      <td>33</td>\n",
       "      <td>Korakis, Thanasis</td>\n",
       "      <td>0.000059</td>\n",
       "    </tr>\n",
       "    <tr>\n",
       "      <th>2</th>\n",
       "      <td>Epple, Bernd</td>\n",
       "      <td>31</td>\n",
       "      <td>Brillas, Enric</td>\n",
       "      <td>0.000057</td>\n",
       "    </tr>\n",
       "    <tr>\n",
       "      <th>3</th>\n",
       "      <td>Sanchez, Luis</td>\n",
       "      <td>29</td>\n",
       "      <td>Sires, Ignasi</td>\n",
       "      <td>0.000057</td>\n",
       "    </tr>\n",
       "    <tr>\n",
       "      <th>4</th>\n",
       "      <td>Korakis, Thanasis</td>\n",
       "      <td>26</td>\n",
       "      <td>Sanchez, Luis</td>\n",
       "      <td>0.000040</td>\n",
       "    </tr>\n",
       "    <tr>\n",
       "      <th>5</th>\n",
       "      <td>Rieder, Alexander</td>\n",
       "      <td>25</td>\n",
       "      <td>Ott, Max</td>\n",
       "      <td>0.000036</td>\n",
       "    </tr>\n",
       "  </tbody>\n",
       "</table>\n",
       "</div>"
      ],
      "text/plain": [
       "  Top nodes by degree:  Degree Top nodes by betweenness:  Betweenness\n",
       "0        Malato, Sixto      36             Malato, Sixto     0.000070\n",
       "1           Malato, S.      33         Korakis, Thanasis     0.000059\n",
       "2         Epple, Bernd      31            Brillas, Enric     0.000057\n",
       "3        Sanchez, Luis      29             Sires, Ignasi     0.000057\n",
       "4    Korakis, Thanasis      26             Sanchez, Luis     0.000040\n",
       "5    Rieder, Alexander      25                  Ott, Max     0.000036"
      ]
     },
     "execution_count": 54,
     "metadata": {},
     "output_type": "execute_result"
    }
   ],
   "source": [
    "network_insights(G3, 6)"
   ]
  },
  {
   "cell_type": "code",
   "execution_count": 21,
   "metadata": {},
   "outputs": [],
   "source": [
    "degree_dict = dict(G1.degree(G1.nodes()))\n",
    "nx.set_node_attributes(G1, degree_dict, 'degree')\n",
    "\n",
    "sorted_degree = sorted(degree_dict.items(), key=itemgetter(1), reverse=True)"
   ]
  },
  {
   "cell_type": "code",
   "execution_count": 22,
   "metadata": {},
   "outputs": [],
   "source": [
    "betweenness_dict = nx.betweenness_centrality(G1) # Run betweenness centrality\n",
    "nx.set_node_attributes(G1, betweenness_dict, 'betweenness')\n",
    "\n",
    "sorted_betweenness = sorted(betweenness_dict.items(), key=itemgetter(1), reverse=True)"
   ]
  },
  {
   "cell_type": "code",
   "execution_count": 23,
   "metadata": {},
   "outputs": [],
   "source": [
    "eigenvector_dict = nx.eigenvector_centrality(G1) # Run eigenvector centrality\n",
    "nx.set_node_attributes(G1, eigenvector_dict, 'eigenvector')\n",
    "\n",
    "sorted_eigenvector = sorted(eigenvector_dict.items(), key=itemgetter(1), reverse=True)"
   ]
  },
  {
   "cell_type": "code",
   "execution_count": 24,
   "metadata": {},
   "outputs": [
    {
     "data": {
      "text/html": [
       "<div>\n",
       "<style scoped>\n",
       "    .dataframe tbody tr th:only-of-type {\n",
       "        vertical-align: middle;\n",
       "    }\n",
       "\n",
       "    .dataframe tbody tr th {\n",
       "        vertical-align: top;\n",
       "    }\n",
       "\n",
       "    .dataframe thead th {\n",
       "        text-align: right;\n",
       "    }\n",
       "</style>\n",
       "<table border=\"1\" class=\"dataframe\">\n",
       "  <thead>\n",
       "    <tr style=\"text-align: right;\">\n",
       "      <th></th>\n",
       "      <th>Betweenness</th>\n",
       "      <th>Degree</th>\n",
       "      <th>Eigenvector</th>\n",
       "    </tr>\n",
       "    <tr>\n",
       "      <th>Name</th>\n",
       "      <th></th>\n",
       "      <th></th>\n",
       "      <th></th>\n",
       "    </tr>\n",
       "  </thead>\n",
       "  <tbody>\n",
       "    <tr>\n",
       "      <th>Malato, S</th>\n",
       "      <td>0.000233</td>\n",
       "      <td>16</td>\n",
       "      <td>1.928123e-13</td>\n",
       "    </tr>\n",
       "    <tr>\n",
       "      <th>Remington, BA</th>\n",
       "      <td>0.000212</td>\n",
       "      <td>21</td>\n",
       "      <td>3.072585e-09</td>\n",
       "    </tr>\n",
       "    <tr>\n",
       "      <th>Gernjak, W</th>\n",
       "      <td>0.000193</td>\n",
       "      <td>11</td>\n",
       "      <td>1.251452e-13</td>\n",
       "    </tr>\n",
       "    <tr>\n",
       "      <th>Clark, JD</th>\n",
       "      <td>0.000191</td>\n",
       "      <td>28</td>\n",
       "      <td>1.174753e-04</td>\n",
       "    </tr>\n",
       "    <tr>\n",
       "      <th>Shah, AS</th>\n",
       "      <td>0.000162</td>\n",
       "      <td>27</td>\n",
       "      <td>1.161040e-04</td>\n",
       "    </tr>\n",
       "    <tr>\n",
       "      <th>Lane, BF</th>\n",
       "      <td>0.000162</td>\n",
       "      <td>19</td>\n",
       "      <td>9.916770e-05</td>\n",
       "    </tr>\n",
       "    <tr>\n",
       "      <th>Colavita, MM</th>\n",
       "      <td>0.000073</td>\n",
       "      <td>3</td>\n",
       "      <td>6.632119e-06</td>\n",
       "    </tr>\n",
       "    <tr>\n",
       "      <th>Caceres, J</th>\n",
       "      <td>0.000054</td>\n",
       "      <td>12</td>\n",
       "      <td>1.727955e-13</td>\n",
       "    </tr>\n",
       "    <tr>\n",
       "      <th>Aguera, A</th>\n",
       "      <td>0.000053</td>\n",
       "      <td>11</td>\n",
       "      <td>1.679212e-13</td>\n",
       "    </tr>\n",
       "    <tr>\n",
       "      <th>Fernandez-Alba, AR</th>\n",
       "      <td>0.000053</td>\n",
       "      <td>11</td>\n",
       "      <td>1.679212e-13</td>\n",
       "    </tr>\n",
       "  </tbody>\n",
       "</table>\n",
       "</div>"
      ],
      "text/plain": [
       "                     Betweenness  Degree   Eigenvector\n",
       "Name                                                  \n",
       " Malato, S              0.000233      16  1.928123e-13\n",
       " Remington, BA          0.000212      21  3.072585e-09\n",
       " Gernjak, W             0.000193      11  1.251452e-13\n",
       "Clark, JD               0.000191      28  1.174753e-04\n",
       " Shah, AS               0.000162      27  1.161040e-04\n",
       " Lane, BF               0.000162      19  9.916770e-05\n",
       " Colavita, MM           0.000073       3  6.632119e-06\n",
       " Caceres, J             0.000054      12  1.727955e-13\n",
       " Aguera, A              0.000053      11  1.679212e-13\n",
       " Fernandez-Alba, AR     0.000053      11  1.679212e-13"
      ]
     },
     "execution_count": 24,
     "metadata": {},
     "output_type": "execute_result"
    }
   ],
   "source": [
    "#First get the top 20 nodes by betweenness as a list\n",
    "top_betweenness = sorted_betweenness[:10]\n",
    "\n",
    "#Then find and print their degree\n",
    "output = []\n",
    "\n",
    "for tb in top_betweenness: # Loop through top_betweenness    \n",
    "    degree = degree_dict[tb[0]] \n",
    "    eigenvector = eigenvector_dict[tb[0]]\n",
    "    \n",
    "    append_list = [tb[0],tb[1],degree,eigenvector]\n",
    "    output.append(append_list)\n",
    "    \n",
    "output = pd.DataFrame(output, columns=['Name','Betweenness','Degree','Eigenvector'])\n",
    "output.set_index('Name')"
   ]
  },
  {
   "cell_type": "code",
   "execution_count": 37,
   "metadata": {},
   "outputs": [],
   "source": [
    "#degree distribution for all years combined\n",
    "def plotDegreeDistribution(G, name): \n",
    "    c = Counter(list(dict(nx.degree(G)).values()))\n",
    "    x, y =  zip(*sorted(c.items()))\n",
    "    #y = [float(i) / sum(y) for i in y]\n",
    "    plt.plot(x, y, 'bo')\n",
    "    plt.xscale('log')\n",
    "    plt.yscale('log')\n",
    "    plt.legend(['Degree'])\n",
    "    plt.xlabel('Degree', fontsize = 10)\n",
    "    plt.ylabel('Frequency of Degree', fontsize = 10)\n",
    "    plt.title('$Degree\\,Distribution$', fontsize = 20)\n",
    "    plt.savefig(name)\n",
    "    plt.show()"
   ]
  },
  {
   "cell_type": "code",
   "execution_count": 40,
   "metadata": {},
   "outputs": [
    {
     "data": {
      "image/png": "[encoded data removed]",
      "text/plain": [
       "<Figure size 432x288 with 1 Axes>"
      ]
     },
     "metadata": {
      "needs_background": "light"
     },
     "output_type": "display_data"
    }
   ],
   "source": [
    "plotDegreeDistribution(G3,'degree_distribution_p2p_2013.png')"
   ]
  },
  {
   "cell_type": "code",
   "execution_count": null,
   "metadata": {},
   "outputs": [],
   "source": [
    "savefig(fname, dpi=None, facecolor='w', edgecolor='w',\n",
    "        orientation='portrait', papertype=None, format=None,\n",
    "        transparent=False, bbox_inches=None, pad_inches=0.1,\n",
    "        frameon=None, metadata=None)"
   ]
  },
  {
   "cell_type": "markdown",
   "metadata": {},
   "source": [
    "### Co-Authorship Network Visualization"
   ]
  },
  {
   "cell_type": "code",
   "execution_count": 88,
   "metadata": {},
   "outputs": [],
   "source": [
    "# Visualize Co-Authorship Network\n",
    "\n",
    "def co_author_network_vis(df):\n",
    "    #Visualization 1989-1999\n",
    "    df_co = df\n",
    "    co_1 = nx.from_pandas_edgelist(df_co, source='AUTHOR', target='CO-AUTHOR') \n",
    "\n",
    "    # Plot it\n",
    "    options = {'node_color': 'black','node_size': 1,'width': 0.005}\n",
    "\n",
    "    nx.draw(co_1, **options)\n",
    "    plt.show()"
   ]
  },
  {
   "cell_type": "code",
   "execution_count": 89,
   "metadata": {},
   "outputs": [
    {
     "data": {
      "image/png": "[encoded data removed]",
      "text/plain": [
       "<Figure size 432x288 with 1 Axes>"
      ]
     },
     "metadata": {},
     "output_type": "display_data"
    }
   ],
   "source": [
    "#Visualization until 2010\n",
    "\n",
    "data_t1_vis = co_author_network_vis(data_t1)\n",
    "data_t1_vis"
   ]
  },
  {
   "cell_type": "code",
   "execution_count": 90,
   "metadata": {},
   "outputs": [],
   "source": [
    "#Visualization until 2015\n",
    "\n",
    "#data_t2_vis = co_author_network_vis(data_t2)\n",
    "#data_t2_vis"
   ]
  },
  {
   "cell_type": "code",
   "execution_count": 91,
   "metadata": {},
   "outputs": [],
   "source": [
    "#Visualization until 2020\n",
    "\n",
    "#data_t3_vis = co_author_network_vis(data_t3)\n",
    "#data_t3_vis"
   ]
  },
  {
   "cell_type": "markdown",
   "metadata": {},
   "source": [
    "----"
   ]
  }
 ],
 "metadata": {
  "kernelspec": {
   "display_name": "Python [conda env:Python3]",
   "language": "python",
   "name": "conda-env-Python3-py"
  },
  "language_info": {
   "codemirror_mode": {
    "name": "ipython",
    "version": 3
   },
   "file_extension": ".py",
   "mimetype": "text/x-python",
   "name": "python",
   "nbconvert_exporter": "python",
   "pygments_lexer": "ipython3",
   "version": "3.6.10"
  }
 },
 "nbformat": 4,
 "nbformat_minor": 2
}
